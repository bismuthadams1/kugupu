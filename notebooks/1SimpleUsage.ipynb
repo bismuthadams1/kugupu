{
 "cells": [
  {
   "cell_type": "markdown",
   "metadata": {},
   "source": [
    "## Using kugupu to calculate molecular coupling networks\n",
    "\n",
    "This notebook demonstrates how to calculate molecular coupling between fragments, inspect the results and save and load these results."
   ]
  },
  {
   "cell_type": "code",
   "execution_count": 11,
   "metadata": {},
   "outputs": [],
   "source": [
    "import MDAnalysis as mda\n",
    "import kugupu as kgp\n",
    "import numpy as np\n",
    "import yaehmop"
   ]
  },
  {
   "cell_type": "markdown",
   "metadata": {},
   "source": [
    "Firstly we create an `MDAnalysis.Universe` object.  This Universe will need to have bonds and atom names."
   ]
  },
  {
   "cell_type": "code",
   "execution_count": 12,
   "metadata": {},
   "outputs": [],
   "source": [
    "u = mda.Universe('./out.pdb.bz2', '../kugupu/data/last20.dcd')"
   ]
  },
  {
   "cell_type": "markdown",
   "metadata": {},
   "source": [
    "This system has 46,500 atoms in 250 different fragments."
   ]
  },
  {
   "cell_type": "code",
   "execution_count": 41,
   "metadata": {},
   "outputs": [
    {
     "name": "stdout",
     "output_type": "stream",
     "text": [
      "46500 250\n"
     ]
    }
   ],
   "source": [
    "print(u.atoms.n_atoms, u.atoms.n_fragments)"
   ]
  },
  {
   "cell_type": "markdown",
   "metadata": {},
   "source": [
    "Our dynamics simulation has 20 frames of results."
   ]
  },
  {
   "cell_type": "code",
   "execution_count": 43,
   "metadata": {},
   "outputs": [
    {
     "name": "stdout",
     "output_type": "stream",
     "text": [
      "20\n"
     ]
    }
   ],
   "source": [
    "print(u.trajectory.n_frames)"
   ]
  },
  {
   "cell_type": "markdown",
   "metadata": {},
   "source": [
    "The coupling matrix is calculated using the `kgp.coupling_matrix` function.\n",
    "\n",
    "Here we are calculating the coupling matrix for fragments in the Universe `u` where\n",
    "- coupling is calculated between fragments with a closest approach of less than 5.0 Angstrom\n",
    "- coupling is calculated between the LUMO upwards\n",
    "- one state per fragment is considered\n",
    "- the analysis stops at frame 5\n",
    "- with a stride of 2 frames over the trajectory "
   ]
  },
  {
   "cell_type": "code",
   "execution_count": 21,
   "metadata": {},
   "outputs": [
    {
     "name": "stderr",
     "output_type": "stream",
     "text": [
      "2019-04-12T11:58:43.214539+0100 INFO Processing 3 frames\n",
      "2019-04-12T11:58:43.515784+0100 INFO Processing frame 1 of 3\n",
      "2019-04-12T11:58:43.818020+0100 INFO Finding dimers within 5.0, passed 250 fragments\n",
      "2019-04-12T11:58:45.888178+0100 INFO Found 2244 dimers\n",
      "100%|██████████| 2244/2244 [01:22<00:00, 30.15it/s]\n",
      "2019-04-12T12:00:08.354719+0100 INFO Processing frame 2 of 3\n",
      "2019-04-12T12:00:08.720357+0100 INFO Finding dimers within 5.0, passed 250 fragments\n",
      "2019-04-12T12:00:10.760621+0100 INFO Found 2134 dimers\n",
      "100%|██████████| 2134/2134 [01:22<00:00, 28.44it/s]\n",
      "2019-04-12T12:01:33.292721+0100 INFO Processing frame 3 of 3\n",
      "2019-04-12T12:01:33.696083+0100 INFO Finding dimers within 5.0, passed 250 fragments\n",
      "2019-04-12T12:01:35.871967+0100 INFO Found 2133 dimers\n",
      "100%|██████████| 2133/2133 [01:21<00:00, 26.32it/s]\n",
      "2019-04-12T12:02:56.919020+0100 INFO Done!\n"
     ]
    }
   ],
   "source": [
    "res = kgp.coupling_matrix(u, nn_cutoff=5.0, state='lumo', degeneracy=1, stop=5, step=2)"
   ]
  },
  {
   "cell_type": "markdown",
   "metadata": {},
   "source": [
    "The `res` object is a namedtuple which contains all the data necessary to perform further analysis.\n",
    "This object has various attributes which will not be briefly explained.\n",
    "\n",
    "The `.frames` attribute records which frames from the trajectory were analysed.\n",
    "This is useful to later compare positions of fragments with the coupling values."
   ]
  },
  {
   "cell_type": "code",
   "execution_count": 27,
   "metadata": {},
   "outputs": [
    {
     "name": "stdout",
     "output_type": "stream",
     "text": [
      "[0 2 4]\n"
     ]
    }
   ],
   "source": [
    "print(res.frames)"
   ]
  },
  {
   "cell_type": "markdown",
   "metadata": {},
   "source": [
    "The `.degeneracy` attribute stores how many degenerate states were considered for each fragment.\n",
    "This value will not change over time, so this array has shape `nfragments`.\n",
    "\n",
    "In this example only a single state per fragment was considered. "
   ]
  },
  {
   "cell_type": "code",
   "execution_count": 28,
   "metadata": {},
   "outputs": [
    {
     "name": "stdout",
     "output_type": "stream",
     "text": [
      "[1 1 1 1 1 1 1 1 1 1 1 1 1 1 1 1 1 1 1 1 1 1 1 1 1 1 1 1 1 1 1 1 1 1 1 1 1\n",
      " 1 1 1 1 1 1 1 1 1 1 1 1 1 1 1 1 1 1 1 1 1 1 1 1 1 1 1 1 1 1 1 1 1 1 1 1 1\n",
      " 1 1 1 1 1 1 1 1 1 1 1 1 1 1 1 1 1 1 1 1 1 1 1 1 1 1 1 1 1 1 1 1 1 1 1 1 1\n",
      " 1 1 1 1 1 1 1 1 1 1 1 1 1 1 1 1 1 1 1 1 1 1 1 1 1 1 1 1 1 1 1 1 1 1 1 1 1\n",
      " 1 1 1 1 1 1 1 1 1 1 1 1 1 1 1 1 1 1 1 1 1 1 1 1 1 1 1 1 1 1 1 1 1 1 1 1 1\n",
      " 1 1 1 1 1 1 1 1 1 1 1 1 1 1 1 1 1 1 1 1 1 1 1 1 1 1 1 1 1 1 1 1 1 1 1 1 1\n",
      " 1 1 1 1 1 1 1 1 1 1 1 1 1 1 1 1 1 1 1 1 1 1 1 1 1 1 1 1]\n"
     ]
    }
   ],
   "source": [
    "print(res.degeneracy)"
   ]
  },
  {
   "cell_type": "markdown",
   "metadata": {},
   "source": [
    "The `.H_frag` attribute contains the molecular coupling values, stored inside a 3d numpy array.\n",
    "The first dimension is along the number of frames (quasi time axis),\n",
    "while the other two move along fragments in the system.\n",
    "\n",
    "For example `res.H_frag[0, 1, 12]` gives the coupling (in eV) between the 2nd and 13th fragments in the first frame."
   ]
  },
  {
   "cell_type": "code",
   "execution_count": 33,
   "metadata": {},
   "outputs": [
    {
     "name": "stdout",
     "output_type": "stream",
     "text": [
      "(3, 250, 250)\n",
      "2.9479195706142796e-05\n"
     ]
    }
   ],
   "source": [
    "print(res.H_frag.shape)\n",
    "\n",
    "print(res.H_frag[0, 1, 12])"
   ]
  },
  {
   "cell_type": "markdown",
   "metadata": {},
   "source": [
    "Producing these results is often a time consuming part of the analysis,\n",
    "therefore it is wise to save them to a file so you can come back to them later!\n",
    "\n",
    "This can be done using the `kugupu.save_results` function, which will save the results to a hdf5 (compressed) format.\n",
    "These results can later be retrieved using the `kugupu.load_results` function."
   ]
  },
  {
   "cell_type": "code",
   "execution_count": 35,
   "metadata": {},
   "outputs": [],
   "source": [
    "kgp.save_results('myresults.hdf5', res)"
   ]
  },
  {
   "cell_type": "markdown",
   "metadata": {},
   "source": [
    "These results can then be retrieved again using the `kugupu.load_results` function:"
   ]
  },
  {
   "cell_type": "code",
   "execution_count": 37,
   "metadata": {},
   "outputs": [
    {
     "data": {
      "text/plain": [
       "KugupuResults(frames=array([0, 2, 4]), H_frag=array([[[-1.10273229e+01,  0.00000000e+00,  0.00000000e+00, ...,\n",
       "          0.00000000e+00,  0.00000000e+00,  0.00000000e+00],\n",
       "        [ 0.00000000e+00, -1.12064372e+01,  0.00000000e+00, ...,\n",
       "          0.00000000e+00,  0.00000000e+00,  0.00000000e+00],\n",
       "        [ 0.00000000e+00,  0.00000000e+00, -1.03646964e+01, ...,\n",
       "          0.00000000e+00,  5.03681664e-04,  0.00000000e+00],\n",
       "        ...,\n",
       "        [ 0.00000000e+00,  0.00000000e+00,  0.00000000e+00, ...,\n",
       "         -1.03393511e+01,  0.00000000e+00,  0.00000000e+00],\n",
       "        [ 0.00000000e+00,  0.00000000e+00,  5.03681664e-04, ...,\n",
       "          0.00000000e+00, -1.02979008e+01,  0.00000000e+00],\n",
       "        [ 0.00000000e+00,  0.00000000e+00,  0.00000000e+00, ...,\n",
       "          0.00000000e+00,  0.00000000e+00, -1.05113036e+01]],\n",
       "\n",
       "       [[-1.09286240e+01,  0.00000000e+00,  0.00000000e+00, ...,\n",
       "          0.00000000e+00,  0.00000000e+00,  0.00000000e+00],\n",
       "        [ 0.00000000e+00, -1.07579111e+01,  0.00000000e+00, ...,\n",
       "          0.00000000e+00,  0.00000000e+00,  0.00000000e+00],\n",
       "        [ 0.00000000e+00,  0.00000000e+00, -1.09897891e+01, ...,\n",
       "          0.00000000e+00,  6.69804438e-18,  0.00000000e+00],\n",
       "        ...,\n",
       "        [ 0.00000000e+00,  0.00000000e+00,  0.00000000e+00, ...,\n",
       "         -1.02706660e+01,  0.00000000e+00,  0.00000000e+00],\n",
       "        [ 0.00000000e+00,  0.00000000e+00,  6.69804438e-18, ...,\n",
       "          0.00000000e+00, -1.02708589e+01,  0.00000000e+00],\n",
       "        [ 0.00000000e+00,  0.00000000e+00,  0.00000000e+00, ...,\n",
       "          0.00000000e+00,  0.00000000e+00, -1.03235216e+01]],\n",
       "\n",
       "       [[-1.01835773e+01,  0.00000000e+00,  0.00000000e+00, ...,\n",
       "          0.00000000e+00,  0.00000000e+00,  0.00000000e+00],\n",
       "        [ 0.00000000e+00, -1.06413784e+01,  0.00000000e+00, ...,\n",
       "          0.00000000e+00,  0.00000000e+00,  0.00000000e+00],\n",
       "        [ 0.00000000e+00,  0.00000000e+00, -1.08133111e+01, ...,\n",
       "          0.00000000e+00,  1.09998691e-05,  0.00000000e+00],\n",
       "        ...,\n",
       "        [ 0.00000000e+00,  0.00000000e+00,  0.00000000e+00, ...,\n",
       "         -1.03408240e+01,  0.00000000e+00,  0.00000000e+00],\n",
       "        [ 0.00000000e+00,  0.00000000e+00,  1.09998691e-05, ...,\n",
       "          0.00000000e+00, -1.02793804e+01,  0.00000000e+00],\n",
       "        [ 0.00000000e+00,  0.00000000e+00,  0.00000000e+00, ...,\n",
       "          0.00000000e+00,  0.00000000e+00, -1.03805934e+01]]]), degeneracy=array([1, 1, 1, 1, 1, 1, 1, 1, 1, 1, 1, 1, 1, 1, 1, 1, 1, 1, 1, 1, 1, 1,\n",
       "       1, 1, 1, 1, 1, 1, 1, 1, 1, 1, 1, 1, 1, 1, 1, 1, 1, 1, 1, 1, 1, 1,\n",
       "       1, 1, 1, 1, 1, 1, 1, 1, 1, 1, 1, 1, 1, 1, 1, 1, 1, 1, 1, 1, 1, 1,\n",
       "       1, 1, 1, 1, 1, 1, 1, 1, 1, 1, 1, 1, 1, 1, 1, 1, 1, 1, 1, 1, 1, 1,\n",
       "       1, 1, 1, 1, 1, 1, 1, 1, 1, 1, 1, 1, 1, 1, 1, 1, 1, 1, 1, 1, 1, 1,\n",
       "       1, 1, 1, 1, 1, 1, 1, 1, 1, 1, 1, 1, 1, 1, 1, 1, 1, 1, 1, 1, 1, 1,\n",
       "       1, 1, 1, 1, 1, 1, 1, 1, 1, 1, 1, 1, 1, 1, 1, 1, 1, 1, 1, 1, 1, 1,\n",
       "       1, 1, 1, 1, 1, 1, 1, 1, 1, 1, 1, 1, 1, 1, 1, 1, 1, 1, 1, 1, 1, 1,\n",
       "       1, 1, 1, 1, 1, 1, 1, 1, 1, 1, 1, 1, 1, 1, 1, 1, 1, 1, 1, 1, 1, 1,\n",
       "       1, 1, 1, 1, 1, 1, 1, 1, 1, 1, 1, 1, 1, 1, 1, 1, 1, 1, 1, 1, 1, 1,\n",
       "       1, 1, 1, 1, 1, 1, 1, 1, 1, 1, 1, 1, 1, 1, 1, 1, 1, 1, 1, 1, 1, 1,\n",
       "       1, 1, 1, 1, 1, 1, 1, 1]))"
      ]
     },
     "execution_count": 37,
     "metadata": {},
     "output_type": "execute_result"
    }
   ],
   "source": [
    "kgp.load_results('./myresults.hdf5')"
   ]
  },
  {
   "cell_type": "code",
   "execution_count": null,
   "metadata": {},
   "outputs": [],
   "source": []
  }
 ],
 "metadata": {
  "kernelspec": {
   "display_name": "Python 3",
   "language": "python",
   "name": "python3"
  },
  "language_info": {
   "codemirror_mode": {
    "name": "ipython",
    "version": 3
   },
   "file_extension": ".py",
   "mimetype": "text/x-python",
   "name": "python",
   "nbconvert_exporter": "python",
   "pygments_lexer": "ipython3",
   "version": "3.6.7"
  }
 },
 "nbformat": 4,
 "nbformat_minor": 2
}
