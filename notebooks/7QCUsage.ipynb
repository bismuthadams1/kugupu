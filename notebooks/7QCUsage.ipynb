{
 "cells": [
  {
   "cell_type": "markdown",
   "metadata": {},
   "source": [
    "# Using `kugupu` to calculate molecular coupling networks WITH ML\n",
    "\n",
    "This notebook demonstrates how to calculate molecular coupling between fragments, inspect the results and save and load these results to file.  These results files will be the basis of all further analysis done using the `kugupu` package.\n",
    "\n",
    "This will require version 0.20.0 of MDAnalysis, and kugupu to be installed."
   ]
  },
  {
   "cell_type": "code",
   "execution_count": 1,
   "metadata": {},
   "outputs": [
    {
     "name": "stdout",
     "output_type": "stream",
     "text": [
      "models available\n",
      "{'ocelotml': <class 'kugupu.ocelotl_model.OcelotMLModel'>, 'yaehmop': <class 'kugupu.yaehmop.YaehmopModel'>}\n"
     ]
    }
   ],
   "source": [
    "import MDAnalysis as mda\n",
    "import numpy as np\n",
    "import kugupu as kgp"
   ]
  },
  {
   "cell_type": "markdown",
   "metadata": {},
   "source": [
    "Firstly we create an `MDAnalysis.Universe` object from our simulation files:"
   ]
  },
  {
   "cell_type": "code",
   "execution_count": 2,
   "metadata": {},
   "outputs": [
    {
     "name": "stderr",
     "output_type": "stream",
     "text": [
      "/Users/k2584788/.local/share/mamba/envs/forked_kugupu/lib/python3.10/site-packages/MDAnalysis/coordinates/DCD.py:165: DeprecationWarning: DCDReader currently makes independent timesteps by copying self.ts while other readers update self.ts inplace. This behavior will be changed in 3.0 to be the same as other readers. Read more at https://github.com/MDAnalysis/mdanalysis/issues/3889 to learn if this change in behavior might affect you.\n",
      "  warnings.warn(\"DCDReader currently makes independent timesteps\"\n"
     ]
    }
   ],
   "source": [
    "u = mda.Universe('datafiles/C6.data', 'datafiles/C6.dcd')"
   ]
  },
  {
   "cell_type": "markdown",
   "metadata": {},
   "source": [
    "This system has 46,500 atoms in 250 different fragments."
   ]
  },
  {
   "cell_type": "code",
   "execution_count": 3,
   "metadata": {},
   "outputs": [
    {
     "name": "stdout",
     "output_type": "stream",
     "text": [
      "46500 250\n"
     ]
    }
   ],
   "source": [
    "print(u.atoms.n_atoms, len(u.atoms.fragments))"
   ]
  },
  {
   "cell_type": "markdown",
   "metadata": {},
   "source": [
    "Our dynamics simulation has 5 frames of results."
   ]
  },
  {
   "cell_type": "code",
   "execution_count": 4,
   "metadata": {},
   "outputs": [
    {
     "name": "stdout",
     "output_type": "stream",
     "text": [
      "5\n"
     ]
    }
   ],
   "source": [
    "print(u.trajectory.n_frames)"
   ]
  },
  {
   "cell_type": "code",
   "execution_count": 5,
   "metadata": {},
   "outputs": [],
   "source": [
    "# u.atoms.fragments[0].names"
   ]
  },
  {
   "cell_type": "markdown",
   "metadata": {},
   "source": [
    "To perform the coupling calculations our `Universe` will require bond information (for determining fragments) and element information (for the tight binding calculations) stored inside the `.names` attribute."
   ]
  },
  {
   "cell_type": "markdown",
   "metadata": {},
   "source": [
    "Our Lammps Data file did not include element symbols, so we can add these to the Universe now..."
   ]
  },
  {
   "cell_type": "code",
   "execution_count": 6,
   "metadata": {},
   "outputs": [],
   "source": [
    "def add_names(u):\n",
    "    # Guesses atom names based upon masses\n",
    "    def approx_equal(x, y):\n",
    "        return abs(x - y) < 0.1\n",
    "    \n",
    "    # mapping of atom mass to element\n",
    "    massdict = {}\n",
    "    for m in set(u.atoms.masses):\n",
    "        for elem, elem_mass in mda.guesser.tables.masses.items():\n",
    "            if approx_equal(m, elem_mass):\n",
    "                massdict[m] = elem\n",
    "                break\n",
    "        else:\n",
    "            raise ValueError\n",
    "            \n",
    "    u.add_TopologyAttr('names')\n",
    "    for m, e in massdict.items():\n",
    "        u.atoms[u.atoms.masses == m].names = e\n",
    "        \n",
    "\n",
    "add_names(u)"
   ]
  },
  {
   "cell_type": "code",
   "execution_count": 11,
   "metadata": {},
   "outputs": [
    {
     "name": "stderr",
     "output_type": "stream",
     "text": [
      "/var/folders/8_/xls29m695yl7qglq81r94h7w0000gr/T/ipykernel_98637/1284948650.py:10: DeprecationWarning: `guess_types` is deprecated!\n",
      "`guess_types` will be removed in release 3.0.0.\n",
      "MDAnalysis.topology.guessers is deprecated in favour of the new Guessers API. See MDAnalysis.guesser.default_guesser for more details.\n",
      "  elements = guess_types(u.atoms.names)\n",
      "2025-06-11T10:17:14.883796+0100 INFO Finding dimers within 5.0, passed 250 fragments\n",
      "2025-06-11T10:17:15.243097+0100 INFO Found 3282 dimers\n"
     ]
    },
    {
     "name": "stdout",
     "output_type": "stream",
     "text": [
      "shift\n"
     ]
    },
    {
     "data": {
      "application/vnd.jupyter.widget-view+json": {
       "model_id": "0bacd809ef2744c4a186f59a1a572488",
       "version_major": 2,
       "version_minor": 0
      },
      "text/plain": [
       "NGLWidget()"
      ]
     },
     "metadata": {},
     "output_type": "display_data"
    }
   ],
   "source": [
    "from openff.toolkit.topology import Molecule\n",
    "from MDAnalysis.topology.guessers import guess_types\n",
    "from kugupu._yaehmop import shift_dimer_images\n",
    "from MDAnalysis.lib.mdamath import triclinic_vectors\n",
    "from kugupu.dimers import find_dimers\n",
    "from MDAnalysis.transformations.wrap import unwrap\n",
    "\n",
    "TEST = 200\n",
    "\n",
    "elements = guess_types(u.atoms.names)\n",
    "u.add_TopologyAttr(\"elements\", elements)\n",
    "\n",
    "ag = u.atoms\n",
    "# transform = mda.transformations.unwrap(ag)\n",
    "# u.trajectory.add_transformations(transform)\n",
    "\n",
    "# print(u.dimensions.shape)\n",
    "example_fragments = u.atoms.fragments\n",
    "dimers_list = find_dimers(example_fragments, cutoff=5.0)\n",
    "list_dimers = sorted(dimers_list.items())\n",
    "frag_i, frag_j =list_dimers[TEST][-1]\n",
    "shifted_coords = shift_dimer_images(frag_i, frag_j)\n",
    "total_frag = frag_i + frag_j\n",
    "total_frag.positions = shifted_coords\n",
    "rdkit = total_frag.convert_to.rdkit()\n",
    "mol = Molecule.from_rdkit(rdkit, allow_undefined_stereo=True)\n",
    "mol\n"
   ]
  },
  {
   "cell_type": "code",
   "execution_count": 16,
   "metadata": {},
   "outputs": [
    {
     "name": "stderr",
     "output_type": "stream",
     "text": [
      "WARNING: This client version is newer than the server version. This may work if the versions are close, but expect exceptions and errors if attempting things the server does not support. client version: 0.61, server version: 0.0.99.post4676+g6d4d7eb6.d20250528\n"
     ]
    }
   ],
   "source": [
    "from qcportal.singlepoint import SinglepointDriver\n",
    "from openff.qcsubmit.factories import BasicDatasetFactory\n",
    "from openff.qcsubmit.common_structures import QCSpec\n",
    "from qcelemental.models.results import WavefunctionProtocolEnum\n",
    "from qcportal import PortalClient\n",
    "\n",
    "\n",
    "USERNAME = \"charlie\"\n",
    "PASSWORD = \"kuano123\"\n",
    "ADDRESS =\"http://localhost:7777\"\n",
    "\n",
    "client = PortalClient(\n",
    "    address=ADDRESS, username = USERNAME, password= PASSWORD\n",
    ")\n",
    "\n"
   ]
  },
  {
   "cell_type": "code",
   "execution_count": 18,
   "metadata": {},
   "outputs": [
    {
     "name": "stderr",
     "output_type": "stream",
     "text": [
      "Deduplication                 : 100%|█████████████| 1/1 [00:00<00:00, 67.62it/s]\n",
      "Preparation                   :   0%|                     | 0/1 [00:00<?, ?it/s]/Users/k2584788/.local/share/mamba/envs/forked_kugupu/lib/python3.10/site-packages/openff/qcsubmit/utils/smirnoff.py:196: UnitStrippedWarning: The unit of the quantity is stripped when downcasting to ndarray.\n",
      "  new_conformer[index_mapping[i]] = conformer[i]\n",
      "Preparation                   : 100%|█████████████| 1/1 [00:00<00:00,  2.31it/s]\n",
      "'metadata' parameter has been deprecated and will be removed in a future version. Use 'extras' instead\n",
      "'tag' is deprecated; use 'compute_tag' instead\n",
      "'priority' is deprecated; use 'compute_priority' instead\n"
     ]
    },
    {
     "data": {
      "text/plain": [
       "InsertCountsMetadata(n_inserted=1, n_existing=0, error_description=None, errors=[])"
      ]
     },
     "execution_count": 18,
     "metadata": {},
     "output_type": "execute_result"
    }
   ],
   "source": [
    "factory = BasicDatasetFactory(\n",
    "    driver=SinglepointDriver.energy,\n",
    "    qc_specifications={\n",
    "        \"xtb\": QCSpec(\n",
    "            program=\"xtb\",\n",
    "            method=\"gfn0xtb\",\n",
    "            basis=None,\n",
    "            spec_name=\"ani1ccx\",\n",
    "            spec_description=\"ANI1ccx standard specification\",\n",
    "            store_wavefunction=WavefunctionProtocolEnum.all\n",
    "        ),\n",
    "    },\n",
    ")\n",
    "molecules = [mol]\n",
    "factory.compute_tag = 'xtb'\n",
    "dataset = factory.create_dataset(\n",
    "    dataset_name=\"xtb_test\",\n",
    "    description=\"xtb test for coupling\",\n",
    "    tagline=\"test dataset for xtb wavefunction\",\n",
    "    molecules=molecules,  #I deleted\n",
    ")\n",
    "dataset.submit(\n",
    "    client = client,\n",
    ")"
   ]
  },
  {
   "cell_type": "code",
   "execution_count": null,
   "metadata": {},
   "outputs": [],
   "source": [
    "c1 = frag_i.center_of_mass()"
   ]
  },
  {
   "cell_type": "code",
   "execution_count": 22,
   "metadata": {},
   "outputs": [],
   "source": [
    "c2 = frag_j.center_of_mass()"
   ]
  },
  {
   "cell_type": "code",
   "execution_count": 24,
   "metadata": {},
   "outputs": [
    {
     "data": {
      "text/plain": [
       "-5.332449681816342e-07"
      ]
     },
     "execution_count": 24,
     "metadata": {},
     "output_type": "execute_result"
    }
   ],
   "source": [
    "from MDAnalysis.lib import distances\n",
    "\n",
    "d1 = distances.calc_bonds(c1,c2)\n",
    "d2 = distances.calc_bonds(c1, c2, frag_i.dimensions)\n",
    "d1-d2"
   ]
  },
  {
   "cell_type": "code",
   "execution_count": 25,
   "metadata": {},
   "outputs": [
    {
     "data": {
      "text/plain": [
       "array([82.370605, 82.370605, 82.370605, 90.      , 90.      , 90.      ],\n",
       "      dtype=float32)"
      ]
     },
     "execution_count": 25,
     "metadata": {},
     "output_type": "execute_result"
    }
   ],
   "source": [
    "frag_i.dimensions"
   ]
  },
  {
   "cell_type": "code",
   "execution_count": 134,
   "metadata": {},
   "outputs": [
    {
     "data": {
      "text/plain": [
       "(186, 3)"
      ]
     },
     "execution_count": 134,
     "metadata": {},
     "output_type": "execute_result"
    }
   ],
   "source": [
    "example_fragment.atoms.positions.shape"
   ]
  },
  {
   "cell_type": "code",
   "execution_count": 37,
   "metadata": {},
   "outputs": [
    {
     "data": {
      "text/plain": [
       "array([82.370605, 82.370605, 82.370605, 90.      , 90.      , 90.      ],\n",
       "      dtype=float32)"
      ]
     },
     "execution_count": 37,
     "metadata": {},
     "output_type": "execute_result"
    }
   ],
   "source": [
    "u.dimensions"
   ]
  },
  {
   "cell_type": "code",
   "execution_count": 23,
   "metadata": {},
   "outputs": [
    {
     "ename": "AttributeError",
     "evalue": "'_io.StringIO' object has no attribute 'name'",
     "output_type": "error",
     "traceback": [
      "\u001b[0;31m---------------------------------------------------------------------------\u001b[0m",
      "\u001b[0;31mAttributeError\u001b[0m                            Traceback (most recent call last)",
      "Cell \u001b[0;32mIn[23], line 5\u001b[0m\n\u001b[1;32m      3\u001b[0m output \u001b[38;5;241m=\u001b[39m StringIO()\n\u001b[1;32m      4\u001b[0m \u001b[38;5;66;03m# example_fragment.write(filename= output.getvalue(), format='.pdb')\u001b[39;00m\n\u001b[0;32m----> 5\u001b[0m \u001b[43moutput\u001b[49m\u001b[38;5;241;43m.\u001b[39;49m\u001b[43mname\u001b[49m\n",
      "\u001b[0;31mAttributeError\u001b[0m: '_io.StringIO' object has no attribute 'name'"
     ]
    }
   ],
   "source": [
    "from io import StringIO\n",
    "\n",
    "output = StringIO()\n",
    "# example_fragment.write(filename= output.getvalue(), format='.pdb')\n",
    "output.name"
   ]
  },
  {
   "cell_type": "code",
   "execution_count": 29,
   "metadata": {},
   "outputs": [
    {
     "data": {
      "text/plain": [
       "MDAnalysis.core.groups.AtomGroup"
      ]
     },
     "execution_count": 29,
     "metadata": {},
     "output_type": "execute_result"
    }
   ],
   "source": [
    "type(example_fragment.atoms)"
   ]
  },
  {
   "cell_type": "code",
   "execution_count": 13,
   "metadata": {},
   "outputs": [
    {
     "data": {
      "text/plain": [
       "array([[ 97.48227 ,  82.034355, 131.86044 ],\n",
       "       [ 97.95442 ,  82.892746, 130.86584 ],\n",
       "       [ 99.27297 ,  82.63595 , 130.42174 ],\n",
       "       [100.05624 ,  81.52764 , 130.84343 ],\n",
       "       [ 99.55603 ,  80.64784 , 131.74911 ],\n",
       "       [ 98.20787 ,  80.84279 , 132.20345 ],\n",
       "       [ 96.50943 ,  82.24995 , 132.29575 ],\n",
       "       [101.07468 ,  81.39984 , 130.50264 ],\n",
       "       [ 97.2372  ,  84.12135 , 130.31897 ],\n",
       "       [ 98.471245,  84.59264 , 129.4375  ],\n",
       "       [ 99.55969 ,  83.72523 , 129.5342  ],\n",
       "       [ 98.73449 ,  85.74673 , 128.67285 ],\n",
       "       [100.106346,  85.785576, 128.24309 ],\n",
       "       [100.981865,  84.35223 , 128.77982 ],\n",
       "       [100.21008 ,  79.42629 , 132.36818 ],\n",
       "       [ 98.98248 ,  78.95351 , 133.22961 ],\n",
       "       [ 97.877556,  79.72083 , 133.02733 ],\n",
       "       [ 98.652054,  77.95627 , 134.1653  ],\n",
       "       [ 97.29675 ,  77.97778 , 134.62914 ],\n",
       "       [ 96.408104,  79.2198  , 133.90623 ],\n",
       "       [100.44462 ,  86.95385 , 127.66395 ],\n",
       "       [ 97.914085,  87.267555, 128.25804 ],\n",
       "       [ 99.55628 ,  76.66785 , 134.97504 ],\n",
       "       [ 97.02848 ,  76.977356, 135.55083 ],\n",
       "       [ 99.484055,  87.970314, 127.66501 ],\n",
       "       [ 98.22106 ,  76.49864 , 136.14722 ],\n",
       "       [101.45115 ,  87.10257 , 127.40312 ],\n",
       "       [ 96.13894 ,  76.77601 , 136.08566 ],\n",
       "       [ 98.28745 ,  75.60328 , 137.25975 ],\n",
       "       [ 97.72242 ,  75.5519  , 138.53156 ],\n",
       "       [ 96.826126,  76.60147 , 139.0987  ],\n",
       "       [ 98.15507 ,  74.675186, 139.68544 ],\n",
       "       [ 96.70615 ,  76.38127 , 140.50156 ],\n",
       "       [ 96.33105 ,  77.55642 , 138.5322  ],\n",
       "       [ 97.328514,  75.16498 , 140.8677  ],\n",
       "       [ 99.09661 ,  73.64639 , 139.72606 ],\n",
       "       [ 95.85796 ,  77.036156,  59.033592],\n",
       "       [ 97.298225,  74.81375 ,  59.83336 ],\n",
       "       [ 99.909225,  73.08211 , 138.63786 ],\n",
       "       [ 99.33248 ,  72.82451 , 140.85611 ],\n",
       "       [ 95.76503 ,  76.62356 ,  60.33106 ],\n",
       "       [ 95.24725 ,  77.88112 , 141.07118 ],\n",
       "       [ 96.45326 ,  75.51076 ,  60.73405 ],\n",
       "       [ 97.7787  ,  73.99156 ,  60.330727],\n",
       "       [100.51179 ,  72.701744, 137.78615 ],\n",
       "       [ 99.42155 ,  72.0559  ,  59.381844],\n",
       "       [ 95.128426,  77.16134 ,  61.026596],\n",
       "       [ 96.417114,  75.200325,  61.801086],\n",
       "       [ 98.99395 ,  74.832596, 137.1256  ],\n",
       "       [ 99.6915  ,  89.16152 , 126.907974],\n",
       "       [100.76557 ,  90.026146, 126.76683 ],\n",
       "       [101.90622 ,  90.02339 , 127.682556],\n",
       "       [100.99309 ,  91.17807 , 125.884544],\n",
       "       [102.784904,  91.133736, 127.2873  ],\n",
       "       [102.127365,  89.33426 , 128.67838 ],\n",
       "       [102.28918 ,  91.78546 , 126.2109  ],\n",
       "       [100.15937 ,  91.64875 , 124.85549 ],\n",
       "       [103.98601 ,  91.51297 , 127.90601 ],\n",
       "       [103.00996 ,  92.82631 , 125.642555],\n",
       "       [ 99.14203 ,  90.9076  , 124.28965 ],\n",
       "       [100.216606,  92.96096 , 124.272415],\n",
       "       [104.677345,  92.63122 , 127.39277 ],\n",
       "       [104.43727 ,  90.88924 , 128.71196 ],\n",
       "       [104.22795 ,  93.25768 , 126.21987 ],\n",
       "       [102.67141 ,  93.28442 , 124.6765  ],\n",
       "       [ 98.30407 ,  90.29361 , 123.779106],\n",
       "       [100.24027 ,  94.024185, 123.819466],\n",
       "       [105.64585 ,  92.948166, 127.85903 ],\n",
       "       [104.80383 ,  93.951195, 125.62637 ],\n",
       "       [ 98.76347 ,  89.400505, 126.38862 ],\n",
       "       [101.4558  ,  79.93459 , 133.1993  ],\n",
       "       [101.32544 ,  80.51011 , 134.49826 ],\n",
       "       [102.75275 ,  79.909   , 132.61809 ],\n",
       "       [102.4486  ,  80.972885, 135.2311  ],\n",
       "       [100.39669 ,  80.60529 , 135.01567 ],\n",
       "       [103.85923 ,  80.456085, 133.25148 ],\n",
       "       [102.87073 ,  79.54137 , 131.60254 ],\n",
       "       [103.69345 ,  81.0571  , 134.5188  ],\n",
       "       [102.26271 ,  81.27361 , 136.22868 ],\n",
       "       [104.82536 ,  80.28996 , 132.75922 ],\n",
       "       [ 96.85109 ,  85.20769 , 131.41293 ],\n",
       "       [ 97.49108 ,  85.23947 , 132.68356 ],\n",
       "       [ 96.13502 ,  86.39188 , 131.03609 ],\n",
       "       [ 97.29575 ,  86.330696, 133.57379 ],\n",
       "       [ 98.211174,  84.488464, 132.88263 ],\n",
       "       [ 95.8631  ,  87.43445 , 131.90976 ],\n",
       "       [ 95.60407 ,  86.43668 , 130.06311 ],\n",
       "       [ 96.53297 ,  87.45088 , 133.11827 ],\n",
       "       [ 97.91756 ,  86.4572  , 134.4908  ],\n",
       "       [ 95.26003 ,  88.350784, 131.6629  ],\n",
       "       [ 96.018   ,  83.687584, 129.46265 ],\n",
       "       [ 96.12492 ,  83.59883 , 128.07272 ],\n",
       "       [ 94.83249 ,  83.14575 , 130.09204 ],\n",
       "       [ 95.042046,  83.02106 , 127.36183 ],\n",
       "       [ 96.92094 ,  84.01932 , 127.418625],\n",
       "       [ 93.75069 ,  82.69861 , 129.29716 ],\n",
       "       [ 94.71809 ,  83.250725, 131.15155 ],\n",
       "       [ 93.83699 ,  82.68033 , 127.91277 ],\n",
       "       [ 95.187355,  82.95069 , 126.31185 ],\n",
       "       [ 92.79986 ,  82.43303 , 129.6838  ],\n",
       "       [100.43988 ,  78.28333 , 131.33463 ],\n",
       "       [100.03592 ,  78.30524 , 129.96323 ],\n",
       "       [101.21213 ,  77.15104 , 131.82129 ],\n",
       "       [100.38575 ,  77.27139 , 129.14441 ],\n",
       "       [ 99.48222 ,  79.134415, 129.50352 ],\n",
       "       [101.51599 ,  76.08049 , 131.00633 ],\n",
       "       [101.54881 ,  77.08704 , 132.84248 ],\n",
       "       [101.12298 ,  76.148575, 129.6931  ],\n",
       "       [100.040955,  77.24913 , 128.13158 ],\n",
       "       [102.120544,  75.237335, 131.4701  ],\n",
       "       [ 92.788734,  82.1985  , 126.96985 ],\n",
       "       [ 91.93173 ,  82.77274 , 126.948784],\n",
       "       [ 93.13375 ,  82.23322 , 125.973625],\n",
       "       [ 92.52031 ,  80.735596, 127.21392 ],\n",
       "       [ 91.83152 ,  80.563675, 128.06377 ],\n",
       "       [ 92.05469 ,  80.368324, 126.34382 ],\n",
       "       [ 93.77072 ,  79.86319 , 127.43254 ],\n",
       "       [ 94.34743 ,  79.916885, 126.510376],\n",
       "       [ 94.39703 ,  80.291084, 128.24496 ],\n",
       "       [104.913345,  81.335754, 135.32834 ],\n",
       "       [105.67238 ,  81.88763 , 134.74484 ],\n",
       "       [104.6174  ,  82.06354 , 136.1303  ],\n",
       "       [105.52215 ,  80.02497 , 135.90747 ],\n",
       "       [104.72845 ,  79.43303 , 136.45459 ],\n",
       "       [105.92592 ,  79.4931  , 135.05154 ],\n",
       "       [106.74163 ,  80.1658  , 136.84436 ],\n",
       "       [106.465775,  80.90248 , 137.67537 ],\n",
       "       [107.539154,  80.67294 , 136.24062 ],\n",
       "       [101.48217 ,  74.93321 , 128.86772 ],\n",
       "       [101.18454 ,  74.08205 , 129.45134 ],\n",
       "       [100.74941 ,  74.95366 , 128.05338 ],\n",
       "       [102.93208 ,  74.754585, 128.33095 ],\n",
       "       [103.6349  ,  74.79101 , 129.15547 ],\n",
       "       [103.13146 ,  73.83254 , 127.78512 ],\n",
       "       [103.21482 ,  75.89695 , 127.33517 ],\n",
       "       [102.508026,  75.94285 , 126.54725 ],\n",
       "       [102.980446,  76.889145, 127.84106 ],\n",
       "       [ 96.56626 ,  88.73665 , 133.96854 ],\n",
       "       [ 97.559616,  89.17772 , 133.76875 ],\n",
       "       [ 96.56331 ,  88.35313 , 134.95378 ],\n",
       "       [ 95.38613 ,  89.72276 , 134.07411 ],\n",
       "       [ 95.16954 ,  90.05279 , 133.0548  ],\n",
       "       [ 94.4046  ,  89.1828  , 134.36731 ],\n",
       "       [ 95.66272 ,  90.84062 , 135.04684 ],\n",
       "       [ 96.688385,  91.19402 , 134.76619 ],\n",
       "       [ 95.72679 ,  90.377266, 135.96695 ],\n",
       "       [107.2706  ,  78.88248 , 137.49068 ],\n",
       "       [106.41009 ,  78.50212 , 138.0734  ],\n",
       "       [107.59166 ,  78.098854, 136.77858 ],\n",
       "       [ 94.65439 ,  92.0246  , 135.08838 ],\n",
       "       [ 94.554085,  92.543434, 134.06978 ],\n",
       "       [ 93.67934 ,  91.63315 , 135.40839 ],\n",
       "       [104.590546,  75.82543 , 126.72841 ],\n",
       "       [105.34499 ,  75.91811 , 127.49439 ],\n",
       "       [104.779045,  74.82705 , 126.384155],\n",
       "       [ 93.58885 ,  78.38692 , 127.79358 ],\n",
       "       [ 92.80201 ,  78.34465 , 128.54436 ],\n",
       "       [ 92.95357 ,  77.8339  , 127.05524 ],\n",
       "       [104.94525 ,  76.819405, 125.54207 ],\n",
       "       [104.609764,  77.78325 , 125.82391 ],\n",
       "       [104.42005 ,  76.523926, 124.64251 ],\n",
       "       [ 95.1411  ,  93.12367 , 136.05836 ],\n",
       "       [ 96.02919 ,  93.623344, 135.60013 ],\n",
       "       [ 95.514885,  92.67713 , 136.96722 ],\n",
       "       [108.42395 ,  79.01834 , 138.48149 ],\n",
       "       [108.03592 ,  79.42999 , 139.41301 ],\n",
       "       [109.157745,  79.80401 , 138.05188 ],\n",
       "       [ 94.92072 ,  77.5292  , 128.00499 ],\n",
       "       [ 95.64094 ,  77.813194, 127.327324],\n",
       "       [ 95.31277 ,  77.77978 , 129.06783 ],\n",
       "       [109.083496,  77.65245 , 138.76303 ],\n",
       "       [109.998   ,  77.81092 , 139.34573 ],\n",
       "       [108.38265 ,  76.91244 , 139.29228 ],\n",
       "       [109.2423  ,  77.12104 , 137.85443 ],\n",
       "       [ 94.04542 ,  94.09373 , 136.34286 ],\n",
       "       [ 94.39758 ,  94.97579 , 136.9076  ],\n",
       "       [ 93.797386,  94.4816  , 135.32552 ],\n",
       "       [ 93.1878  ,  93.825264, 136.9967  ],\n",
       "       [106.44962 ,  76.73548 , 125.10396 ],\n",
       "       [107.04137 ,  76.905525, 125.95979 ],\n",
       "       [106.699165,  75.69275 , 124.66675 ],\n",
       "       [106.725464,  77.424164, 124.329704],\n",
       "       [ 94.60772 ,  76.08033 , 127.7838  ],\n",
       "       [ 94.10824 ,  75.95277 , 126.8601  ],\n",
       "       [ 95.52182 ,  75.46525 , 127.89458 ],\n",
       "       [ 93.79849 ,  75.73238 , 128.51752 ]], dtype=float32)"
      ]
     },
     "execution_count": 13,
     "metadata": {},
     "output_type": "execute_result"
    }
   ],
   "source": [
    "coords"
   ]
  },
  {
   "cell_type": "markdown",
   "metadata": {},
   "source": [
    "## Running the coupling matrix calculation\n",
    "\n",
    "The coupling matrix between fragments is calculated using the `kgp.coupling_matrix` function.\n",
    "\n",
    "Here we are calculating the coupling matrix for fragments in the Universe `u` where\n",
    "- coupling is calculated between fragments with a closest approach of less than 5.0 Angstrom (`nn_cutoff`)\n",
    "- coupling is calculated between the LUMO upwards (`state='lumo'`)\n",
    "- one state per fragment is considered (`degeneracy=1`)\n",
    "- we will analyse up to frame 3 (`stop=3`)\n",
    "\n",
    "This function will (for each frame)\n",
    "- identify which fragments are close enough to possibly be electronically coupled\n",
    "- run a tight binding calculation between all pairs identified\n",
    "- calculate the molecular coupling based on this tight binding calculation"
   ]
  },
  {
   "cell_type": "code",
   "execution_count": null,
   "metadata": {},
   "outputs": [
    {
     "name": "stderr",
     "output_type": "stream",
     "text": [
      "/Users/k2584788/.local/share/mamba/envs/forked_kugupu/lib/python3.10/site-packages/distributed/node.py:187: UserWarning: Port 8787 is already in use.\n",
      "Perhaps you already have a cluster running?\n",
      "Hosting the HTTP server on port 60825 instead\n",
      "  warnings.warn(\n",
      "2025-06-05T16:08:09.655317+0100 INFO Processing 3 frames\n",
      "2025-06-05T16:08:09.657143+0100 INFO Processing frame 1 of 3\n",
      "/Users/k2584788/.local/share/mamba/envs/forked_kugupu/lib/python3.10/site-packages/MDAnalysis/coordinates/DCD.py:165: DeprecationWarning: DCDReader currently makes independent timesteps by copying self.ts while other readers update self.ts inplace. This behavior will be changed in 3.0 to be the same as other readers. Read more at https://github.com/MDAnalysis/mdanalysis/issues/3889 to learn if this change in behavior might affect you.\n",
      "  warnings.warn(\"DCDReader currently makes independent timesteps\"\n",
      "2025-06-05T16:08:10.030477+0100 INFO Finding dimers within 5.0, passed 250 fragments\n",
      "2025-06-05T16:08:10.387019+0100 INFO Found 3282 dimers\n",
      "/Users/k2584788/.local/share/mamba/envs/forked_kugupu/lib/python3.10/site-packages/dig/threedgraph/utils/geometric_computing.py:47: UserWarning: Using torch.cross without specifying the dim arg is deprecated.\n",
      "Please either pass the dim explicitly or simply use torch.linalg.cross.\n",
      "The default value of dim will change to agree with that of linalg.cross in a future release. (Triggered internally at /Users/runner/miniforge3/conda-bld/libtorch_1744233393360/work/aten/src/ATen/native/Cross.cpp:66.)\n",
      "  b = torch.cross(pos_ji, pos_jk).norm(dim=-1) # sin_angle * |pos_ji| * |pos_jk|\n",
      "2025-06-05T16:28:40.285882+0100 INFO Processing frame 2 of 3\n",
      "2025-06-05T16:28:40.823959+0100 INFO Finding dimers within 5.0, passed 250 fragments\n",
      "2025-06-05T16:28:41.183494+0100 INFO Found 3286 dimers\n",
      "2025-06-05T16:51:16.297262+0100 INFO Processing frame 3 of 3\n",
      "2025-06-05T16:51:16.763399+0100 INFO Finding dimers within 5.0, passed 250 fragments\n",
      "2025-06-05T16:51:17.102088+0100 INFO Found 3254 dimers\n"
     ]
    }
   ],
   "source": [
    "res = kgp.coupling_matrix(u, nn_cutoff=5.0, state='lumo', degeneracy=1, stop=3, model='ocelotml', client=True)"
   ]
  },
  {
   "cell_type": "markdown",
   "metadata": {},
   "source": [
    "The `res` object is a namedtuple which contains all the data necessary to perform further analysis.\n",
    "This object has various attributes which will not be briefly explained.\n",
    "\n",
    "The `.frames` attribute records which frames from the trajectory were analysed.\n",
    "This is useful to later cross reference data with the original MD trajectory data."
   ]
  },
  {
   "cell_type": "code",
   "execution_count": null,
   "metadata": {},
   "outputs": [
    {
     "name": "stdout",
     "output_type": "stream",
     "text": [
      "[0 1 2]\n"
     ]
    }
   ],
   "source": [
    "print(res.frames)"
   ]
  },
  {
   "cell_type": "markdown",
   "metadata": {},
   "source": [
    "The `.degeneracy` attribute stores how many degenerate states were considered for each fragment.\n",
    "This value will not change over time, so this array has shape `nfragments`.\n",
    "\n",
    "In this example only a single state per fragment was considered. "
   ]
  },
  {
   "cell_type": "code",
   "execution_count": null,
   "metadata": {},
   "outputs": [
    {
     "name": "stdout",
     "output_type": "stream",
     "text": [
      "[1 1 1 1 1 1 1 1 1 1 1 1 1 1 1 1 1 1 1 1 1 1 1 1 1 1 1 1 1 1 1 1 1 1 1 1 1\n",
      " 1 1 1 1 1 1 1 1 1 1 1 1 1 1 1 1 1 1 1 1 1 1 1 1 1 1 1 1 1 1 1 1 1 1 1 1 1\n",
      " 1 1 1 1 1 1 1 1 1 1 1 1 1 1 1 1 1 1 1 1 1 1 1 1 1 1 1 1 1 1 1 1 1 1 1 1 1\n",
      " 1 1 1 1 1 1 1 1 1 1 1 1 1 1 1 1 1 1 1 1 1 1 1 1 1 1 1 1 1 1 1 1 1 1 1 1 1\n",
      " 1 1 1 1 1 1 1 1 1 1 1 1 1 1 1 1 1 1 1 1 1 1 1 1 1 1 1 1 1 1 1 1 1 1 1 1 1\n",
      " 1 1 1 1 1 1 1 1 1 1 1 1 1 1 1 1 1 1 1 1 1 1 1 1 1 1 1 1 1 1 1 1 1 1 1 1 1\n",
      " 1 1 1 1 1 1 1 1 1 1 1 1 1 1 1 1 1 1 1 1 1 1 1 1 1 1 1 1]\n"
     ]
    }
   ],
   "source": [
    "print(res.degeneracy)"
   ]
  },
  {
   "cell_type": "markdown",
   "metadata": {},
   "source": [
    "The `.H_frag` attribute contains the molecular coupling values, stored inside a 3d numpy array.\n",
    "The first dimension is along the number of frames (quasi time axis),\n",
    "while the other two move along fragments in the system.\n",
    "\n",
    "For example `res.H_frag[0, 1, 71]` gives the coupling (in eV) between the 2nd and 13th fragments in the first frame."
   ]
  },
  {
   "cell_type": "code",
   "execution_count": null,
   "metadata": {},
   "outputs": [
    {
     "name": "stdout",
     "output_type": "stream",
     "text": [
      "(3, 250, 250)\n",
      "0.0002765886942250739\n"
     ]
    }
   ],
   "source": [
    "print(res.H_frag.shape)\n",
    "\n",
    "print(res.H_frag[2, 1, 71])"
   ]
  },
  {
   "cell_type": "markdown",
   "metadata": {},
   "source": [
    "Producing these results is often a time consuming part of the analysis,\n",
    "therefore it is wise to save them to a file so you can come back to them later!\n",
    "\n",
    "This can be done using the `kugupu.save_results` function, which will save the results to a hdf5 (compressed) format."
   ]
  },
  {
   "cell_type": "code",
   "execution_count": null,
   "metadata": {},
   "outputs": [],
   "source": [
    "kgp.save_results('myresults.hdf5', res)"
   ]
  },
  {
   "cell_type": "markdown",
   "metadata": {},
   "source": [
    "These results can then be retrieved again using the `kugupu.load_results` function:"
   ]
  },
  {
   "cell_type": "code",
   "execution_count": null,
   "metadata": {},
   "outputs": [
    {
     "data": {
      "text/plain": [
       "KugupuResults(frames=array([0, 1, 2]), H_frag=array([[[-10.27936597,   0.        ,   0.        , ...,   0.        ,\n",
       "           0.        ,   0.        ],\n",
       "        [  0.        , -10.32038834,   0.        , ...,   0.        ,\n",
       "           0.        ,   0.        ],\n",
       "        [  0.        ,   0.        , -10.35344287, ...,   0.        ,\n",
       "           0.        ,   0.        ],\n",
       "        ...,\n",
       "        [  0.        ,   0.        ,   0.        , ..., -10.43146138,\n",
       "           0.        ,   0.        ],\n",
       "        [  0.        ,   0.        ,   0.        , ...,   0.        ,\n",
       "         -10.50477574,   0.        ],\n",
       "        [  0.        ,   0.        ,   0.        , ...,   0.        ,\n",
       "           0.        , -10.37584228]],\n",
       "\n",
       "       [[-10.38898008,   0.        ,   0.        , ...,   0.        ,\n",
       "           0.        ,   0.        ],\n",
       "        [  0.        , -10.43337746,   0.        , ...,   0.        ,\n",
       "           0.        ,   0.        ],\n",
       "        [  0.        ,   0.        , -10.44523772, ...,   0.        ,\n",
       "           0.        ,   0.        ],\n",
       "        ...,\n",
       "        [  0.        ,   0.        ,   0.        , ..., -10.34584384,\n",
       "           0.        ,   0.        ],\n",
       "        [  0.        ,   0.        ,   0.        , ...,   0.        ,\n",
       "         -10.30430813,   0.        ],\n",
       "        [  0.        ,   0.        ,   0.        , ...,   0.        ,\n",
       "           0.        , -10.42368578]],\n",
       "\n",
       "       [[-10.34067138,   0.        ,   0.        , ...,   0.        ,\n",
       "           0.        ,   0.        ],\n",
       "        [  0.        , -10.34907937,   0.        , ...,   0.        ,\n",
       "           0.        ,   0.        ],\n",
       "        [  0.        ,   0.        , -10.41644247, ...,   0.        ,\n",
       "           0.        ,   0.        ],\n",
       "        ...,\n",
       "        [  0.        ,   0.        ,   0.        , ..., -10.23528128,\n",
       "           0.        ,   0.        ],\n",
       "        [  0.        ,   0.        ,   0.        , ...,   0.        ,\n",
       "         -10.46742314,   0.        ],\n",
       "        [  0.        ,   0.        ,   0.        , ...,   0.        ,\n",
       "           0.        , -10.41446069]]], shape=(3, 250, 250)), degeneracy=array([1, 1, 1, 1, 1, 1, 1, 1, 1, 1, 1, 1, 1, 1, 1, 1, 1, 1, 1, 1, 1, 1,\n",
       "       1, 1, 1, 1, 1, 1, 1, 1, 1, 1, 1, 1, 1, 1, 1, 1, 1, 1, 1, 1, 1, 1,\n",
       "       1, 1, 1, 1, 1, 1, 1, 1, 1, 1, 1, 1, 1, 1, 1, 1, 1, 1, 1, 1, 1, 1,\n",
       "       1, 1, 1, 1, 1, 1, 1, 1, 1, 1, 1, 1, 1, 1, 1, 1, 1, 1, 1, 1, 1, 1,\n",
       "       1, 1, 1, 1, 1, 1, 1, 1, 1, 1, 1, 1, 1, 1, 1, 1, 1, 1, 1, 1, 1, 1,\n",
       "       1, 1, 1, 1, 1, 1, 1, 1, 1, 1, 1, 1, 1, 1, 1, 1, 1, 1, 1, 1, 1, 1,\n",
       "       1, 1, 1, 1, 1, 1, 1, 1, 1, 1, 1, 1, 1, 1, 1, 1, 1, 1, 1, 1, 1, 1,\n",
       "       1, 1, 1, 1, 1, 1, 1, 1, 1, 1, 1, 1, 1, 1, 1, 1, 1, 1, 1, 1, 1, 1,\n",
       "       1, 1, 1, 1, 1, 1, 1, 1, 1, 1, 1, 1, 1, 1, 1, 1, 1, 1, 1, 1, 1, 1,\n",
       "       1, 1, 1, 1, 1, 1, 1, 1, 1, 1, 1, 1, 1, 1, 1, 1, 1, 1, 1, 1, 1, 1,\n",
       "       1, 1, 1, 1, 1, 1, 1, 1, 1, 1, 1, 1, 1, 1, 1, 1, 1, 1, 1, 1, 1, 1,\n",
       "       1, 1, 1, 1, 1, 1, 1, 1]))"
      ]
     },
     "execution_count": 12,
     "metadata": {},
     "output_type": "execute_result"
    }
   ],
   "source": [
    "kgp.load_results('./myresults.hdf5')"
   ]
  },
  {
   "cell_type": "code",
   "execution_count": null,
   "metadata": {},
   "outputs": [],
   "source": []
  }
 ],
 "metadata": {
  "kernelspec": {
   "display_name": "Python 3",
   "language": "python",
   "name": "python3"
  },
  "language_info": {
   "codemirror_mode": {
    "name": "ipython",
    "version": 3
   },
   "file_extension": ".py",
   "mimetype": "text/x-python",
   "name": "python",
   "nbconvert_exporter": "python",
   "pygments_lexer": "ipython3",
   "version": "3.10.17"
  }
 },
 "nbformat": 4,
 "nbformat_minor": 2
}
