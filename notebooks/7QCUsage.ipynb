{
 "cells": [
  {
   "cell_type": "markdown",
   "metadata": {},
   "source": [
    "# Using `kugupu` to calculate molecular coupling networks WITH ML\n",
    "\n",
    "This notebook demonstrates how to calculate molecular coupling between fragments, inspect the results and save and load these results to file.  These results files will be the basis of all further analysis done using the `kugupu` package.\n",
    "\n",
    "This will require version 0.20.0 of MDAnalysis, and kugupu to be installed."
   ]
  },
  {
   "cell_type": "code",
   "execution_count": 1,
   "metadata": {},
   "outputs": [
    {
     "name": "stdout",
     "output_type": "stream",
     "text": [
      "models available\n",
      "{'ocelotml': <class 'kugupu.ocelotl_model.OcelotMLModel'>, 'yaehmop': <class 'kugupu.yaehmop.YaehmopModel'>}\n"
     ]
    }
   ],
   "source": [
    "import MDAnalysis as mda\n",
    "import numpy as np\n",
    "import kugupu as kgp\n",
    "from openff.toolkit.topology import Atom\n",
    "import xtb"
   ]
  },
  {
   "cell_type": "markdown",
   "metadata": {},
   "source": [
    "Firstly we create an `MDAnalysis.Universe` object from our simulation files:"
   ]
  },
  {
   "cell_type": "code",
   "execution_count": 2,
   "metadata": {},
   "outputs": [
    {
     "name": "stderr",
     "output_type": "stream",
     "text": [
      "/Users/k2584788/.local/share/mamba/envs/forked_kugupu/lib/python3.10/site-packages/MDAnalysis/coordinates/DCD.py:165: DeprecationWarning: DCDReader currently makes independent timesteps by copying self.ts while other readers update self.ts inplace. This behavior will be changed in 3.0 to be the same as other readers. Read more at https://github.com/MDAnalysis/mdanalysis/issues/3889 to learn if this change in behavior might affect you.\n",
      "  warnings.warn(\"DCDReader currently makes independent timesteps\"\n"
     ]
    }
   ],
   "source": [
    "u = mda.Universe('datafiles/C6.data', 'datafiles/C6.dcd')"
   ]
  },
  {
   "cell_type": "markdown",
   "metadata": {},
   "source": [
    "This system has 46,500 atoms in 250 different fragments."
   ]
  },
  {
   "cell_type": "code",
   "execution_count": 3,
   "metadata": {},
   "outputs": [
    {
     "name": "stdout",
     "output_type": "stream",
     "text": [
      "46500 250\n"
     ]
    }
   ],
   "source": [
    "print(u.atoms.n_atoms, len(u.atoms.fragments))"
   ]
  },
  {
   "cell_type": "markdown",
   "metadata": {},
   "source": [
    "Our dynamics simulation has 5 frames of results."
   ]
  },
  {
   "cell_type": "code",
   "execution_count": 4,
   "metadata": {},
   "outputs": [
    {
     "name": "stdout",
     "output_type": "stream",
     "text": [
      "5\n"
     ]
    }
   ],
   "source": [
    "print(u.trajectory.n_frames)"
   ]
  },
  {
   "cell_type": "code",
   "execution_count": 5,
   "metadata": {},
   "outputs": [],
   "source": [
    "# u.atoms.fragments[0].names"
   ]
  },
  {
   "cell_type": "markdown",
   "metadata": {},
   "source": [
    "To perform the coupling calculations our `Universe` will require bond information (for determining fragments) and element information (for the tight binding calculations) stored inside the `.names` attribute."
   ]
  },
  {
   "cell_type": "markdown",
   "metadata": {},
   "source": [
    "Our Lammps Data file did not include element symbols, so we can add these to the Universe now..."
   ]
  },
  {
   "cell_type": "code",
   "execution_count": 6,
   "metadata": {},
   "outputs": [],
   "source": [
    "def add_names(u):\n",
    "    # Guesses atom names based upon masses\n",
    "    def approx_equal(x, y):\n",
    "        return abs(x - y) < 0.1\n",
    "    \n",
    "    # mapping of atom mass to element\n",
    "    massdict = {}\n",
    "    for m in set(u.atoms.masses):\n",
    "        for elem, elem_mass in mda.guesser.tables.masses.items():\n",
    "            if approx_equal(m, elem_mass):\n",
    "                massdict[m] = elem\n",
    "                break\n",
    "        else:\n",
    "            raise ValueError\n",
    "            \n",
    "    u.add_TopologyAttr('names')\n",
    "    for m, e in massdict.items():\n",
    "        u.atoms[u.atoms.masses == m].names = e\n",
    "        \n",
    "\n",
    "add_names(u)"
   ]
  },
  {
   "cell_type": "code",
   "execution_count": 9,
   "metadata": {},
   "outputs": [
    {
     "name": "stderr",
     "output_type": "stream",
     "text": [
      "/var/folders/8_/xls29m695yl7qglq81r94h7w0000gr/T/ipykernel_36723/2561346940.py:10: DeprecationWarning: `guess_types` is deprecated!\n",
      "`guess_types` will be removed in release 3.0.0.\n",
      "MDAnalysis.topology.guessers is deprecated in favour of the new Guessers API. See MDAnalysis.guesser.default_guesser for more details.\n",
      "  elements = guess_types(u.atoms.names)\n",
      "/Users/k2584788/.local/share/mamba/envs/forked_kugupu/lib/python3.10/site-packages/MDAnalysis/topology/guessers.py:184: DeprecationWarning: `guess_atom_element` is deprecated!\n",
      "`guess_atom_element` will be removed in release 3.0.0.\n",
      "MDAnalysis.topology.guessers is deprecated in favour of the new Guessers API. See MDAnalysis.guesser.default_guesser for more details.\n",
      "  [guess_atom_element(name) for name in atom_names], dtype=object\n",
      "2025-06-12T16:12:10.136322+0100 INFO Finding dimers within 5.0, passed 250 fragments\n",
      "2025-06-12T16:12:10.481355+0100 INFO Found 3282 dimers\n"
     ]
    },
    {
     "name": "stdout",
     "output_type": "stream",
     "text": [
      "shift\n"
     ]
    },
    {
     "name": "stderr",
     "output_type": "stream",
     "text": [
      "/Users/k2584788/.local/share/mamba/envs/forked_kugupu/lib/python3.10/site-packages/openff/toolkit/topology/molecule.py:4411: MultipleComponentsInMoleculeWarning: RDKit Molecule passed to from_rdkit consists of more than one molecule, consider running rdkit.Chem.AllChem.GetMolFrags(rdmol, asMols=True) or splitting input SMILES at '.' to get separate molecules and pass them to from_rdkit one at a time. While this is supported for legacy reasons, OpenFF Molecule objects are not supposed to contain disconnected chemical graphs and this may result in undefined behavior later on. The OpenFF ecosystem is built to handle multiple molecules, but they should be in a Topology object, ex: top = Topology.from_molecules([mol1, mol2])\n",
      "  molecule = toolkit.from_rdkit(\n"
     ]
    },
    {
     "data": {
      "application/vnd.jupyter.widget-view+json": {
       "model_id": "18d9d084a67a41b7af78472a94a71dcd",
       "version_major": 2,
       "version_minor": 0
      },
      "text/plain": [
       "NGLWidget()"
      ]
     },
     "metadata": {},
     "output_type": "display_data"
    }
   ],
   "source": [
    "from openff.toolkit.topology import Molecule\n",
    "from MDAnalysis.topology.guessers import guess_types\n",
    "from kugupu._yaehmop import shift_dimer_images\n",
    "from MDAnalysis.lib.mdamath import triclinic_vectors\n",
    "from kugupu.dimers import find_dimers\n",
    "from MDAnalysis.transformations.wrap import unwrap\n",
    "\n",
    "TEST = 200\n",
    "\n",
    "elements = guess_types(u.atoms.names)\n",
    "u.add_TopologyAttr(\"elements\", elements)\n",
    "\n",
    "ag = u.atoms\n",
    "transform = mda.transformations.unwrap(ag)\n",
    "u.trajectory.add_transformations(transform)\n",
    "\n",
    "# print(u.dimensions.shape)\n",
    "example_fragments = u.atoms.fragments\n",
    "dimers_list = find_dimers(example_fragments, cutoff=5.0)\n",
    "list_dimers = sorted(dimers_list.items())\n",
    "frag_i, frag_j =list_dimers[TEST][-1]\n",
    "shifted_coords = shift_dimer_images(frag_i, frag_j)\n",
    "total_frag = frag_i + frag_j\n",
    "total_frag.positions = shifted_coords\n",
    "rdkit = total_frag.convert_to.rdkit()\n",
    "mol = Molecule.from_rdkit(rdkit, allow_undefined_stereo=True)\n",
    "mol\n"
   ]
  },
  {
   "cell_type": "code",
   "execution_count": 8,
   "metadata": {},
   "outputs": [
    {
     "name": "stderr",
     "output_type": "stream",
     "text": [
      "Connection error for http://localhost:7777/auth/v1/login: HTTPConnectionPool(host='localhost', port=7777): Max retries exceeded with url: /auth/v1/login (Caused by NewConnectionError('<urllib3.connection.HTTPConnection object at 0x322776b30>: Failed to establish a new connection: [Errno 61] Connection refused')) - retrying in 0.50 seconds [1/5]\n",
      "Connection error for http://localhost:7777/auth/v1/login: HTTPConnectionPool(host='localhost', port=7777): Max retries exceeded with url: /auth/v1/login (Caused by NewConnectionError('<urllib3.connection.HTTPConnection object at 0x322776d10>: Failed to establish a new connection: [Errno 61] Connection refused')) - retrying in 0.98 seconds [2/5]\n",
      "Connection error for http://localhost:7777/auth/v1/login: HTTPConnectionPool(host='localhost', port=7777): Max retries exceeded with url: /auth/v1/login (Caused by NewConnectionError('<urllib3.connection.HTTPConnection object at 0x3227766e0>: Failed to establish a new connection: [Errno 61] Connection refused')) - retrying in 1.99 seconds [3/5]\n",
      "Connection error for http://localhost:7777/auth/v1/login: HTTPConnectionPool(host='localhost', port=7777): Max retries exceeded with url: /auth/v1/login (Caused by NewConnectionError('<urllib3.connection.HTTPConnection object at 0x3227770d0>: Failed to establish a new connection: [Errno 61] Connection refused')) - retrying in 3.85 seconds [4/5]\n",
      "Connection error for http://localhost:7777/auth/v1/login: HTTPConnectionPool(host='localhost', port=7777): Max retries exceeded with url: /auth/v1/login (Caused by NewConnectionError('<urllib3.connection.HTTPConnection object at 0x3227772b0>: Failed to establish a new connection: [Errno 61] Connection refused')) - retrying in 8.23 seconds [5/5]\n"
     ]
    },
    {
     "ename": "ConnectionRefusedError",
     "evalue": "\n\nCould not connect to server http://localhost:7777/, please check the address and try again.",
     "output_type": "error",
     "traceback": [
      "\u001b[0;31m---------------------------------------------------------------------------\u001b[0m",
      "\u001b[0;31mConnectionRefusedError\u001b[0m                    Traceback (most recent call last)",
      "Cell \u001b[0;32mIn[8], line 12\u001b[0m\n\u001b[1;32m      9\u001b[0m PASSWORD \u001b[38;5;241m=\u001b[39m \u001b[38;5;124m\"\u001b[39m\u001b[38;5;124mkuano123\u001b[39m\u001b[38;5;124m\"\u001b[39m\n\u001b[1;32m     10\u001b[0m ADDRESS \u001b[38;5;241m=\u001b[39m\u001b[38;5;124m\"\u001b[39m\u001b[38;5;124mhttp://localhost:7777\u001b[39m\u001b[38;5;124m\"\u001b[39m\n\u001b[0;32m---> 12\u001b[0m client \u001b[38;5;241m=\u001b[39m \u001b[43mPortalClient\u001b[49m\u001b[43m(\u001b[49m\n\u001b[1;32m     13\u001b[0m \u001b[43m    \u001b[49m\u001b[43maddress\u001b[49m\u001b[38;5;241;43m=\u001b[39;49m\u001b[43mADDRESS\u001b[49m\u001b[43m,\u001b[49m\u001b[43m \u001b[49m\u001b[43musername\u001b[49m\u001b[43m \u001b[49m\u001b[38;5;241;43m=\u001b[39;49m\u001b[43m \u001b[49m\u001b[43mUSERNAME\u001b[49m\u001b[43m,\u001b[49m\u001b[43m \u001b[49m\u001b[43mpassword\u001b[49m\u001b[38;5;241;43m=\u001b[39;49m\u001b[43m \u001b[49m\u001b[43mPASSWORD\u001b[49m\n\u001b[1;32m     14\u001b[0m \u001b[43m)\u001b[49m\n",
      "File \u001b[0;32m~/.local/share/mamba/envs/forked_kugupu/lib/python3.10/site-packages/qcportal/client.py:166\u001b[0m, in \u001b[0;36mPortalClient.__init__\u001b[0;34m(self, address, username, password, verify, show_motd, cache_dir, cache_max_size)\u001b[0m\n\u001b[1;32m    133\u001b[0m \u001b[38;5;28;01mdef\u001b[39;00m\u001b[38;5;250m \u001b[39m\u001b[38;5;21m__init__\u001b[39m(\n\u001b[1;32m    134\u001b[0m     \u001b[38;5;28mself\u001b[39m,\n\u001b[1;32m    135\u001b[0m     address: \u001b[38;5;28mstr\u001b[39m,\n\u001b[0;32m   (...)\u001b[0m\n\u001b[1;32m    142\u001b[0m     cache_max_size: \u001b[38;5;28mint\u001b[39m \u001b[38;5;241m=\u001b[39m \u001b[38;5;241m0\u001b[39m,\n\u001b[1;32m    143\u001b[0m ) \u001b[38;5;241m-\u001b[39m\u001b[38;5;241m>\u001b[39m \u001b[38;5;28;01mNone\u001b[39;00m:\n\u001b[1;32m    144\u001b[0m \u001b[38;5;250m    \u001b[39m\u001b[38;5;124;03m\"\"\"\u001b[39;00m\n\u001b[1;32m    145\u001b[0m \u001b[38;5;124;03m    Parameters\u001b[39;00m\n\u001b[1;32m    146\u001b[0m \u001b[38;5;124;03m    ----------\u001b[39;00m\n\u001b[0;32m   (...)\u001b[0m\n\u001b[1;32m    163\u001b[0m \u001b[38;5;124;03m        Maximum size of the cache directory\u001b[39;00m\n\u001b[1;32m    164\u001b[0m \u001b[38;5;124;03m    \"\"\"\u001b[39;00m\n\u001b[0;32m--> 166\u001b[0m     \u001b[43mPortalClientBase\u001b[49m\u001b[38;5;241;43m.\u001b[39;49m\u001b[38;5;21;43m__init__\u001b[39;49m\u001b[43m(\u001b[49m\u001b[38;5;28;43mself\u001b[39;49m\u001b[43m,\u001b[49m\u001b[43m \u001b[49m\u001b[43maddress\u001b[49m\u001b[43m,\u001b[49m\u001b[43m \u001b[49m\u001b[43musername\u001b[49m\u001b[43m,\u001b[49m\u001b[43m \u001b[49m\u001b[43mpassword\u001b[49m\u001b[43m,\u001b[49m\u001b[43m \u001b[49m\u001b[43mverify\u001b[49m\u001b[43m,\u001b[49m\u001b[43m \u001b[49m\u001b[43mshow_motd\u001b[49m\u001b[43m)\u001b[49m\n\u001b[1;32m    167\u001b[0m     \u001b[38;5;28mself\u001b[39m\u001b[38;5;241m.\u001b[39m_logger \u001b[38;5;241m=\u001b[39m logging\u001b[38;5;241m.\u001b[39mgetLogger(\u001b[38;5;124m\"\u001b[39m\u001b[38;5;124mPortalClient\u001b[39m\u001b[38;5;124m\"\u001b[39m)\n\u001b[1;32m    168\u001b[0m     \u001b[38;5;28mself\u001b[39m\u001b[38;5;241m.\u001b[39mcache \u001b[38;5;241m=\u001b[39m PortalCache(address, cache_dir, cache_max_size)\n",
      "File \u001b[0;32m~/.local/share/mamba/envs/forked_kugupu/lib/python3.10/site-packages/qcportal/client_base.py:157\u001b[0m, in \u001b[0;36mPortalClientBase.__init__\u001b[0;34m(self, address, username, password, verify, show_motd, information_endpoint)\u001b[0m\n\u001b[1;32m    155\u001b[0m     \u001b[38;5;28mself\u001b[39m\u001b[38;5;241m.\u001b[39m_username \u001b[38;5;241m=\u001b[39m username\n\u001b[1;32m    156\u001b[0m     \u001b[38;5;28mself\u001b[39m\u001b[38;5;241m.\u001b[39m_password \u001b[38;5;241m=\u001b[39m password\n\u001b[0;32m--> 157\u001b[0m     \u001b[38;5;28;43mself\u001b[39;49m\u001b[38;5;241;43m.\u001b[39;49m\u001b[43m_get_JWT_token\u001b[49m\u001b[43m(\u001b[49m\u001b[43m)\u001b[49m\n\u001b[1;32m    158\u001b[0m \u001b[38;5;28;01melse\u001b[39;00m:\n\u001b[1;32m    159\u001b[0m     \u001b[38;5;28mself\u001b[39m\u001b[38;5;241m.\u001b[39m_username \u001b[38;5;241m=\u001b[39m \u001b[38;5;28;01mNone\u001b[39;00m\n",
      "File \u001b[0;32m~/.local/share/mamba/envs/forked_kugupu/lib/python3.10/site-packages/qcportal/client_base.py:363\u001b[0m, in \u001b[0;36mPortalClientBase._get_JWT_token\u001b[0;34m(self)\u001b[0m\n\u001b[1;32m    360\u001b[0m json \u001b[38;5;241m=\u001b[39m {\u001b[38;5;124m\"\u001b[39m\u001b[38;5;124musername\u001b[39m\u001b[38;5;124m\"\u001b[39m: \u001b[38;5;28mself\u001b[39m\u001b[38;5;241m.\u001b[39m_username, \u001b[38;5;124m\"\u001b[39m\u001b[38;5;124mpassword\u001b[39m\u001b[38;5;124m\"\u001b[39m: \u001b[38;5;28mself\u001b[39m\u001b[38;5;241m.\u001b[39m_password}\n\u001b[1;32m    362\u001b[0m req \u001b[38;5;241m=\u001b[39m requests\u001b[38;5;241m.\u001b[39mRequest(method\u001b[38;5;241m=\u001b[39m\u001b[38;5;124m\"\u001b[39m\u001b[38;5;124mPOST\u001b[39m\u001b[38;5;124m\"\u001b[39m, url\u001b[38;5;241m=\u001b[39mfull_uri, json\u001b[38;5;241m=\u001b[39mjson)\n\u001b[0;32m--> 363\u001b[0m ret \u001b[38;5;241m=\u001b[39m \u001b[38;5;28;43mself\u001b[39;49m\u001b[38;5;241;43m.\u001b[39;49m\u001b[43m_send_request\u001b[49m\u001b[43m(\u001b[49m\u001b[43mreq\u001b[49m\u001b[43m)\u001b[49m\n\u001b[1;32m    365\u001b[0m \u001b[38;5;28;01mif\u001b[39;00m ret\u001b[38;5;241m.\u001b[39mstatus_code \u001b[38;5;241m==\u001b[39m \u001b[38;5;241m200\u001b[39m:\n\u001b[1;32m    366\u001b[0m     ret_json \u001b[38;5;241m=\u001b[39m ret\u001b[38;5;241m.\u001b[39mjson()\n",
      "File \u001b[0;32m~/.local/share/mamba/envs/forked_kugupu/lib/python3.10/site-packages/qcportal/client_base.py:347\u001b[0m, in \u001b[0;36mPortalClientBase._send_request\u001b[0;34m(self, req, allow_retries)\u001b[0m\n\u001b[1;32m    345\u001b[0m     \u001b[38;5;28;01mraise\u001b[39;00m \u001b[38;5;167;01mConnectionRefusedError\u001b[39;00m(_ssl_error_msg) \u001b[38;5;28;01mfrom\u001b[39;00m\u001b[38;5;250m \u001b[39m\u001b[38;5;28;01mNone\u001b[39;00m\n\u001b[1;32m    346\u001b[0m \u001b[38;5;28;01mexcept\u001b[39;00m requests\u001b[38;5;241m.\u001b[39mexceptions\u001b[38;5;241m.\u001b[39mConnectionError:\n\u001b[0;32m--> 347\u001b[0m     \u001b[38;5;28;01mraise\u001b[39;00m \u001b[38;5;167;01mConnectionRefusedError\u001b[39;00m(_connection_error_msg\u001b[38;5;241m.\u001b[39mformat(\u001b[38;5;28mself\u001b[39m\u001b[38;5;241m.\u001b[39maddress)) \u001b[38;5;28;01mfrom\u001b[39;00m\u001b[38;5;250m \u001b[39m\u001b[38;5;28;01mNone\u001b[39;00m\n\u001b[1;32m    349\u001b[0m \u001b[38;5;28;01mif\u001b[39;00m \u001b[38;5;28mself\u001b[39m\u001b[38;5;241m.\u001b[39mdebug_requests:\n\u001b[1;32m    350\u001b[0m     pretty_print_response(ret)\n",
      "\u001b[0;31mConnectionRefusedError\u001b[0m: \n\nCould not connect to server http://localhost:7777/, please check the address and try again."
     ]
    }
   ],
   "source": [
    "from qcportal.singlepoint import SinglepointDriver\n",
    "from openff.qcsubmit.factories import BasicDatasetFactory\n",
    "from openff.qcsubmit.common_structures import QCSpec\n",
    "from qcelemental.models.results import WavefunctionProtocolEnum\n",
    "from qcportal import PortalClient\n",
    "\n",
    "\n",
    "USERNAME = \"charlie\"\n",
    "PASSWORD = \"kuano123\"\n",
    "ADDRESS =\"http://localhost:7777\"\n",
    "\n",
    "client = PortalClient(\n",
    "    address=ADDRESS, username = USERNAME, password= PASSWORD\n",
    ")\n",
    "\n"
   ]
  },
  {
   "cell_type": "code",
   "execution_count": null,
   "metadata": {},
   "outputs": [
    {
     "name": "stderr",
     "output_type": "stream",
     "text": [
      "Deduplication                 : 100%|█████████████| 1/1 [00:00<00:00, 67.62it/s]\n",
      "Preparation                   :   0%|                     | 0/1 [00:00<?, ?it/s]/Users/k2584788/.local/share/mamba/envs/forked_kugupu/lib/python3.10/site-packages/openff/qcsubmit/utils/smirnoff.py:196: UnitStrippedWarning: The unit of the quantity is stripped when downcasting to ndarray.\n",
      "  new_conformer[index_mapping[i]] = conformer[i]\n",
      "Preparation                   : 100%|█████████████| 1/1 [00:00<00:00,  2.31it/s]\n",
      "'metadata' parameter has been deprecated and will be removed in a future version. Use 'extras' instead\n",
      "'tag' is deprecated; use 'compute_tag' instead\n",
      "'priority' is deprecated; use 'compute_priority' instead\n"
     ]
    },
    {
     "data": {
      "text/plain": [
       "InsertCountsMetadata(n_inserted=1, n_existing=0, error_description=None, errors=[])"
      ]
     },
     "execution_count": 18,
     "metadata": {},
     "output_type": "execute_result"
    }
   ],
   "source": [
    "factory = BasicDatasetFactory(\n",
    "    driver=SinglepointDriver.energy,\n",
    "    qc_specifications={\n",
    "        \"xtb\": QCSpec(\n",
    "            program=\"xtb\",\n",
    "            method=\"gfn0xtb\",\n",
    "            basis=None,\n",
    "            spec_name=\"ani1ccx\",\n",
    "            spec_description=\"ANI1ccx standard specification\",\n",
    "            store_wavefunction=WavefunctionProtocolEnum.all\n",
    "        ),\n",
    "    },\n",
    ")\n",
    "molecules = [mol]\n",
    "factory.compute_tag = 'xtb'\n",
    "dataset = factory.create_dataset(\n",
    "    dataset_name=\"xtb_test\",\n",
    "    description=\"xtb test for coupling\",\n",
    "    tagline=\"test dataset for xtb wavefunction\",\n",
    "    molecules=molecules,  #I deleted\n",
    ")\n",
    "dataset.submit(\n",
    "    client = client,\n",
    ")"
   ]
  },
  {
   "cell_type": "code",
   "execution_count": null,
   "metadata": {},
   "outputs": [
    {
     "data": {
      "text/plain": [
       "array([[103.76624298, 140.33729553,  68.82037354],\n",
       "       [104.44104767, 139.38671875,  69.59480286],\n",
       "       [105.59061432, 138.71580505,  69.09468842],\n",
       "       ...,\n",
       "       [105.59033966, 151.08242798,  64.61215973],\n",
       "       [106.18034363, 149.52819824,  64.34603119],\n",
       "       [105.53399658, 150.41226196,  62.96197128]])"
      ]
     },
     "execution_count": 20,
     "metadata": {},
     "output_type": "execute_result"
    }
   ],
   "source": [
    "numbers = np.array([atom.atomic_number for atom in mol.atoms])\n",
    "positions = mol.conformers[0]\n",
    "positions.m"
   ]
  },
  {
   "cell_type": "code",
   "execution_count": 17,
   "metadata": {},
   "outputs": [
    {
     "name": "stdout",
     "output_type": "stream",
     "text": [
      "------------------------------------------------------------\n",
      "  cycle        total energy    energy error   density error\n",
      "------------------------------------------------------------\n",
      "      1      57.21831038599  -4.2833039E+02   5.9511351E-01\n",
      "      2      54.68673176635  -2.5315786E+00   3.0231521E-01\n",
      "      3      102.5958102302   4.7909078E+01   2.6083096E-01\n",
      "      4      105.3795070570   2.7836968E+00   2.0462745E-01\n",
      "      5      85.41514583511  -1.9964361E+01   1.7169666E-01\n",
      "      6      49.00883299856  -3.6406313E+01   8.3713708E-02\n",
      "      7      56.32894944671   7.3201164E+00   7.3079263E-02\n",
      "      8      62.27967254279   5.9507231E+00   8.2362534E-02\n",
      "      9      47.85408211164  -1.4425590E+01   4.7535651E-02\n",
      "     10      45.64213424545  -2.2119479E+00   3.8889794E-02\n",
      "     11      44.06991551298  -1.5722187E+00   2.2194440E-02\n",
      "     12      43.77102245850  -2.9889305E-01   1.7076444E-02\n",
      "     13      44.20989510477   4.3887265E-01   1.8717085E-02\n",
      "     14      43.74778197772  -4.6211313E-01   1.4081340E-02\n",
      "     15      43.78349645558   3.5714478E-02   1.1971219E-02\n",
      "     16      43.67798774545  -1.0550871E-01   8.4093548E-03\n",
      "     17      43.66989730325  -8.0904422E-03   6.2377816E-03\n",
      "     18      43.65138826987  -1.8509033E-02   4.7354496E-03\n",
      "     19      43.64359714194  -7.7911279E-03   4.0730566E-03\n",
      "     20      43.64572481671   2.1276748E-03   3.6099927E-03\n",
      "     21      43.64077343871  -4.9513780E-03   2.7814395E-03\n",
      "     22      43.63243752001  -8.3359187E-03   2.0635937E-03\n",
      "     23      43.63212045978  -3.1706023E-04   1.4769611E-03\n",
      "     24      43.63045068703  -1.6697727E-03   9.7038325E-04\n",
      "     25      43.62940005501  -1.0506320E-03   5.4718292E-04\n",
      "     26      43.62901863865  -3.8141635E-04   2.9580736E-04\n",
      "     27      43.62887627281  -1.4236584E-04   1.6432720E-04\n",
      "     28      43.62886470550  -1.1567312E-05   1.0606433E-04\n",
      "     29      43.62885924320  -5.4622980E-06   8.3941173E-05\n",
      "     30      43.62885408855  -5.1546552E-06   5.5380078E-05\n",
      "     31      43.62885509579   1.0072450E-06   3.7971636E-05\n",
      "     32      43.62885255111  -2.5446773E-06   1.7763345E-05\n",
      "     33      43.62885237964  -1.7147380E-07   1.3205238E-05\n",
      "------------------------------------------------------------\n",
      "\n",
      " total:                                   5.441 sec\n"
     ]
    }
   ],
   "source": [
    "\n",
    "from tblite.interface import Calculator\n",
    "\n",
    "numbers = np.array([atom.atomic_number for atom in mol.atoms])\n",
    "positions = mol.conformers[0].m\n",
    "\n",
    "calc = Calculator(\n",
    "    method=\"GFN2-xTB\",\n",
    "    numbers=numbers,\n",
    "    positions=positions,\n",
    ")\n",
    "calc.set('save-integrals', 1)\n",
    "res = calc.singlepoint()\n",
    "S_mat = res.get('overlap-matrix')\n",
    "H_mat = res.get('hamiltonian-matrix')"
   ]
  },
  {
   "cell_type": "code",
   "execution_count": null,
   "metadata": {},
   "outputs": [
    {
     "name": "stdout",
     "output_type": "stream",
     "text": [
      "\n",
      " iter      E             dE          RMSdq      gap      omega  full diag\n",
      "   1   -431.2651078 -0.431265E+03  0.192E+01    0.19       0.0  T\n",
      "   2   -431.5061831 -0.241075E+00  0.961E+00    0.51       1.0  T\n",
      "   3   -371.9661008  0.595401E+02  0.894E+00    0.06       1.0  T\n",
      "   4   -391.4756737 -0.195096E+02  0.645E+00    0.07       1.0  T\n",
      "   5   -432.8189641 -0.413433E+02  0.373E+00    0.11       1.0  T\n",
      "   6   -421.2732293  0.115457E+02  0.339E+00    0.04       1.0  T\n",
      "   7   -422.6568401 -0.138361E+01  0.313E+00    0.11       1.0  T\n",
      "   8   -432.2719046 -0.961506E+01  0.237E+00    0.05       1.0  T\n",
      "   9   -438.6579522 -0.638605E+01  0.135E+00    0.22       1.0  T\n",
      "  10   -440.7890410 -0.213109E+01  0.105E+00    0.14       1.0  T\n",
      "  11   -441.3664959 -0.577455E+00  0.803E-01    0.12       1.0  T\n",
      "  12   -440.8291328  0.537363E+00  0.826E-01    0.05       1.0  T\n",
      "  13   -441.2306727 -0.401540E+00  0.710E-01    0.13       1.0  T\n",
      "  14   -441.6621432 -0.431471E+00  0.477E-01    0.15       1.0  T\n",
      "  15   -441.7261325 -0.639893E-01  0.350E-01    0.00       1.0  T\n",
      "  16   -441.8507547 -0.124622E+00  0.249E-01    0.16       1.0  T\n",
      "  17   -441.8605845 -0.982980E-02  0.209E-01    0.17       1.0  T\n",
      "  18   -441.8994521 -0.388675E-01  0.136E-01    0.05       1.0  T\n",
      "  19   -441.9087027 -0.925064E-02  0.111E-01    0.13       1.0  T\n",
      "  20   -441.9011046  0.759807E-02  0.907E-02    0.05       1.0  T\n",
      "  21   -441.9042736 -0.316900E-02  0.917E-02    0.14       1.0  T\n",
      "  22   -441.9094124 -0.513872E-02  0.740E-02    0.15       1.0  T\n",
      "  23   -441.9139319 -0.451957E-02  0.552E-02    0.15       1.0  T\n",
      "  24   -441.9163805 -0.244856E-02  0.379E-02    0.14       1.0  T\n",
      "  25   -441.9193415 -0.296095E-02  0.173E-02    0.13       1.0  T\n",
      "  26   -441.9197159 -0.374477E-03  0.989E-03    0.12       1.0  T\n",
      "  27   -441.9197022  0.137225E-04  0.873E-03    0.12       1.0  T\n",
      "  28   -441.9197802 -0.780253E-04  0.501E-03    0.12       1.0  T\n",
      "  29   -441.9197911 -0.108731E-04  0.426E-03    0.12       1.2  T\n",
      "  30   -441.9197962 -0.506800E-05  0.341E-03    0.12       1.5  T\n",
      "  31   -441.9198075 -0.113650E-04  0.226E-03    0.12       2.3  T\n",
      "  32   -441.9198138 -0.625739E-05  0.925E-04    0.12       5.6  T\n",
      "  33   -441.9198141 -0.280591E-06  0.631E-04    0.12       8.2  T\n",
      "  34   -441.9198137  0.353180E-06  0.711E-04    0.12       7.3  T\n",
      "     SCC iter.                  ...        0 min,  4.892 sec\n",
      "     gradient                   ...        0 min,  0.864 sec\n"
     ]
    }
   ],
   "source": []
  },
  {
   "cell_type": "code",
   "execution_count": null,
   "metadata": {},
   "outputs": [
    {
     "data": {
      "text/plain": [
       "array([-1.18359599, -1.17512779, -1.16068435, ..., 52.10569017,\n",
       "       52.66710544, 53.64378493])"
      ]
     },
     "execution_count": 24,
     "metadata": {},
     "output_type": "execute_result"
    }
   ],
   "source": [
    "res.get_orbital_eigenvalues()"
   ]
  },
  {
   "cell_type": "markdown",
   "metadata": {},
   "source": [
    "## Running the coupling matrix calculation\n",
    "\n",
    "The coupling matrix between fragments is calculated using the `kgp.coupling_matrix` function.\n",
    "\n",
    "Here we are calculating the coupling matrix for fragments in the Universe `u` where\n",
    "- coupling is calculated between fragments with a closest approach of less than 5.0 Angstrom (`nn_cutoff`)\n",
    "- coupling is calculated between the LUMO upwards (`state='lumo'`)\n",
    "- one state per fragment is considered (`degeneracy=1`)\n",
    "- we will analyse up to frame 3 (`stop=3`)\n",
    "\n",
    "This function will (for each frame)\n",
    "- identify which fragments are close enough to possibly be electronically coupled\n",
    "- run a tight binding calculation between all pairs identified\n",
    "- calculate the molecular coupling based on this tight binding calculation"
   ]
  },
  {
   "cell_type": "code",
   "execution_count": null,
   "metadata": {},
   "outputs": [
    {
     "name": "stderr",
     "output_type": "stream",
     "text": [
      "/Users/k2584788/.local/share/mamba/envs/forked_kugupu/lib/python3.10/site-packages/distributed/node.py:187: UserWarning: Port 8787 is already in use.\n",
      "Perhaps you already have a cluster running?\n",
      "Hosting the HTTP server on port 60825 instead\n",
      "  warnings.warn(\n",
      "2025-06-05T16:08:09.655317+0100 INFO Processing 3 frames\n",
      "2025-06-05T16:08:09.657143+0100 INFO Processing frame 1 of 3\n",
      "/Users/k2584788/.local/share/mamba/envs/forked_kugupu/lib/python3.10/site-packages/MDAnalysis/coordinates/DCD.py:165: DeprecationWarning: DCDReader currently makes independent timesteps by copying self.ts while other readers update self.ts inplace. This behavior will be changed in 3.0 to be the same as other readers. Read more at https://github.com/MDAnalysis/mdanalysis/issues/3889 to learn if this change in behavior might affect you.\n",
      "  warnings.warn(\"DCDReader currently makes independent timesteps\"\n",
      "2025-06-05T16:08:10.030477+0100 INFO Finding dimers within 5.0, passed 250 fragments\n",
      "2025-06-05T16:08:10.387019+0100 INFO Found 3282 dimers\n",
      "/Users/k2584788/.local/share/mamba/envs/forked_kugupu/lib/python3.10/site-packages/dig/threedgraph/utils/geometric_computing.py:47: UserWarning: Using torch.cross without specifying the dim arg is deprecated.\n",
      "Please either pass the dim explicitly or simply use torch.linalg.cross.\n",
      "The default value of dim will change to agree with that of linalg.cross in a future release. (Triggered internally at /Users/runner/miniforge3/conda-bld/libtorch_1744233393360/work/aten/src/ATen/native/Cross.cpp:66.)\n",
      "  b = torch.cross(pos_ji, pos_jk).norm(dim=-1) # sin_angle * |pos_ji| * |pos_jk|\n",
      "2025-06-05T16:28:40.285882+0100 INFO Processing frame 2 of 3\n",
      "2025-06-05T16:28:40.823959+0100 INFO Finding dimers within 5.0, passed 250 fragments\n",
      "2025-06-05T16:28:41.183494+0100 INFO Found 3286 dimers\n",
      "2025-06-05T16:51:16.297262+0100 INFO Processing frame 3 of 3\n",
      "2025-06-05T16:51:16.763399+0100 INFO Finding dimers within 5.0, passed 250 fragments\n",
      "2025-06-05T16:51:17.102088+0100 INFO Found 3254 dimers\n"
     ]
    }
   ],
   "source": [
    "res = kgp.coupling_matrix(u, nn_cutoff=5.0, state='lumo', degeneracy=1, stop=3, model='ocelotml', client=True)"
   ]
  },
  {
   "cell_type": "markdown",
   "metadata": {},
   "source": [
    "The `res` object is a namedtuple which contains all the data necessary to perform further analysis.\n",
    "This object has various attributes which will not be briefly explained.\n",
    "\n",
    "The `.frames` attribute records which frames from the trajectory were analysed.\n",
    "This is useful to later cross reference data with the original MD trajectory data."
   ]
  },
  {
   "cell_type": "code",
   "execution_count": null,
   "metadata": {},
   "outputs": [
    {
     "name": "stdout",
     "output_type": "stream",
     "text": [
      "[0 1 2]\n"
     ]
    }
   ],
   "source": [
    "print(res.frames)"
   ]
  },
  {
   "cell_type": "markdown",
   "metadata": {},
   "source": [
    "The `.degeneracy` attribute stores how many degenerate states were considered for each fragment.\n",
    "This value will not change over time, so this array has shape `nfragments`.\n",
    "\n",
    "In this example only a single state per fragment was considered. "
   ]
  },
  {
   "cell_type": "code",
   "execution_count": null,
   "metadata": {},
   "outputs": [
    {
     "name": "stdout",
     "output_type": "stream",
     "text": [
      "[1 1 1 1 1 1 1 1 1 1 1 1 1 1 1 1 1 1 1 1 1 1 1 1 1 1 1 1 1 1 1 1 1 1 1 1 1\n",
      " 1 1 1 1 1 1 1 1 1 1 1 1 1 1 1 1 1 1 1 1 1 1 1 1 1 1 1 1 1 1 1 1 1 1 1 1 1\n",
      " 1 1 1 1 1 1 1 1 1 1 1 1 1 1 1 1 1 1 1 1 1 1 1 1 1 1 1 1 1 1 1 1 1 1 1 1 1\n",
      " 1 1 1 1 1 1 1 1 1 1 1 1 1 1 1 1 1 1 1 1 1 1 1 1 1 1 1 1 1 1 1 1 1 1 1 1 1\n",
      " 1 1 1 1 1 1 1 1 1 1 1 1 1 1 1 1 1 1 1 1 1 1 1 1 1 1 1 1 1 1 1 1 1 1 1 1 1\n",
      " 1 1 1 1 1 1 1 1 1 1 1 1 1 1 1 1 1 1 1 1 1 1 1 1 1 1 1 1 1 1 1 1 1 1 1 1 1\n",
      " 1 1 1 1 1 1 1 1 1 1 1 1 1 1 1 1 1 1 1 1 1 1 1 1 1 1 1 1]\n"
     ]
    }
   ],
   "source": [
    "print(res.degeneracy)"
   ]
  },
  {
   "cell_type": "markdown",
   "metadata": {},
   "source": [
    "The `.H_frag` attribute contains the molecular coupling values, stored inside a 3d numpy array.\n",
    "The first dimension is along the number of frames (quasi time axis),\n",
    "while the other two move along fragments in the system.\n",
    "\n",
    "For example `res.H_frag[0, 1, 71]` gives the coupling (in eV) between the 2nd and 13th fragments in the first frame."
   ]
  },
  {
   "cell_type": "code",
   "execution_count": null,
   "metadata": {},
   "outputs": [
    {
     "name": "stdout",
     "output_type": "stream",
     "text": [
      "(3, 250, 250)\n",
      "0.0002765886942250739\n"
     ]
    }
   ],
   "source": [
    "print(res.H_frag.shape)\n",
    "\n",
    "print(res.H_frag[2, 1, 71])"
   ]
  },
  {
   "cell_type": "markdown",
   "metadata": {},
   "source": [
    "Producing these results is often a time consuming part of the analysis,\n",
    "therefore it is wise to save them to a file so you can come back to them later!\n",
    "\n",
    "This can be done using the `kugupu.save_results` function, which will save the results to a hdf5 (compressed) format."
   ]
  },
  {
   "cell_type": "code",
   "execution_count": null,
   "metadata": {},
   "outputs": [],
   "source": [
    "kgp.save_results('myresults.hdf5', res)"
   ]
  },
  {
   "cell_type": "markdown",
   "metadata": {},
   "source": [
    "These results can then be retrieved again using the `kugupu.load_results` function:"
   ]
  },
  {
   "cell_type": "code",
   "execution_count": null,
   "metadata": {},
   "outputs": [
    {
     "data": {
      "text/plain": [
       "KugupuResults(frames=array([0, 1, 2]), H_frag=array([[[-10.27936597,   0.        ,   0.        , ...,   0.        ,\n",
       "           0.        ,   0.        ],\n",
       "        [  0.        , -10.32038834,   0.        , ...,   0.        ,\n",
       "           0.        ,   0.        ],\n",
       "        [  0.        ,   0.        , -10.35344287, ...,   0.        ,\n",
       "           0.        ,   0.        ],\n",
       "        ...,\n",
       "        [  0.        ,   0.        ,   0.        , ..., -10.43146138,\n",
       "           0.        ,   0.        ],\n",
       "        [  0.        ,   0.        ,   0.        , ...,   0.        ,\n",
       "         -10.50477574,   0.        ],\n",
       "        [  0.        ,   0.        ,   0.        , ...,   0.        ,\n",
       "           0.        , -10.37584228]],\n",
       "\n",
       "       [[-10.38898008,   0.        ,   0.        , ...,   0.        ,\n",
       "           0.        ,   0.        ],\n",
       "        [  0.        , -10.43337746,   0.        , ...,   0.        ,\n",
       "           0.        ,   0.        ],\n",
       "        [  0.        ,   0.        , -10.44523772, ...,   0.        ,\n",
       "           0.        ,   0.        ],\n",
       "        ...,\n",
       "        [  0.        ,   0.        ,   0.        , ..., -10.34584384,\n",
       "           0.        ,   0.        ],\n",
       "        [  0.        ,   0.        ,   0.        , ...,   0.        ,\n",
       "         -10.30430813,   0.        ],\n",
       "        [  0.        ,   0.        ,   0.        , ...,   0.        ,\n",
       "           0.        , -10.42368578]],\n",
       "\n",
       "       [[-10.34067138,   0.        ,   0.        , ...,   0.        ,\n",
       "           0.        ,   0.        ],\n",
       "        [  0.        , -10.34907937,   0.        , ...,   0.        ,\n",
       "           0.        ,   0.        ],\n",
       "        [  0.        ,   0.        , -10.41644247, ...,   0.        ,\n",
       "           0.        ,   0.        ],\n",
       "        ...,\n",
       "        [  0.        ,   0.        ,   0.        , ..., -10.23528128,\n",
       "           0.        ,   0.        ],\n",
       "        [  0.        ,   0.        ,   0.        , ...,   0.        ,\n",
       "         -10.46742314,   0.        ],\n",
       "        [  0.        ,   0.        ,   0.        , ...,   0.        ,\n",
       "           0.        , -10.41446069]]], shape=(3, 250, 250)), degeneracy=array([1, 1, 1, 1, 1, 1, 1, 1, 1, 1, 1, 1, 1, 1, 1, 1, 1, 1, 1, 1, 1, 1,\n",
       "       1, 1, 1, 1, 1, 1, 1, 1, 1, 1, 1, 1, 1, 1, 1, 1, 1, 1, 1, 1, 1, 1,\n",
       "       1, 1, 1, 1, 1, 1, 1, 1, 1, 1, 1, 1, 1, 1, 1, 1, 1, 1, 1, 1, 1, 1,\n",
       "       1, 1, 1, 1, 1, 1, 1, 1, 1, 1, 1, 1, 1, 1, 1, 1, 1, 1, 1, 1, 1, 1,\n",
       "       1, 1, 1, 1, 1, 1, 1, 1, 1, 1, 1, 1, 1, 1, 1, 1, 1, 1, 1, 1, 1, 1,\n",
       "       1, 1, 1, 1, 1, 1, 1, 1, 1, 1, 1, 1, 1, 1, 1, 1, 1, 1, 1, 1, 1, 1,\n",
       "       1, 1, 1, 1, 1, 1, 1, 1, 1, 1, 1, 1, 1, 1, 1, 1, 1, 1, 1, 1, 1, 1,\n",
       "       1, 1, 1, 1, 1, 1, 1, 1, 1, 1, 1, 1, 1, 1, 1, 1, 1, 1, 1, 1, 1, 1,\n",
       "       1, 1, 1, 1, 1, 1, 1, 1, 1, 1, 1, 1, 1, 1, 1, 1, 1, 1, 1, 1, 1, 1,\n",
       "       1, 1, 1, 1, 1, 1, 1, 1, 1, 1, 1, 1, 1, 1, 1, 1, 1, 1, 1, 1, 1, 1,\n",
       "       1, 1, 1, 1, 1, 1, 1, 1, 1, 1, 1, 1, 1, 1, 1, 1, 1, 1, 1, 1, 1, 1,\n",
       "       1, 1, 1, 1, 1, 1, 1, 1]))"
      ]
     },
     "execution_count": 12,
     "metadata": {},
     "output_type": "execute_result"
    }
   ],
   "source": [
    "kgp.load_results('./myresults.hdf5')"
   ]
  },
  {
   "cell_type": "code",
   "execution_count": null,
   "metadata": {},
   "outputs": [],
   "source": []
  }
 ],
 "metadata": {
  "kernelspec": {
   "display_name": "Python 3",
   "language": "python",
   "name": "python3"
  },
  "language_info": {
   "codemirror_mode": {
    "name": "ipython",
    "version": 3
   },
   "file_extension": ".py",
   "mimetype": "text/x-python",
   "name": "python",
   "nbconvert_exporter": "python",
   "pygments_lexer": "ipython3",
   "version": "3.10.17"
  }
 },
 "nbformat": 4,
 "nbformat_minor": 2
}
