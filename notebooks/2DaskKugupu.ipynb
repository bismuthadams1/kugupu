{
 "cells": [
  {
   "cell_type": "markdown",
   "metadata": {},
   "source": [
    "# Dask and kugupu\n",
    "\n",
    "The generation of the coupling matrix is the most time consuming calculation done in kugupu.\n",
    "Luckily as there are no dependencies in calculating different frames, the problem is embarrassingly parallel.\n",
    "Kugupu is able to use the `dask.distributed` package to calculate many frames in parallel,\n",
    "as show in this notebook"
   ]
  },
  {
   "cell_type": "code",
   "execution_count": null,
   "metadata": {},
   "outputs": [],
   "source": [
    "import kugupu as kgp\n",
    "import MDAnalysis as mda\n",
    "from dask import distributed"
   ]
  },
  {
   "cell_type": "markdown",
   "metadata": {},
   "source": [
    "First we load our simulation data as normal:"
   ]
  },
  {
   "cell_type": "code",
   "execution_count": null,
   "metadata": {},
   "outputs": [],
   "source": [
    "u = mda.Universe('./datafiles/C6.data', './datafiles/C6.dcd')\n",
    "\n",
    "u.add_TopologyAttr('names')\n",
    "namedict = {\n",
    "    1.008: 'H',\n",
    "    12.011: 'C',\n",
    "    14.007: 'N',\n",
    "    15.999: 'O',\n",
    "    32.06: 'S',\n",
    "}\n",
    "for m, n in namedict.items():\n",
    "    u.atoms[u.atoms.masses == m].names = n"
   ]
  },
  {
   "cell_type": "markdown",
   "metadata": {},
   "source": [
    "Now now create a `distributed.Client` to assign the work to.\n",
    "Here we create a Client running on our local machine, however it is also possible to use a much more powerful Client."
   ]
  },
  {
   "cell_type": "code",
   "execution_count": null,
   "metadata": {},
   "outputs": [],
   "source": [
    "c = distributed.Client()\n",
    "c"
   ]
  },
  {
   "cell_type": "markdown",
   "metadata": {},
   "source": [
    "The generation of results uses the same function,\n",
    "but we include the `client=` keyword to make the calculation happen in parallel."
   ]
  },
  {
   "cell_type": "code",
   "execution_count": null,
   "metadata": {},
   "outputs": [],
   "source": [
    "res = kgp.coupling_matrix(u, 5.0, 'lumo', degeneracy=1, client=c)"
   ]
  },
  {
   "cell_type": "markdown",
   "metadata": {},
   "source": [
    "The results generated this way are identical to as before, and can be saved and used is subsequent analysis as normal."
   ]
  },
  {
   "cell_type": "code",
   "execution_count": null,
   "metadata": {},
   "outputs": [],
   "source": []
  }
 ],
 "metadata": {
  "kernelspec": {
   "display_name": "Python 3",
   "language": "python",
   "name": "python3"
  },
  "language_info": {
   "codemirror_mode": {
    "name": "ipython",
    "version": 3
   },
   "file_extension": ".py",
   "mimetype": "text/x-python",
   "name": "python",
   "nbconvert_exporter": "python",
   "pygments_lexer": "ipython3",
   "version": "3.6.7"
  }
 },
 "nbformat": 4,
 "nbformat_minor": 2
}
