{
 "cells": [
  {
   "cell_type": "code",
   "execution_count": null,
   "metadata": {},
   "outputs": [],
   "source": [
    "import kugupu as kgp\n",
    "import MDAnalysis as mda\n",
    "import nglview as nv\n",
    "import numpy as np"
   ]
  },
  {
   "cell_type": "code",
   "execution_count": null,
   "metadata": {},
   "outputs": [],
   "source": [
    "res = kgp.load_results('datafiles/results.hdf5')"
   ]
  },
  {
   "cell_type": "code",
   "execution_count": null,
   "metadata": {},
   "outputs": [],
   "source": [
    "def add_names(u):\n",
    "    # Guesses atom names based upon masses\n",
    "    def approx_equal(x, y):\n",
    "        return abs(x - y) < 0.1\n",
    "    \n",
    "    # mapping of atom mass to element\n",
    "    massdict = {}\n",
    "    for m in set(u.atoms.masses):\n",
    "        for elem, elem_mass in mda.topology.tables.masses.items():\n",
    "            if approx_equal(m, elem_mass):\n",
    "                massdict[m] = elem\n",
    "                break\n",
    "        else:\n",
    "            raise ValueError\n",
    "            \n",
    "    u.add_TopologyAttr('names')\n",
    "    for m, e in massdict.items():\n",
    "        u.atoms[u.atoms.masses == m].names = e"
   ]
  },
  {
   "cell_type": "code",
   "execution_count": null,
   "metadata": {},
   "outputs": [],
   "source": [
    "u = mda.Universe('./datafiles/C6.data', './datafiles/C6.dcd')"
   ]
  },
  {
   "cell_type": "code",
   "execution_count": null,
   "metadata": {},
   "outputs": [],
   "source": [
    "add_names(u)"
   ]
  },
  {
   "cell_type": "code",
   "execution_count": null,
   "metadata": {},
   "outputs": [],
   "source": [
    "nets = kgp.networks.find_networks(u.atoms.fragments, res.H_frag[0], res.degeneracy, 0.001)"
   ]
  },
  {
   "cell_type": "code",
   "execution_count": null,
   "metadata": {},
   "outputs": [],
   "source": [
    "v = kgp.visualise.draw_network(nets[0])\n",
    "v.add_unitcell()\n",
    "v"
   ]
  }
 ],
 "metadata": {
  "kernelspec": {
   "display_name": "Python 3",
   "language": "python",
   "name": "python3"
  },
  "language_info": {
   "codemirror_mode": {
    "name": "ipython",
    "version": 3
   },
   "file_extension": ".py",
   "mimetype": "text/x-python",
   "name": "python",
   "nbconvert_exporter": "python",
   "pygments_lexer": "ipython3",
   "version": "3.6.7"
  }
 },
 "nbformat": 4,
 "nbformat_minor": 2
}
