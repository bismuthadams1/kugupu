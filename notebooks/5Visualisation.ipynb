{
 "cells": [
  {
   "cell_type": "code",
   "execution_count": 1,
   "metadata": {},
   "outputs": [
    {
     "data": {
      "application/vnd.jupyter.widget-view+json": {
       "model_id": "1678d11283a14da2aad724ee6fe82d0e",
       "version_major": 2,
       "version_minor": 0
      },
      "text/plain": [
       "_ColormakerRegistry()"
      ]
     },
     "metadata": {},
     "output_type": "display_data"
    }
   ],
   "source": [
    "import kugupu as kgp\n",
    "import MDAnalysis as mda\n",
    "import nglview as nv\n",
    "import numpy as np"
   ]
  },
  {
   "cell_type": "code",
   "execution_count": 2,
   "metadata": {},
   "outputs": [],
   "source": [
    "res = kgp.load_results('datafiles/results.hdf5')"
   ]
  },
  {
   "cell_type": "code",
   "execution_count": 3,
   "metadata": {},
   "outputs": [],
   "source": [
    "def add_names(u):\n",
    "    # Guesses atom names based upon masses\n",
    "    def approx_equal(x, y):\n",
    "        return abs(x - y) < 0.1\n",
    "    \n",
    "    # mapping of atom mass to element\n",
    "    massdict = {}\n",
    "    for m in set(u.atoms.masses):\n",
    "        for elem, elem_mass in mda.topology.tables.masses.items():\n",
    "            if approx_equal(m, elem_mass):\n",
    "                massdict[m] = elem\n",
    "                break\n",
    "        else:\n",
    "            raise ValueError\n",
    "            \n",
    "    u.add_TopologyAttr('names')\n",
    "    for m, e in massdict.items():\n",
    "        u.atoms[u.atoms.masses == m].names = e"
   ]
  },
  {
   "cell_type": "code",
   "execution_count": 4,
   "metadata": {},
   "outputs": [],
   "source": [
    "u = mda.Universe('./datafiles/C6.data', './datafiles/C6.dcd')"
   ]
  },
  {
   "cell_type": "code",
   "execution_count": 5,
   "metadata": {},
   "outputs": [],
   "source": [
    "add_names(u)"
   ]
  },
  {
   "cell_type": "code",
   "execution_count": 6,
   "metadata": {},
   "outputs": [],
   "source": [
    "# for each fragment, calculate links to all other fragments\n",
    "# fragment is linked to the closest fragment"
   ]
  },
  {
   "cell_type": "code",
   "execution_count": 7,
   "metadata": {},
   "outputs": [],
   "source": [
    "frags = u.atoms.fragments\n",
    "frags = [frags[1], frags[2], frags[4], frags[5]]"
   ]
  },
  {
   "cell_type": "code",
   "execution_count": 8,
   "metadata": {},
   "outputs": [
    {
     "name": "stderr",
     "output_type": "stream",
     "text": [
      "/Users/richardgowers/miniconda3/envs/kgp/lib/python3.7/site-packages/MDAnalysis/coordinates/base.py:837: UserWarning: Reader has no dt information, set to 1.0 ps\n",
      "  warnings.warn(\"Reader has no dt information, set to 1.0 ps\")\n"
     ]
    },
    {
     "data": {
      "application/vnd.jupyter.widget-view+json": {
       "model_id": "1ef01791e1d24ff5acd18661ae15f084",
       "version_major": 2,
       "version_minor": 0
      },
      "text/plain": [
       "NGLWidget()"
      ]
     },
     "metadata": {},
     "output_type": "display_data"
    }
   ],
   "source": [
    "kgp.visualise.draw_fragments(*frags)"
   ]
  },
  {
   "cell_type": "code",
   "execution_count": 11,
   "metadata": {},
   "outputs": [],
   "source": [
    "for f in frags:\n",
    "    mda.lib.mdamath.make_whole(f)"
   ]
  },
  {
   "cell_type": "code",
   "execution_count": 12,
   "metadata": {},
   "outputs": [],
   "source": [
    "pos = np.stack([f.center_of_geometry() for f in frags])"
   ]
  },
  {
   "cell_type": "code",
   "execution_count": 35,
   "metadata": {},
   "outputs": [],
   "source": [
    "distmat = mda.lib.distances.distance_array(pos, pos, box=frags[0].dimensions)"
   ]
  },
  {
   "cell_type": "code",
   "execution_count": 16,
   "metadata": {},
   "outputs": [],
   "source": [
    "distmat[np.diag_indices_from(distmat)] = np.inf"
   ]
  },
  {
   "cell_type": "code",
   "execution_count": 23,
   "metadata": {},
   "outputs": [],
   "source": [
    "import networkx as nx"
   ]
  },
  {
   "cell_type": "code",
   "execution_count": 26,
   "metadata": {},
   "outputs": [],
   "source": [
    "g = nx.Graph(distmat)"
   ]
  },
  {
   "cell_type": "code",
   "execution_count": 36,
   "metadata": {},
   "outputs": [
    {
     "data": {
      "text/plain": [
       "[(0, 2, {'weight': 17.39614873932999}),\n",
       " (1, 2, {'weight': 31.19675425833221}),\n",
       " (1, 3, {'weight': 50.96351799858536})]"
      ]
     },
     "execution_count": 36,
     "metadata": {},
     "output_type": "execute_result"
    }
   ],
   "source": [
    "list(nx.minimum_spanning_edges(nx.Graph(distmat)))"
   ]
  },
  {
   "cell_type": "code",
   "execution_count": 34,
   "metadata": {},
   "outputs": [
    {
     "data": {
      "text/plain": [
       "array([[        inf, 38.91848795, 17.39614874, 56.57529388],\n",
       "       [        inf,         inf, 31.19675426, 50.963518  ],\n",
       "       [        inf, 31.19675426,         inf, 54.68561074],\n",
       "       [        inf, 50.963518  , 54.68561074,         inf]])"
      ]
     },
     "execution_count": 34,
     "metadata": {},
     "output_type": "execute_result"
    }
   ],
   "source": [
    "distmat"
   ]
  },
  {
   "cell_type": "code",
   "execution_count": 20,
   "metadata": {},
   "outputs": [],
   "source": [
    "distmat[:, 0] = np.inf"
   ]
  },
  {
   "cell_type": "code",
   "execution_count": 21,
   "metadata": {},
   "outputs": [
    {
     "data": {
      "text/plain": [
       "array([[        inf, 38.91848795, 17.39614874, 56.57529388],\n",
       "       [        inf,         inf, 31.19675426, 50.963518  ],\n",
       "       [        inf, 31.19675426,         inf, 54.68561074],\n",
       "       [        inf, 50.963518  , 54.68561074,         inf]])"
      ]
     },
     "execution_count": 21,
     "metadata": {},
     "output_type": "execute_result"
    }
   ],
   "source": [
    "distmat"
   ]
  },
  {
   "cell_type": "code",
   "execution_count": null,
   "metadata": {},
   "outputs": [],
   "source": [
    "def draw_fragments(*frags):\n",
    "    \"\"\"Draw fragments with nglview\n",
    "    \n",
    "    Parameters\n",
    "    ----------\n",
    "    frags : list of AtomGroup\n",
    "    \"\"\"\n",
    "    # isolate fragments into their own Universe\n",
    "    \n",
    "    # make sure all molecules are whole\n",
    "    \n",
    "    # make sure all in same image\n",
    "    \n",
    "    "
   ]
  },
  {
   "cell_type": "code",
   "execution_count": 16,
   "metadata": {},
   "outputs": [],
   "source": [
    "mol = u.atoms.fragments[0]\n",
    "mol2 = u.atoms.fragments[1]"
   ]
  },
  {
   "cell_type": "code",
   "execution_count": 57,
   "metadata": {},
   "outputs": [],
   "source": [
    "from io import StringIO\n",
    "\n",
    "f = mda.lib.util.NamedStream(StringIO(), 'tmp.pdb')\n"
   ]
  },
  {
   "cell_type": "code",
   "execution_count": 58,
   "metadata": {},
   "outputs": [],
   "source": [
    "ag = mol + mol2\n",
    "with mda.Writer(f, n_atoms=len(ag)) as w:\n",
    "    w.write(ag)\n",
    "f.seek(0)\n",
    "u_new = mda.Universe(f)"
   ]
  },
  {
   "cell_type": "code",
   "execution_count": 62,
   "metadata": {},
   "outputs": [],
   "source": [
    "for frag in u_new.atoms.fragments:\n",
    "    mda.lib.mdamath.make_whole(frag)"
   ]
  },
  {
   "cell_type": "code",
   "execution_count": 63,
   "metadata": {},
   "outputs": [
    {
     "data": {
      "application/vnd.jupyter.widget-view+json": {
       "model_id": "b7eeb1d85ca942f990d4bd925a8a99d0",
       "version_major": 2,
       "version_minor": 0
      },
      "text/plain": [
       "NGLWidget()"
      ]
     },
     "metadata": {},
     "output_type": "display_data"
    }
   ],
   "source": [
    "v = nv.show_mdanalysis(u_new)\n",
    "v"
   ]
  },
  {
   "cell_type": "code",
   "execution_count": 42,
   "metadata": {},
   "outputs": [
    {
     "data": {
      "text/plain": [
       "array([[82.370605, 82.370605, 82.370605, 90.      , 90.      , 90.      ],\n",
       "       [82.50731 , 82.50731 , 82.50731 , 90.      , 90.      , 90.      ],\n",
       "       [82.38418 , 82.38418 , 82.38418 , 90.      , 90.      , 90.      ],\n",
       "       [82.480804, 82.480804, 82.480804, 90.      , 90.      , 90.      ],\n",
       "       [82.402664, 82.402664, 82.402664, 90.      , 90.      , 90.      ]],\n",
       "      dtype=float32)"
      ]
     },
     "execution_count": 42,
     "metadata": {},
     "output_type": "execute_result"
    }
   ],
   "source": [
    "u.trajectory.dimensions_array"
   ]
  },
  {
   "cell_type": "code",
   "execution_count": 49,
   "metadata": {},
   "outputs": [],
   "source": [
    "mda.lib.mdamath.make_whole(mol)\n",
    "mda.lib.mdamath.make_whole(mol2)"
   ]
  },
  {
   "cell_type": "code",
   "execution_count": 50,
   "metadata": {},
   "outputs": [
    {
     "name": "stderr",
     "output_type": "stream",
     "text": [
      "/Users/richardgowers/miniconda3/envs/kgp/lib/python3.7/site-packages/MDAnalysis/coordinates/PDB.py:902: UserWarning: Found no information for attr: 'altLocs' Using default value of ' '\n",
      "  \"\".format(attrname, default))\n",
      "/Users/richardgowers/miniconda3/envs/kgp/lib/python3.7/site-packages/MDAnalysis/coordinates/PDB.py:902: UserWarning: Found no information for attr: 'resnames' Using default value of 'UNK'\n",
      "  \"\".format(attrname, default))\n",
      "/Users/richardgowers/miniconda3/envs/kgp/lib/python3.7/site-packages/MDAnalysis/coordinates/PDB.py:902: UserWarning: Found no information for attr: 'icodes' Using default value of ' '\n",
      "  \"\".format(attrname, default))\n",
      "/Users/richardgowers/miniconda3/envs/kgp/lib/python3.7/site-packages/MDAnalysis/coordinates/PDB.py:902: UserWarning: Found no information for attr: 'occupancies' Using default value of '1.0'\n",
      "  \"\".format(attrname, default))\n",
      "/Users/richardgowers/miniconda3/envs/kgp/lib/python3.7/site-packages/MDAnalysis/coordinates/PDB.py:902: UserWarning: Found no information for attr: 'tempfactors' Using default value of '0.0'\n",
      "  \"\".format(attrname, default))\n"
     ]
    },
    {
     "data": {
      "application/vnd.jupyter.widget-view+json": {
       "model_id": "3e50ce6a46e34e6682780a560b2c53df",
       "version_major": 2,
       "version_minor": 0
      },
      "text/plain": [
       "NGLWidget(max_frame=4)"
      ]
     },
     "metadata": {},
     "output_type": "display_data"
    }
   ],
   "source": [
    "v = nv.NGLWidget()\n",
    "\n",
    "\n",
    "v.add_trajectory(mol + mol2)\n",
    "v"
   ]
  },
  {
   "cell_type": "code",
   "execution_count": 15,
   "metadata": {},
   "outputs": [
    {
     "data": {
      "application/vnd.jupyter.widget-view+json": {
       "model_id": "31ec50df30704b8bb362115baf9e80ee",
       "version_major": 2,
       "version_minor": 0
      },
      "text/plain": [
       "NGLWidget(max_frame=4)"
      ]
     },
     "metadata": {},
     "output_type": "display_data"
    }
   ],
   "source": [
    "v = nv.show_mdanalysis(mol)\n",
    "#v.add_ball_and_stick()\n",
    "v"
   ]
  },
  {
   "cell_type": "code",
   "execution_count": 20,
   "metadata": {},
   "outputs": [],
   "source": [
    "v.download_image??"
   ]
  },
  {
   "cell_type": "code",
   "execution_count": 21,
   "metadata": {},
   "outputs": [
    {
     "data": {
      "application/vnd.jupyter.widget-view+json": {
       "model_id": "d08f8d6551bb4e9aaea3dc371342cc24",
       "version_major": 2,
       "version_minor": 0
      },
      "text/plain": [
       "NGLWidget()"
      ]
     },
     "metadata": {},
     "output_type": "display_data"
    }
   ],
   "source": [
    "v = nv.demo()\n",
    "v"
   ]
  },
  {
   "cell_type": "code",
   "execution_count": null,
   "metadata": {},
   "outputs": [],
   "source": []
  }
 ],
 "metadata": {
  "kernelspec": {
   "display_name": "Python 3",
   "language": "python",
   "name": "python3"
  },
  "language_info": {
   "codemirror_mode": {
    "name": "ipython",
    "version": 3
   },
   "file_extension": ".py",
   "mimetype": "text/x-python",
   "name": "python",
   "nbconvert_exporter": "python",
   "pygments_lexer": "ipython3",
   "version": "3.7.3"
  }
 },
 "nbformat": 4,
 "nbformat_minor": 2
}
