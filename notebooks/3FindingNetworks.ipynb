{
 "cells": [
  {
   "cell_type": "markdown",
   "metadata": {},
   "source": [
    "# Finding molecular networks\n",
    "\n",
    "With the electronic coupling between dimers calculated,\n",
    "we can now turn our attention to evaluating how these dimer couplings can give a picture of the overall charge transport networks in the material.\n",
    "\n",
    "The `kugupu.networks` submodule contains various methods for turning the coupling matrices into network graphs, represented using the `NetworkX` Python package."
   ]
  },
  {
   "cell_type": "code",
   "execution_count": 2,
   "metadata": {},
   "outputs": [
    {
     "name": "stdout",
     "output_type": "stream",
     "text": [
      "models available\n",
      "{'ocelotml': <class 'kugupu.ocelotl_model.OcelotMLModel'>}\n"
     ]
    }
   ],
   "source": [
    "import kugupu as kgp\n",
    "import MDAnalysis as mda\n",
    "import matplotlib.pyplot as plt\n",
    "import numpy as np\n",
    "# %matplotlib notebook\n",
    "%matplotlib inline"
   ]
  },
  {
   "cell_type": "markdown",
   "metadata": {},
   "source": [
    "Firstly we load our previous system and coupling results:"
   ]
  },
  {
   "cell_type": "code",
   "execution_count": 3,
   "metadata": {},
   "outputs": [
    {
     "name": "stderr",
     "output_type": "stream",
     "text": [
      "/Users/k2584788/.local/share/mamba/envs/forked_kugupu/lib/python3.10/site-packages/MDAnalysis/coordinates/DCD.py:165: DeprecationWarning: DCDReader currently makes independent timesteps by copying self.ts while other readers update self.ts inplace. This behavior will be changed in 3.0 to be the same as other readers. Read more at https://github.com/MDAnalysis/mdanalysis/issues/3889 to learn if this change in behavior might affect you.\n",
      "  warnings.warn(\"DCDReader currently makes independent timesteps\"\n"
     ]
    }
   ],
   "source": [
    "# results = kgp.load_results('datafiles/results.hdf5')\n",
    "results = kgp.load_results('myresults_chad.hdf5')\n",
    "u = mda.Universe('datafiles/C6.data', 'datafiles/C6.dcd')\n",
    "\n",
    "def add_names(u):\n",
    "    # Guesses atom names based upon masses\n",
    "    def approx_equal(x, y):\n",
    "        return abs(x - y) < 0.1\n",
    "    \n",
    "    # mapping of atom mass to element\n",
    "    massdict = {}\n",
    "    for m in set(u.atoms.masses):\n",
    "        for elem, elem_mass in mda.guesser.tables.masses.items():\n",
    "            if approx_equal(m, elem_mass):\n",
    "                massdict[m] = elem\n",
    "                break\n",
    "        else:\n",
    "            raise ValueError\n",
    "            \n",
    "    u.add_TopologyAttr('names')\n",
    "    for m, e in massdict.items():\n",
    "        u.atoms[u.atoms.masses == m].names = e\n",
    "\n",
    "add_names(u)"
   ]
  },
  {
   "cell_type": "markdown",
   "metadata": {},
   "source": [
    "## Generating molecular network representations\n",
    "\n",
    "The `networks.find_networks` function then inspects a single frame of the `H_frag` matrix and converts this information into a graph.\n",
    "Here we use the data in `results.H_frag[0]`,\n",
    "with a threshold value of 1 meV to define if a dimer is coupled or not."
   ]
  },
  {
   "cell_type": "code",
   "execution_count": 4,
   "metadata": {},
   "outputs": [],
   "source": [
    "networks = kgp.networks.find_networks(fragments=u.atoms.fragments,\n",
    "                                      H=results.H_frag[0],\n",
    "                                      degeneracy=results.degeneracy,\n",
    "                                      threshold=0.001)"
   ]
  },
  {
   "cell_type": "markdown",
   "metadata": {},
   "source": [
    "This returns a list of `networkx.Graph` objects, each representing a connected component subgraph of the overall system. They are sorted by descending size, so we can easily inspect the largest molecular network in our system:"
   ]
  },
  {
   "cell_type": "code",
   "execution_count": 5,
   "metadata": {},
   "outputs": [
    {
     "name": "stdout",
     "output_type": "stream",
     "text": [
      "The largest network is 1 molecules\n"
     ]
    }
   ],
   "source": [
    "print(\"The largest network is {} molecules\".format(len(networks[0])))"
   ]
  },
  {
   "cell_type": "markdown",
   "metadata": {},
   "source": [
    "Or we can plot a distribution of network size, where we can see that there is a single large network of 45 molecules and several much smaller networks."
   ]
  },
  {
   "cell_type": "code",
   "execution_count": 6,
   "metadata": {},
   "outputs": [
    {
     "data": {
      "image/png": "[encoded data removed]",
      "text/plain": [
       "<Figure size 640x480 with 1 Axes>"
      ]
     },
     "metadata": {},
     "output_type": "display_data"
    }
   ],
   "source": [
    "fig, ax = plt.subplots()\n",
    "\n",
    "ax.hist([len(n) for n in networks])\n",
    "ax.set_title('Distribution of molecular network sizes')\n",
    "ax.set_xlabel('Network size (molecules)')\n",
    "ax.set_ylabel('Count')\n",
    "plt.show()"
   ]
  },
  {
   "cell_type": "markdown",
   "metadata": {},
   "source": [
    "## Molecular network metrics\n",
    "\n",
    "There are also various metrics built in to `kugupu.networks` for quantifying the transport across the molecular networks.\n",
    "\n",
    "Simple graph metrics such as the Laplacian or adjacency matrix for a given can be found using the `networks.laplacian_matrix` and `networks.adjacency_matrix` functions respectively. These (and all other functions) allow a `weighted=True/False` keyword to "
   ]
  },
  {
   "cell_type": "code",
   "execution_count": 7,
   "metadata": {},
   "outputs": [
    {
     "data": {
      "text/plain": [
       "array([[0.]])"
      ]
     },
     "execution_count": 7,
     "metadata": {},
     "output_type": "execute_result"
    }
   ],
   "source": [
    "kgp.networks.adjacency_matrix(networks[0])"
   ]
  },
  {
   "cell_type": "markdown",
   "metadata": {},
   "source": [
    "The resistance distance matrix for a given graph can be found:\n",
    "\n",
    "$$ \\Omega_{ij} = \\Gamma_{ii} + \\Gamma_{jj} - 2 \\Gamma_{ij} $$\n",
    "\n",
    "Where $\\Gamma$ represents the pseudo inverse of the Laplacian matrix for the network."
   ]
  },
  {
   "cell_type": "code",
   "execution_count": 8,
   "metadata": {},
   "outputs": [
    {
     "data": {
      "text/plain": [
       "array([[0.]])"
      ]
     },
     "execution_count": 8,
     "metadata": {},
     "output_type": "execute_result"
    }
   ],
   "source": [
    "kgp.networks.resistance_distance_matrix(networks[0])"
   ]
  },
  {
   "cell_type": "markdown",
   "metadata": {},
   "source": [
    "This is used to calculate various properties such as the Kirchoff index:\n",
    "\n",
    "$$ K_f = 1/2 \\sum_{i,j} \\Omega_{i, j} $$"
   ]
  },
  {
   "cell_type": "code",
   "execution_count": 9,
   "metadata": {},
   "outputs": [
    {
     "data": {
      "text/plain": [
       "0.0"
      ]
     },
     "execution_count": 9,
     "metadata": {},
     "output_type": "execute_result"
    }
   ],
   "source": [
    "kgp.networks.kirchhoff_transport_index(networks[0])"
   ]
  },
  {
   "cell_type": "markdown",
   "metadata": {},
   "source": [
    "Or the Kirchoff transport index\n",
    "\n",
    "$$ K_t = \\frac{1}{2 N^2}\\sum_{i, j} A_{i, j} $$\n",
    "\n",
    "Where $A$ is the admittance distance matrix, defined as\n",
    "\n",
    "$$ A_{i, j} = 1 / \\Omega_{i, j} \\text{ if $i \\ne j$ else $0$}$$"
   ]
  },
  {
   "cell_type": "code",
   "execution_count": 10,
   "metadata": {},
   "outputs": [
    {
     "data": {
      "text/plain": [
       "0.0"
      ]
     },
     "execution_count": 10,
     "metadata": {},
     "output_type": "execute_result"
    }
   ],
   "source": [
    "kgp.networks.kirchhoff_index(networks[0])"
   ]
  }
 ],
 "metadata": {
  "kernelspec": {
   "display_name": "Python 3",
   "language": "python",
   "name": "python3"
  },
  "language_info": {
   "codemirror_mode": {
    "name": "ipython",
    "version": 3
   },
   "file_extension": ".py",
   "mimetype": "text/x-python",
   "name": "python",
   "nbconvert_exporter": "python",
   "pygments_lexer": "ipython3",
   "version": "3.10.17"
  }
 },
 "nbformat": 4,
 "nbformat_minor": 2
}
