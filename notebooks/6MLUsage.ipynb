{
 "cells": [
  {
   "cell_type": "markdown",
   "metadata": {},
   "source": [
    "# Using `kugupu` to calculate molecular coupling networks WITH ML\n",
    "\n",
    "This notebook demonstrates how to calculate molecular coupling between fragments, inspect the results and save and load these results to file.  These results files will be the basis of all further analysis done using the `kugupu` package.\n",
    "\n",
    "This will require version 0.20.0 of MDAnalysis, and kugupu to be installed."
   ]
  },
  {
   "cell_type": "code",
   "execution_count": 1,
   "metadata": {},
   "outputs": [
    {
     "name": "stdout",
     "output_type": "stream",
     "text": [
      "models available\n",
      "{'ocelotml': <class 'kugupu.ocelotl_model.OcelotMLModel'>}\n"
     ]
    }
   ],
   "source": [
    "import MDAnalysis as mda\n",
    "import kugupu as kgp"
   ]
  },
  {
   "cell_type": "markdown",
   "metadata": {},
   "source": [
    "Firstly we create an `MDAnalysis.Universe` object from our simulation files:"
   ]
  },
  {
   "cell_type": "code",
   "execution_count": 2,
   "metadata": {},
   "outputs": [
    {
     "name": "stderr",
     "output_type": "stream",
     "text": [
      "/Users/k2584788/.local/share/mamba/envs/forked_kugupu/lib/python3.10/site-packages/MDAnalysis/coordinates/DCD.py:165: DeprecationWarning: DCDReader currently makes independent timesteps by copying self.ts while other readers update self.ts inplace. This behavior will be changed in 3.0 to be the same as other readers. Read more at https://github.com/MDAnalysis/mdanalysis/issues/3889 to learn if this change in behavior might affect you.\n",
      "  warnings.warn(\"DCDReader currently makes independent timesteps\"\n"
     ]
    }
   ],
   "source": [
    "u = mda.Universe('datafiles/C6.data', 'datafiles/C6.dcd')"
   ]
  },
  {
   "cell_type": "markdown",
   "metadata": {},
   "source": [
    "This system has 46,500 atoms in 250 different fragments."
   ]
  },
  {
   "cell_type": "code",
   "execution_count": 3,
   "metadata": {},
   "outputs": [
    {
     "name": "stdout",
     "output_type": "stream",
     "text": [
      "46500 250\n"
     ]
    }
   ],
   "source": [
    "print(u.atoms.n_atoms, len(u.atoms.fragments))"
   ]
  },
  {
   "cell_type": "markdown",
   "metadata": {},
   "source": [
    "Our dynamics simulation has 5 frames of results."
   ]
  },
  {
   "cell_type": "code",
   "execution_count": 4,
   "metadata": {},
   "outputs": [
    {
     "name": "stdout",
     "output_type": "stream",
     "text": [
      "5\n"
     ]
    }
   ],
   "source": [
    "print(u.trajectory.n_frames)"
   ]
  },
  {
   "cell_type": "markdown",
   "metadata": {},
   "source": [
    "To perform the coupling calculations our `Universe` will require bond information (for determining fragments) and element information (for the tight binding calculations) stored inside the `.names` attribute."
   ]
  },
  {
   "cell_type": "markdown",
   "metadata": {},
   "source": [
    "Our Lammps Data file did not include element symbols, so we can add these to the Universe now..."
   ]
  },
  {
   "cell_type": "code",
   "execution_count": 5,
   "metadata": {},
   "outputs": [],
   "source": [
    "def add_names(u):\n",
    "    # Guesses atom names based upon masses\n",
    "    def approx_equal(x, y):\n",
    "        return abs(x - y) < 0.1\n",
    "    \n",
    "    # mapping of atom mass to element\n",
    "    massdict = {}\n",
    "    for m in set(u.atoms.masses):\n",
    "        for elem, elem_mass in mda.guesser.tables.masses.items():\n",
    "            if approx_equal(m, elem_mass):\n",
    "                massdict[m] = elem\n",
    "                break\n",
    "        else:\n",
    "            raise ValueError\n",
    "            \n",
    "    u.add_TopologyAttr('names')\n",
    "    for m, e in massdict.items():\n",
    "        u.atoms[u.atoms.masses == m].names = e\n",
    "\n",
    "add_names(u)"
   ]
  },
  {
   "cell_type": "markdown",
   "metadata": {},
   "source": [
    "## Running the coupling matrix calculation\n",
    "\n",
    "The coupling matrix between fragments is calculated using the `kgp.coupling_matrix` function.\n",
    "\n",
    "Here we are calculating the coupling matrix for fragments in the Universe `u` where\n",
    "- coupling is calculated between fragments with a closest approach of less than 5.0 Angstrom (`nn_cutoff`)\n",
    "- coupling is calculated between the LUMO upwards (`state='lumo'`)\n",
    "- one state per fragment is considered (`degeneracy=1`)\n",
    "- we will analyse up to frame 3 (`stop=3`)\n",
    "\n",
    "This function will (for each frame)\n",
    "- identify which fragments are close enough to possibly be electronically coupled\n",
    "- run a tight binding calculation between all pairs identified\n",
    "- calculate the molecular coupling based on this tight binding calculation"
   ]
  },
  {
   "cell_type": "code",
   "execution_count": 6,
   "metadata": {},
   "outputs": [
    {
     "name": "stderr",
     "output_type": "stream",
     "text": [
      "/Users/k2584788/.local/share/mamba/envs/forked_kugupu/lib/python3.10/site-packages/distributed/node.py:187: UserWarning: Port 8787 is already in use.\n",
      "Perhaps you already have a cluster running?\n",
      "Hosting the HTTP server on port 58586 instead\n",
      "  warnings.warn(\n",
      "2025-06-05T15:12:14.011236+0100 INFO Processing 3 frames\n"
     ]
    },
    {
     "ename": "UnboundLocalError",
     "evalue": "local variable 'ts' referenced before assignment",
     "output_type": "error",
     "traceback": [
      "\u001b[0;31m---------------------------------------------------------------------------\u001b[0m",
      "\u001b[0;31mUnboundLocalError\u001b[0m                         Traceback (most recent call last)",
      "Cell \u001b[0;32mIn[6], line 1\u001b[0m\n\u001b[0;32m----> 1\u001b[0m res \u001b[38;5;241m=\u001b[39m \u001b[43mkgp\u001b[49m\u001b[38;5;241;43m.\u001b[39;49m\u001b[43mcoupling_matrix\u001b[49m\u001b[43m(\u001b[49m\u001b[43mu\u001b[49m\u001b[43m,\u001b[49m\u001b[43m \u001b[49m\u001b[43mnn_cutoff\u001b[49m\u001b[38;5;241;43m=\u001b[39;49m\u001b[38;5;241;43m5.0\u001b[39;49m\u001b[43m,\u001b[49m\u001b[43m \u001b[49m\u001b[43mstate\u001b[49m\u001b[38;5;241;43m=\u001b[39;49m\u001b[38;5;124;43m'\u001b[39;49m\u001b[38;5;124;43mlumo\u001b[39;49m\u001b[38;5;124;43m'\u001b[39;49m\u001b[43m,\u001b[49m\u001b[43m \u001b[49m\u001b[43mdegeneracy\u001b[49m\u001b[38;5;241;43m=\u001b[39;49m\u001b[38;5;241;43m1\u001b[39;49m\u001b[43m,\u001b[49m\u001b[43m \u001b[49m\u001b[43mstop\u001b[49m\u001b[38;5;241;43m=\u001b[39;49m\u001b[38;5;241;43m3\u001b[39;49m\u001b[43m,\u001b[49m\u001b[43m \u001b[49m\u001b[43mmodel\u001b[49m\u001b[38;5;241;43m=\u001b[39;49m\u001b[38;5;124;43m'\u001b[39;49m\u001b[38;5;124;43mocelotml\u001b[39;49m\u001b[38;5;124;43m'\u001b[39;49m\u001b[43m,\u001b[49m\u001b[43m \u001b[49m\u001b[43mclient\u001b[49m\u001b[38;5;241;43m=\u001b[39;49m\u001b[38;5;28;43;01mTrue\u001b[39;49;00m\u001b[43m)\u001b[49m\n",
      "File \u001b[0;32m~/forked_kugupu/kugupu/src/kugupu/generate_results.py:288\u001b[0m, in \u001b[0;36mcoupling_matrix\u001b[0;34m(u, nn_cutoff, state, degeneracy, start, stop, step, client, model)\u001b[0m\n\u001b[1;32m    286\u001b[0m       Hs\u001b[38;5;241m.\u001b[39mappend(H_frag)\n\u001b[1;32m    287\u001b[0m \u001b[38;5;28;01melse\u001b[39;00m:\n\u001b[0;32m--> 288\u001b[0m       frame_idx \u001b[38;5;241m=\u001b[39m \u001b[43mts\u001b[49m\u001b[38;5;241m.\u001b[39mframe\n\u001b[1;32m    289\u001b[0m       H_frag \u001b[38;5;241m=\u001b[39m model_instance(\n\u001b[1;32m    290\u001b[0m           u,\n\u001b[1;32m    291\u001b[0m           nn_cutoff\u001b[38;5;241m=\u001b[39mnn_cutoff,\n\u001b[1;32m    292\u001b[0m           degeneracy\u001b[38;5;241m=\u001b[39mdegeneracy,\n\u001b[1;32m    293\u001b[0m           state\u001b[38;5;241m=\u001b[39mstate,\n\u001b[1;32m    294\u001b[0m       )\n\u001b[1;32m    295\u001b[0m       \u001b[38;5;66;03m# H_frag = _ocelotl_frame(u.atoms.fragments, nn_cutoff, degeneracy)\u001b[39;00m\n\u001b[1;32m    296\u001b[0m \n\u001b[1;32m    297\u001b[0m \u001b[38;5;66;03m# H_frag = np.stack(Hs)\u001b[39;00m\n\u001b[1;32m    298\u001b[0m \u001b[38;5;66;03m# frames = np.array(frames)\u001b[39;00m\n",
      "\u001b[0;31mUnboundLocalError\u001b[0m: local variable 'ts' referenced before assignment"
     ]
    }
   ],
   "source": [
    "res = kgp.coupling_matrix(u, nn_cutoff=5.0, state='lumo', degeneracy=1, stop=3, model='ocelotml', client=True)"
   ]
  },
  {
   "cell_type": "markdown",
   "metadata": {},
   "source": [
    "The `res` object is a namedtuple which contains all the data necessary to perform further analysis.\n",
    "This object has various attributes which will not be briefly explained.\n",
    "\n",
    "The `.frames` attribute records which frames from the trajectory were analysed.\n",
    "This is useful to later cross reference data with the original MD trajectory data."
   ]
  },
  {
   "cell_type": "code",
   "execution_count": null,
   "metadata": {},
   "outputs": [
    {
     "name": "stdout",
     "output_type": "stream",
     "text": [
      "[0 1 2]\n"
     ]
    }
   ],
   "source": [
    "print(res.frames)"
   ]
  },
  {
   "cell_type": "markdown",
   "metadata": {},
   "source": [
    "The `.degeneracy` attribute stores how many degenerate states were considered for each fragment.\n",
    "This value will not change over time, so this array has shape `nfragments`.\n",
    "\n",
    "In this example only a single state per fragment was considered. "
   ]
  },
  {
   "cell_type": "code",
   "execution_count": null,
   "metadata": {},
   "outputs": [
    {
     "name": "stdout",
     "output_type": "stream",
     "text": [
      "[1 1 1 1 1 1 1 1 1 1 1 1 1 1 1 1 1 1 1 1 1 1 1 1 1 1 1 1 1 1 1 1 1 1 1 1 1\n",
      " 1 1 1 1 1 1 1 1 1 1 1 1 1 1 1 1 1 1 1 1 1 1 1 1 1 1 1 1 1 1 1 1 1 1 1 1 1\n",
      " 1 1 1 1 1 1 1 1 1 1 1 1 1 1 1 1 1 1 1 1 1 1 1 1 1 1 1 1 1 1 1 1 1 1 1 1 1\n",
      " 1 1 1 1 1 1 1 1 1 1 1 1 1 1 1 1 1 1 1 1 1 1 1 1 1 1 1 1 1 1 1 1 1 1 1 1 1\n",
      " 1 1 1 1 1 1 1 1 1 1 1 1 1 1 1 1 1 1 1 1 1 1 1 1 1 1 1 1 1 1 1 1 1 1 1 1 1\n",
      " 1 1 1 1 1 1 1 1 1 1 1 1 1 1 1 1 1 1 1 1 1 1 1 1 1 1 1 1 1 1 1 1 1 1 1 1 1\n",
      " 1 1 1 1 1 1 1 1 1 1 1 1 1 1 1 1 1 1 1 1 1 1 1 1 1 1 1 1]\n"
     ]
    }
   ],
   "source": [
    "print(res.degeneracy)"
   ]
  },
  {
   "cell_type": "markdown",
   "metadata": {},
   "source": [
    "The `.H_frag` attribute contains the molecular coupling values, stored inside a 3d numpy array.\n",
    "The first dimension is along the number of frames (quasi time axis),\n",
    "while the other two move along fragments in the system.\n",
    "\n",
    "For example `res.H_frag[0, 1, 71]` gives the coupling (in eV) between the 2nd and 13th fragments in the first frame."
   ]
  },
  {
   "cell_type": "code",
   "execution_count": null,
   "metadata": {},
   "outputs": [
    {
     "name": "stdout",
     "output_type": "stream",
     "text": [
      "(3, 250, 250)\n",
      "0.0002765886942250739\n"
     ]
    }
   ],
   "source": [
    "print(res.H_frag.shape)\n",
    "\n",
    "print(res.H_frag[2, 1, 71])"
   ]
  },
  {
   "cell_type": "markdown",
   "metadata": {},
   "source": [
    "Producing these results is often a time consuming part of the analysis,\n",
    "therefore it is wise to save them to a file so you can come back to them later!\n",
    "\n",
    "This can be done using the `kugupu.save_results` function, which will save the results to a hdf5 (compressed) format."
   ]
  },
  {
   "cell_type": "code",
   "execution_count": null,
   "metadata": {},
   "outputs": [],
   "source": [
    "kgp.save_results('myresults.hdf5', res)"
   ]
  },
  {
   "cell_type": "markdown",
   "metadata": {},
   "source": [
    "These results can then be retrieved again using the `kugupu.load_results` function:"
   ]
  },
  {
   "cell_type": "code",
   "execution_count": null,
   "metadata": {},
   "outputs": [
    {
     "data": {
      "text/plain": [
       "KugupuResults(frames=array([0, 1, 2]), H_frag=array([[[-10.27936597,   0.        ,   0.        , ...,   0.        ,\n",
       "           0.        ,   0.        ],\n",
       "        [  0.        , -10.32038834,   0.        , ...,   0.        ,\n",
       "           0.        ,   0.        ],\n",
       "        [  0.        ,   0.        , -10.35344287, ...,   0.        ,\n",
       "           0.        ,   0.        ],\n",
       "        ...,\n",
       "        [  0.        ,   0.        ,   0.        , ..., -10.43146138,\n",
       "           0.        ,   0.        ],\n",
       "        [  0.        ,   0.        ,   0.        , ...,   0.        ,\n",
       "         -10.50477574,   0.        ],\n",
       "        [  0.        ,   0.        ,   0.        , ...,   0.        ,\n",
       "           0.        , -10.37584228]],\n",
       "\n",
       "       [[-10.38898008,   0.        ,   0.        , ...,   0.        ,\n",
       "           0.        ,   0.        ],\n",
       "        [  0.        , -10.43337746,   0.        , ...,   0.        ,\n",
       "           0.        ,   0.        ],\n",
       "        [  0.        ,   0.        , -10.44523772, ...,   0.        ,\n",
       "           0.        ,   0.        ],\n",
       "        ...,\n",
       "        [  0.        ,   0.        ,   0.        , ..., -10.34584384,\n",
       "           0.        ,   0.        ],\n",
       "        [  0.        ,   0.        ,   0.        , ...,   0.        ,\n",
       "         -10.30430813,   0.        ],\n",
       "        [  0.        ,   0.        ,   0.        , ...,   0.        ,\n",
       "           0.        , -10.42368578]],\n",
       "\n",
       "       [[-10.34067138,   0.        ,   0.        , ...,   0.        ,\n",
       "           0.        ,   0.        ],\n",
       "        [  0.        , -10.34907937,   0.        , ...,   0.        ,\n",
       "           0.        ,   0.        ],\n",
       "        [  0.        ,   0.        , -10.41644247, ...,   0.        ,\n",
       "           0.        ,   0.        ],\n",
       "        ...,\n",
       "        [  0.        ,   0.        ,   0.        , ..., -10.23528128,\n",
       "           0.        ,   0.        ],\n",
       "        [  0.        ,   0.        ,   0.        , ...,   0.        ,\n",
       "         -10.46742314,   0.        ],\n",
       "        [  0.        ,   0.        ,   0.        , ...,   0.        ,\n",
       "           0.        , -10.41446069]]], shape=(3, 250, 250)), degeneracy=array([1, 1, 1, 1, 1, 1, 1, 1, 1, 1, 1, 1, 1, 1, 1, 1, 1, 1, 1, 1, 1, 1,\n",
       "       1, 1, 1, 1, 1, 1, 1, 1, 1, 1, 1, 1, 1, 1, 1, 1, 1, 1, 1, 1, 1, 1,\n",
       "       1, 1, 1, 1, 1, 1, 1, 1, 1, 1, 1, 1, 1, 1, 1, 1, 1, 1, 1, 1, 1, 1,\n",
       "       1, 1, 1, 1, 1, 1, 1, 1, 1, 1, 1, 1, 1, 1, 1, 1, 1, 1, 1, 1, 1, 1,\n",
       "       1, 1, 1, 1, 1, 1, 1, 1, 1, 1, 1, 1, 1, 1, 1, 1, 1, 1, 1, 1, 1, 1,\n",
       "       1, 1, 1, 1, 1, 1, 1, 1, 1, 1, 1, 1, 1, 1, 1, 1, 1, 1, 1, 1, 1, 1,\n",
       "       1, 1, 1, 1, 1, 1, 1, 1, 1, 1, 1, 1, 1, 1, 1, 1, 1, 1, 1, 1, 1, 1,\n",
       "       1, 1, 1, 1, 1, 1, 1, 1, 1, 1, 1, 1, 1, 1, 1, 1, 1, 1, 1, 1, 1, 1,\n",
       "       1, 1, 1, 1, 1, 1, 1, 1, 1, 1, 1, 1, 1, 1, 1, 1, 1, 1, 1, 1, 1, 1,\n",
       "       1, 1, 1, 1, 1, 1, 1, 1, 1, 1, 1, 1, 1, 1, 1, 1, 1, 1, 1, 1, 1, 1,\n",
       "       1, 1, 1, 1, 1, 1, 1, 1, 1, 1, 1, 1, 1, 1, 1, 1, 1, 1, 1, 1, 1, 1,\n",
       "       1, 1, 1, 1, 1, 1, 1, 1]))"
      ]
     },
     "execution_count": 12,
     "metadata": {},
     "output_type": "execute_result"
    }
   ],
   "source": [
    "kgp.load_results('./myresults.hdf5')"
   ]
  },
  {
   "cell_type": "code",
   "execution_count": null,
   "metadata": {},
   "outputs": [],
   "source": []
  }
 ],
 "metadata": {
  "kernelspec": {
   "display_name": "Python 3",
   "language": "python",
   "name": "python3"
  },
  "language_info": {
   "codemirror_mode": {
    "name": "ipython",
    "version": 3
   },
   "file_extension": ".py",
   "mimetype": "text/x-python",
   "name": "python",
   "nbconvert_exporter": "python",
   "pygments_lexer": "ipython3",
   "version": "3.10.17"
  }
 },
 "nbformat": 4,
 "nbformat_minor": 2
}
