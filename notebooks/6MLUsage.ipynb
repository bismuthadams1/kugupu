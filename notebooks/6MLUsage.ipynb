{
 "cells": [
  {
   "cell_type": "markdown",
   "metadata": {},
   "source": [
    "# Using `kugupu` to calculate molecular coupling networks WITH ML\n",
    "\n",
    "This notebook demonstrates how to calculate molecular coupling between fragments, inspect the results and save and load these results to file.  These results files will be the basis of all further analysis done using the `kugupu` package.\n",
    "\n",
    "This will require version 0.20.0 of MDAnalysis, and kugupu to be installed."
   ]
  },
  {
   "cell_type": "code",
   "execution_count": 1,
   "metadata": {},
   "outputs": [],
   "source": [
    "import MDAnalysis as mda\n",
    "import kugupu as kgp"
   ]
  },
  {
   "cell_type": "markdown",
   "metadata": {},
   "source": [
    "Firstly we create an `MDAnalysis.Universe` object from our simulation files:"
   ]
  },
  {
   "cell_type": "code",
   "execution_count": 2,
   "metadata": {},
   "outputs": [
    {
     "name": "stderr",
     "output_type": "stream",
     "text": [
      "/Users/k2584788/.local/share/mamba/envs/forked_kugupu/lib/python3.10/site-packages/MDAnalysis/coordinates/DCD.py:165: DeprecationWarning: DCDReader currently makes independent timesteps by copying self.ts while other readers update self.ts inplace. This behavior will be changed in 3.0 to be the same as other readers. Read more at https://github.com/MDAnalysis/mdanalysis/issues/3889 to learn if this change in behavior might affect you.\n",
      "  warnings.warn(\"DCDReader currently makes independent timesteps\"\n"
     ]
    }
   ],
   "source": [
    "u = mda.Universe('datafiles/C6.data', 'datafiles/C6.dcd')"
   ]
  },
  {
   "cell_type": "markdown",
   "metadata": {},
   "source": [
    "This system has 46,500 atoms in 250 different fragments."
   ]
  },
  {
   "cell_type": "code",
   "execution_count": 3,
   "metadata": {},
   "outputs": [
    {
     "name": "stdout",
     "output_type": "stream",
     "text": [
      "46500 250\n"
     ]
    }
   ],
   "source": [
    "print(u.atoms.n_atoms, len(u.atoms.fragments))"
   ]
  },
  {
   "cell_type": "markdown",
   "metadata": {},
   "source": [
    "Our dynamics simulation has 5 frames of results."
   ]
  },
  {
   "cell_type": "code",
   "execution_count": 4,
   "metadata": {},
   "outputs": [
    {
     "name": "stdout",
     "output_type": "stream",
     "text": [
      "5\n"
     ]
    }
   ],
   "source": [
    "print(u.trajectory.n_frames)"
   ]
  },
  {
   "cell_type": "markdown",
   "metadata": {},
   "source": [
    "To perform the coupling calculations our `Universe` will require bond information (for determining fragments) and element information (for the tight binding calculations) stored inside the `.names` attribute."
   ]
  },
  {
   "cell_type": "markdown",
   "metadata": {},
   "source": [
    "Our Lammps Data file did not include element symbols, so we can add these to the Universe now..."
   ]
  },
  {
   "cell_type": "code",
   "execution_count": 5,
   "metadata": {},
   "outputs": [],
   "source": [
    "def add_names(u):\n",
    "    # Guesses atom names based upon masses\n",
    "    def approx_equal(x, y):\n",
    "        return abs(x - y) < 0.1\n",
    "    \n",
    "    # mapping of atom mass to element\n",
    "    massdict = {}\n",
    "    for m in set(u.atoms.masses):\n",
    "        for elem, elem_mass in mda.guesser.tables.masses.items():\n",
    "            if approx_equal(m, elem_mass):\n",
    "                massdict[m] = elem\n",
    "                break\n",
    "        else:\n",
    "            raise ValueError\n",
    "            \n",
    "    u.add_TopologyAttr('names')\n",
    "    for m, e in massdict.items():\n",
    "        u.atoms[u.atoms.masses == m].names = e\n",
    "\n",
    "add_names(u)"
   ]
  },
  {
   "cell_type": "markdown",
   "metadata": {},
   "source": [
    "## Running the coupling matrix calculation\n",
    "\n",
    "The coupling matrix between fragments is calculated using the `kgp.coupling_matrix` function.\n",
    "\n",
    "Here we are calculating the coupling matrix for fragments in the Universe `u` where\n",
    "- coupling is calculated between fragments with a closest approach of less than 5.0 Angstrom (`nn_cutoff`)\n",
    "- coupling is calculated between the LUMO upwards (`state='lumo'`)\n",
    "- one state per fragment is considered (`degeneracy=1`)\n",
    "- we will analyse up to frame 3 (`stop=3`)\n",
    "\n",
    "This function will (for each frame)\n",
    "- identify which fragments are close enough to possibly be electronically coupled\n",
    "- run a tight binding calculation between all pairs identified\n",
    "- calculate the molecular coupling based on this tight binding calculation"
   ]
  },
  {
   "cell_type": "code",
   "execution_count": 6,
   "metadata": {},
   "outputs": [
    {
     "name": "stderr",
     "output_type": "stream",
     "text": [
      "2025-04-15T11:01:26.275477+0100 INFO Processing 3 frames\n",
      "2025-04-15T11:01:26.276965+0100 INFO Processing frame 1 of 3\n",
      "2025-04-15T11:01:26.348914+0100 INFO Finding dimers within 5.0, passed 250 fragments\n",
      "2025-04-15T11:01:26.715133+0100 INFO Found 3282 dimers\n"
     ]
    },
    {
     "name": "stdout",
     "output_type": "stream",
     "text": [
      "372\n",
      "H164 C188 S8 N8 O4\n",
      "C 97.482269 82.034355 131.860443\n",
      "C 97.954422 82.892746 130.865845\n",
      "C 99.272972 82.635948 130.421738\n",
      "C 100.056236 81.527641 130.843430\n",
      "C 99.556030 80.647842 131.749115\n",
      "C 98.207870 80.842789 132.203445\n",
      "H 96.509430 82.249947 132.295746\n",
      "H 101.074677 81.399841 130.502640\n",
      "C 97.237198 84.121353 130.318970\n",
      "C 98.471245 84.592644 129.437500\n",
      "C 99.559692 83.725227 129.534195\n",
      "C 98.734489 85.746727 128.672852\n",
      "C 100.106346 85.785576 128.243088\n",
      "S 100.981865 84.352226 128.779816\n",
      "C 100.210083 79.426292 132.368179\n",
      "C 98.982483 78.953506 133.229614\n",
      "C 97.877556 79.720833 133.027328\n",
      "C 98.652054 77.956268 134.165298\n",
      "C 97.296753 77.977783 134.629135\n",
      "S 96.408104 79.219803 133.906235\n",
      "C 100.444618 86.953850 127.663948\n",
      "S 97.914085 87.267555 128.258041\n",
      "S 99.556282 76.667847 134.975037\n",
      "C 97.028481 76.977356 135.550827\n",
      "C 99.484055 87.970314 127.665009\n",
      "C 98.221062 76.498642 136.147217\n",
      "H 101.451149 87.102570 127.403122\n",
      "H 96.138939 76.776009 136.085663\n",
      "C 98.287453 75.603279 137.259750\n",
      "C 97.722420 75.551903 138.531555\n",
      "C 96.826126 76.601471 139.098694\n",
      "C 98.155067 74.675186 139.685440\n",
      "C 96.706146 76.381271 140.501556\n",
      "O 96.331047 77.556419 138.532196\n",
      "C 97.328514 75.164978 140.867706\n",
      "C 99.096611 73.646393 139.726059\n",
      "C 95.857964 77.036156 141.404190\n",
      "C 97.298225 74.813751 142.203964\n",
      "C 99.909225 73.082108 138.637863\n",
      "C 99.332481 72.824509 140.856110\n",
      "C 95.765030 76.623558 142.701660\n",
      "H 95.247253 77.881119 141.071182\n",
      "C 96.453262 75.510757 143.104660\n",
      "H 97.778702 73.991562 142.701324\n",
      "N 100.511787 72.701744 137.786148\n",
      "N 99.421547 72.055901 141.752441\n",
      "H 95.128426 77.161339 143.397202\n",
      "H 96.417114 75.200325 144.171692\n",
      "H 98.993950 74.832596 137.125595\n",
      "C 99.691498 89.161522 126.907974\n",
      "C 100.765572 90.026146 126.766830\n",
      "C 101.906219 90.023392 127.682556\n",
      "C 100.993088 91.178070 125.884544\n",
      "C 102.784904 91.133736 127.287300\n",
      "O 102.127365 89.334259 128.678375\n",
      "C 102.289177 91.785461 126.210899\n",
      "C 100.159370 91.648750 124.855492\n",
      "C 103.986008 91.512970 127.906013\n",
      "C 103.009956 92.826309 125.642555\n",
      "C 99.142029 90.907600 124.289650\n",
      "C 100.216606 92.960960 124.272415\n",
      "C 104.677345 92.631218 127.392769\n",
      "H 104.437271 90.889236 128.711960\n",
      "C 104.227951 93.257683 126.219872\n",
      "H 102.671410 93.284416 124.676498\n",
      "N 98.304070 90.293610 123.779106\n",
      "N 100.240273 94.024185 123.819466\n",
      "H 105.645851 92.948166 127.859032\n",
      "H 104.803833 93.951195 125.626373\n",
      "H 98.763474 89.400505 126.388618\n",
      "C 101.455803 79.934593 133.199295\n",
      "C 101.325439 80.510109 134.498260\n",
      "C 102.752747 79.908997 132.618088\n",
      "C 102.448601 80.972885 135.231094\n",
      "H 100.396690 80.605293 135.015671\n",
      "C 103.859230 80.456085 133.251480\n",
      "H 102.870728 79.541367 131.602539\n",
      "C 103.693451 81.057098 134.518799\n",
      "H 102.262711 81.273613 136.228683\n",
      "H 104.825363 80.289963 132.759216\n",
      "C 96.851089 85.207687 131.412933\n",
      "C 97.491081 85.239471 132.683563\n",
      "C 96.135017 86.391876 131.036087\n",
      "C 97.295753 86.330696 133.573792\n",
      "H 98.211174 84.488464 132.882629\n",
      "C 95.863098 87.434448 131.909760\n",
      "H 95.604073 86.436684 130.063110\n",
      "C 96.532967 87.450882 133.118271\n",
      "H 97.917557 86.457199 134.490799\n",
      "H 95.260033 88.350784 131.662903\n",
      "C 96.017998 83.687584 129.462646\n",
      "C 96.124924 83.598831 128.072723\n",
      "C 94.832489 83.145752 130.092041\n",
      "C 95.042046 83.021057 127.361832\n",
      "H 96.920937 84.019318 127.418625\n",
      "C 93.750687 82.698608 129.297165\n",
      "H 94.718086 83.250725 131.151550\n",
      "C 93.836990 82.680328 127.912773\n",
      "H 95.187355 82.950691 126.311852\n",
      "H 92.799858 82.433029 129.683807\n",
      "C 100.439880 78.283333 131.334625\n",
      "C 100.035919 78.305237 129.963226\n",
      "C 101.212128 77.151039 131.821289\n",
      "C 100.385750 77.271393 129.144409\n",
      "H 99.482224 79.134415 129.503525\n",
      "C 101.515991 76.080490 131.006332\n",
      "H 101.548813 77.087044 132.842484\n",
      "C 101.122978 76.148575 129.693100\n",
      "H 100.040955 77.249130 128.131577\n",
      "H 102.120544 75.237335 131.470093\n",
      "C 92.788734 82.198502 126.969849\n",
      "H 91.931732 82.772743 126.948784\n",
      "H 93.133751 82.233223 125.973625\n",
      "C 92.520309 80.735596 127.213921\n",
      "H 91.831520 80.563675 128.063766\n",
      "H 92.054688 80.368324 126.343819\n",
      "C 93.770721 79.863190 127.432541\n",
      "H 94.347427 79.916885 126.510376\n",
      "H 94.397034 80.291084 128.244965\n",
      "C 104.913345 81.335754 135.328339\n",
      "H 105.672379 81.887627 134.744843\n",
      "H 104.617401 82.063538 136.130295\n",
      "C 105.522148 80.024971 135.907471\n",
      "H 104.728447 79.433029 136.454590\n",
      "H 105.925919 79.493103 135.051544\n",
      "C 106.741631 80.165802 136.844360\n",
      "H 106.465775 80.902481 137.675369\n",
      "H 107.539154 80.672943 136.240616\n",
      "C 101.482170 74.933212 128.867722\n",
      "H 101.184540 74.082047 129.451340\n",
      "H 100.749413 74.953659 128.053375\n",
      "C 102.932083 74.754585 128.330948\n",
      "H 103.634903 74.791008 129.155472\n",
      "H 103.131462 73.832542 127.785118\n",
      "C 103.214821 75.896950 127.335167\n",
      "H 102.508026 75.942848 126.547249\n",
      "H 102.980446 76.889145 127.841057\n",
      "C 96.566261 88.736649 133.968536\n",
      "H 97.559616 89.177719 133.768753\n",
      "H 96.563309 88.353127 134.953781\n",
      "C 95.386131 89.722763 134.074112\n",
      "H 95.169540 90.052788 133.054794\n",
      "H 94.404602 89.182800 134.367310\n",
      "C 95.662720 90.840622 135.046844\n",
      "H 96.688385 91.194023 134.766190\n",
      "H 95.726791 90.377266 135.966949\n",
      "C 107.270599 78.882477 137.490677\n",
      "H 106.410088 78.502121 138.073395\n",
      "H 107.591660 78.098854 136.778580\n",
      "C 94.654388 92.024597 135.088379\n",
      "H 94.554085 92.543434 134.069778\n",
      "H 93.679337 91.633148 135.408386\n",
      "C 104.590546 75.825432 126.728409\n",
      "H 105.344994 75.918114 127.494392\n",
      "H 104.779045 74.827049 126.384155\n",
      "C 93.588852 78.386917 127.793579\n",
      "H 92.802010 78.344650 128.544357\n",
      "H 92.953568 77.833900 127.055237\n",
      "C 104.945251 76.819405 125.542068\n",
      "H 104.609764 77.783249 125.823914\n",
      "H 104.420052 76.523926 124.642509\n",
      "C 95.141098 93.123672 136.058365\n",
      "H 96.029190 93.623344 135.600128\n",
      "H 95.514885 92.677132 136.967224\n",
      "C 108.423950 79.018341 138.481491\n",
      "H 108.035919 79.429993 139.413010\n",
      "H 109.157745 79.804008 138.051880\n",
      "C 94.920723 77.529198 128.004990\n",
      "H 95.640938 77.813194 127.327324\n",
      "H 95.312767 77.779778 129.067825\n",
      "C 109.083496 77.652451 138.763031\n",
      "H 109.998001 77.810921 139.345734\n",
      "H 108.382652 76.912437 139.292282\n",
      "H 109.242302 77.121040 137.854431\n",
      "C 94.045418 94.093727 136.342865\n",
      "H 94.397583 94.975792 136.907593\n",
      "H 93.797386 94.481598 135.325516\n",
      "H 93.187798 93.825264 136.996704\n",
      "C 106.449623 76.735481 125.103958\n",
      "H 107.041367 76.905525 125.959793\n",
      "H 106.699165 75.692749 124.666748\n",
      "H 106.725464 77.424164 124.329704\n",
      "C 94.607719 76.080330 127.783798\n",
      "H 94.108238 75.952766 126.860100\n",
      "H 95.521820 75.465248 127.894577\n",
      "H 93.798492 75.732384 128.517517\n",
      "C 103.788986 88.641106 116.988029\n",
      "C 104.668350 87.674423 117.516098\n",
      "C 106.015976 87.659737 117.095528\n",
      "C 106.506523 88.564796 116.121414\n",
      "C 105.646553 89.583008 115.606438\n",
      "C 104.277611 89.656639 116.106651\n",
      "H 102.784615 88.845741 117.359879\n",
      "H 107.528000 88.498421 115.903542\n",
      "C 104.444199 86.578003 118.585854\n",
      "C 105.808067 85.833000 118.520264\n",
      "C 106.705650 86.563667 117.730949\n",
      "C 106.428116 84.766266 119.262611\n",
      "C 107.776115 84.680962 119.000557\n",
      "S 108.306488 85.944130 117.841644\n",
      "C 105.920280 90.644295 114.517624\n",
      "C 104.583054 91.354408 114.608398\n",
      "C 103.666100 90.804497 115.529037\n",
      "C 104.065170 92.553001 114.022476\n",
      "C 102.740387 92.826271 114.469917\n",
      "S 102.137695 91.605217 115.554993\n",
      "C 108.436279 83.771271 119.705154\n",
      "S 105.945923 83.516769 120.392220\n",
      "S 104.616493 93.775558 112.966255\n",
      "C 102.183647 93.987549 113.949112\n",
      "C 107.654022 83.021065 120.535141\n",
      "C 102.955986 94.517876 112.933807\n",
      "H 109.440758 83.574554 119.677406\n",
      "H 101.169266 94.337967 114.145592\n",
      "C 102.490601 95.666000 112.260216\n",
      "C 101.273376 96.024658 111.675468\n",
      "C 100.039230 95.090927 111.570435\n",
      "C 100.849777 97.306114 111.063210\n",
      "C 98.936401 95.810493 110.975540\n",
      "O 99.915833 93.871841 111.910278\n",
      "C 99.386833 97.143799 110.671326\n",
      "C 101.656166 98.496552 110.780823\n",
      "C 97.673927 95.338715 110.591393\n",
      "C 98.500084 97.993576 109.977791\n",
      "C 102.975998 98.631470 111.207893\n",
      "C 101.053391 99.755211 110.524544\n",
      "C 96.773392 96.305840 110.027260\n",
      "H 97.349548 94.314781 110.854622\n",
      "C 97.221535 97.580956 109.621277\n",
      "H 98.845161 98.947311 109.748604\n",
      "N 104.112770 98.654205 111.472595\n",
      "N 100.539322 100.753578 110.324898\n",
      "H 95.777603 95.965462 109.665596\n",
      "H 96.596283 98.270439 109.076096\n",
      "H 103.316505 96.387825 112.154793\n",
      "C 108.139427 81.893150 121.254448\n",
      "C 109.348656 81.714806 121.979797\n",
      "C 110.443703 82.781387 122.206078\n",
      "C 109.715591 80.536415 122.817444\n",
      "C 111.475571 82.143867 123.032135\n",
      "O 110.486977 83.928909 121.784958\n",
      "C 111.024666 80.882553 123.478172\n",
      "C 109.091278 79.255997 122.897682\n",
      "C 112.710815 82.625427 123.437469\n",
      "C 111.773560 80.059219 124.386414\n",
      "C 108.084961 78.731415 121.952515\n",
      "C 109.376686 78.038742 123.663139\n",
      "C 113.559410 81.761024 124.224213\n",
      "H 113.060913 83.595955 123.080696\n",
      "C 113.038383 80.515411 124.750496\n",
      "H 111.467995 79.165459 124.761612\n",
      "N 107.379021 78.351738 121.155251\n",
      "N 109.567223 77.125343 124.323380\n",
      "H 114.603622 82.040710 124.488831\n",
      "H 113.719933 79.924126 125.463242\n",
      "H 107.409271 81.086777 121.208389\n",
      "C 106.161423 89.879913 113.210304\n",
      "C 105.247910 89.989891 112.128319\n",
      "C 107.217224 88.948524 113.090286\n",
      "C 105.458755 89.294144 110.907059\n",
      "H 104.345192 90.617302 112.206215\n",
      "C 107.441772 88.308746 111.895454\n",
      "H 107.784843 88.846718 114.006767\n",
      "C 106.585236 88.458755 110.753136\n",
      "H 104.794243 89.584450 110.121552\n",
      "H 108.295219 87.730293 111.681778\n",
      "C 103.150894 85.661873 118.280563\n",
      "C 103.266678 84.304520 117.791801\n",
      "C 101.829201 86.190758 118.413742\n",
      "C 102.020119 83.674461 117.354225\n",
      "H 104.234161 83.846642 117.802460\n",
      "C 100.673904 85.465981 118.023590\n",
      "H 101.635193 87.126442 118.858582\n",
      "C 100.783867 84.261475 117.429428\n",
      "H 102.100136 82.644348 116.923187\n",
      "H 99.682434 85.874687 118.118042\n",
      "C 104.181335 87.087715 120.031128\n",
      "C 103.920563 88.459320 120.267769\n",
      "C 103.927826 86.153755 121.078964\n",
      "C 103.506813 88.919739 121.558266\n",
      "H 104.062904 89.193115 119.446083\n",
      "C 103.559784 86.652641 122.291687\n",
      "H 103.962219 85.116180 120.935905\n",
      "C 103.434883 88.020226 122.589455\n",
      "H 103.308868 89.950569 121.742493\n",
      "H 103.445671 85.909897 123.053238\n",
      "C 107.097412 91.673157 114.811432\n",
      "C 107.736992 92.308617 113.716782\n",
      "C 107.499222 92.060097 116.156128\n",
      "C 108.759392 93.255211 113.935310\n",
      "H 107.495796 92.041046 112.695892\n",
      "C 108.463173 93.103271 116.310303\n",
      "H 107.038071 91.569077 116.991737\n",
      "C 109.057663 93.674133 115.255318\n",
      "H 109.145538 93.739281 113.070618\n",
      "H 108.761375 93.384766 117.354362\n",
      "C 103.094650 88.476006 124.001282\n",
      "H 102.510857 89.340218 123.982712\n",
      "H 102.566681 87.692940 124.536896\n",
      "C 104.330925 88.601677 124.932564\n",
      "H 104.013039 88.858391 125.919418\n",
      "H 104.768028 87.649811 125.060074\n",
      "C 105.380112 89.602356 124.333458\n",
      "H 105.661171 89.342110 123.256927\n",
      "H 104.958656 90.647957 124.315956\n",
      "C 106.843842 87.965973 109.283188\n",
      "H 107.447113 88.764191 108.716171\n",
      "H 107.561768 87.160950 109.396194\n",
      "C 105.556801 87.467018 108.489868\n",
      "H 105.863274 86.549583 107.956009\n",
      "H 104.797989 87.052856 109.156853\n",
      "C 104.920197 88.491516 107.451057\n",
      "H 105.209877 88.291847 106.461403\n",
      "H 105.337486 89.492302 107.569061\n",
      "C 110.150703 94.697792 115.542870\n",
      "H 109.690277 95.623184 115.898911\n",
      "H 110.727608 94.236572 116.395760\n",
      "C 111.066444 95.057068 114.335472\n",
      "H 111.220505 94.078033 113.782890\n",
      "H 110.569664 95.808975 113.700691\n",
      "C 112.418335 95.663063 114.760284\n",
      "H 112.182571 96.519653 115.328453\n",
      "H 113.010109 94.993126 115.358208\n",
      "C 99.585419 83.482742 116.824280\n",
      "H 98.767883 83.853531 117.463005\n",
      "H 99.689667 82.377197 116.981613\n",
      "C 99.249580 83.837624 115.364456\n",
      "H 98.959068 84.918983 115.417046\n",
      "H 100.085945 83.657265 114.740639\n",
      "C 98.013474 83.132187 114.816193\n",
      "H 97.818413 83.463905 113.804459\n",
      "H 97.123222 83.262604 115.417343\n",
      "C 103.398247 88.496826 107.513756\n",
      "H 103.057289 89.213921 108.343285\n",
      "H 103.123367 89.098289 106.620499\n",
      "C 98.177887 81.615158 114.684349\n",
      "H 99.133118 81.375557 114.213707\n",
      "H 98.182304 81.146629 115.679871\n",
      "C 113.309860 96.017952 113.525986\n",
      "H 113.682823 95.060020 113.151352\n",
      "H 112.668983 96.560799 112.815704\n",
      "C 106.730751 89.510353 125.057930\n",
      "H 107.016037 88.452255 125.057129\n",
      "H 107.548912 89.952919 124.575241\n",
      "C 114.550041 96.948746 113.756218\n",
      "H 115.225883 96.605492 114.636772\n",
      "H 114.178391 97.938194 114.042503\n",
      "C 97.123619 80.989899 113.849289\n",
      "H 96.888832 81.613930 112.957436\n",
      "H 96.201859 80.871300 114.458076\n",
      "C 102.649582 87.147102 107.439301\n",
      "H 101.585999 87.353012 107.307091\n",
      "H 102.722168 86.658440 108.369896\n",
      "C 106.687172 89.697540 126.617844\n",
      "H 106.439621 90.687904 126.755852\n",
      "H 106.001717 88.955872 127.030365\n",
      "C 103.129318 86.306885 106.305565\n",
      "H 102.521881 85.308563 106.359154\n",
      "H 102.992584 86.731865 105.353912\n",
      "H 104.222664 85.901772 106.402718\n",
      "C 97.465614 79.634224 113.222839\n",
      "H 98.326485 79.726562 112.596405\n",
      "H 97.770943 78.998367 114.082619\n",
      "H 96.656509 79.134811 112.753922\n",
      "C 115.310081 97.118164 112.433273\n",
      "H 116.123642 97.841362 112.537018\n",
      "H 115.762344 96.150291 112.166649\n",
      "H 114.614464 97.519310 111.660690\n",
      "C 107.989159 89.621513 127.267120\n",
      "H 108.460899 90.642212 127.257294\n",
      "H 107.980782 89.363625 128.321396\n",
      "H 108.710464 88.971626 126.792274\n",
      "predicting couplings\n",
      "processing batch size 10\n",
      "running forward\n"
     ]
    },
    {
     "name": "stderr",
     "output_type": "stream",
     "text": [
      "/Users/k2584788/.local/share/mamba/envs/forked_kugupu/lib/python3.10/site-packages/dig/threedgraph/utils/geometric_computing.py:47: UserWarning: Using torch.cross without specifying the dim arg is deprecated.\n",
      "Please either pass the dim explicitly or simply use torch.linalg.cross.\n",
      "The default value of dim will change to agree with that of linalg.cross in a future release. (Triggered internally at /Users/runner/miniforge3/conda-bld/libtorch_1744233393360/work/aten/src/ATen/native/Cross.cpp:66.)\n",
      "  b = torch.cross(pos_ji, pos_jk).norm(dim=-1) # sin_angle * |pos_ji| * |pos_jk|\n"
     ]
    },
    {
     "ename": "KeyboardInterrupt",
     "evalue": "",
     "output_type": "error",
     "traceback": [
      "\u001b[0;31m---------------------------------------------------------------------------\u001b[0m",
      "\u001b[0;31mKeyboardInterrupt\u001b[0m                         Traceback (most recent call last)",
      "Cell \u001b[0;32mIn[6], line 1\u001b[0m\n\u001b[0;32m----> 1\u001b[0m res \u001b[38;5;241m=\u001b[39m \u001b[43mkgp\u001b[49m\u001b[38;5;241;43m.\u001b[39;49m\u001b[43mcoupling_matrix\u001b[49m\u001b[43m(\u001b[49m\u001b[43mu\u001b[49m\u001b[43m,\u001b[49m\u001b[43m \u001b[49m\u001b[43mnn_cutoff\u001b[49m\u001b[38;5;241;43m=\u001b[39;49m\u001b[38;5;241;43m5.0\u001b[39;49m\u001b[43m,\u001b[49m\u001b[43m \u001b[49m\u001b[43mstate\u001b[49m\u001b[38;5;241;43m=\u001b[39;49m\u001b[38;5;124;43m'\u001b[39;49m\u001b[38;5;124;43mlumo\u001b[39;49m\u001b[38;5;124;43m'\u001b[39;49m\u001b[43m,\u001b[49m\u001b[43m \u001b[49m\u001b[43mdegeneracy\u001b[49m\u001b[38;5;241;43m=\u001b[39;49m\u001b[38;5;241;43m1\u001b[39;49m\u001b[43m,\u001b[49m\u001b[43m \u001b[49m\u001b[43mstop\u001b[49m\u001b[38;5;241;43m=\u001b[39;49m\u001b[38;5;241;43m3\u001b[39;49m\u001b[43m,\u001b[49m\u001b[43m \u001b[49m\u001b[43mmodel\u001b[49m\u001b[38;5;241;43m=\u001b[39;49m\u001b[38;5;124;43m'\u001b[39;49m\u001b[38;5;124;43mchadML\u001b[39;49m\u001b[38;5;124;43m'\u001b[39;49m\u001b[43m)\u001b[49m\n",
      "File \u001b[0;32m~/forked_kugupu/kugupu/src/kugupu/generate_results.py:262\u001b[0m, in \u001b[0;36mcoupling_matrix\u001b[0;34m(u, nn_cutoff, state, degeneracy, start, stop, step, client, model)\u001b[0m\n\u001b[1;32m    260\u001b[0m   H_frag \u001b[38;5;241m=\u001b[39m _single_frame(u\u001b[38;5;241m.\u001b[39matoms\u001b[38;5;241m.\u001b[39mfragments, nn_cutoff, degeneracy, state)\n\u001b[1;32m    261\u001b[0m \u001b[38;5;28;01melif\u001b[39;00m model \u001b[38;5;241m==\u001b[39m \u001b[38;5;124m'\u001b[39m\u001b[38;5;124mchadML\u001b[39m\u001b[38;5;124m'\u001b[39m:\n\u001b[0;32m--> 262\u001b[0m   H_frag \u001b[38;5;241m=\u001b[39m \u001b[43m_ocelotl_frame\u001b[49m\u001b[43m(\u001b[49m\u001b[43mu\u001b[49m\u001b[38;5;241;43m.\u001b[39;49m\u001b[43matoms\u001b[49m\u001b[38;5;241;43m.\u001b[39;49m\u001b[43mfragments\u001b[49m\u001b[43m,\u001b[49m\u001b[43m \u001b[49m\u001b[43mnn_cutoff\u001b[49m\u001b[43m,\u001b[49m\u001b[43m \u001b[49m\u001b[43mdegeneracy\u001b[49m\u001b[43m)\u001b[49m\n\u001b[1;32m    263\u001b[0m frames\u001b[38;5;241m.\u001b[39mappend(ts\u001b[38;5;241m.\u001b[39mframe)\n\u001b[1;32m    264\u001b[0m Hs\u001b[38;5;241m.\u001b[39mappend(H_frag)\n",
      "File \u001b[0;32m~/forked_kugupu/kugupu/src/kugupu/generate_results.py:302\u001b[0m, in \u001b[0;36m_ocelotl_frame\u001b[0;34m(fragments, nn_cutoff, degeneracy)\u001b[0m\n\u001b[1;32m    300\u001b[0m wave \u001b[38;5;241m=\u001b[39m \u001b[38;5;28mdict\u001b[39m()  \u001b[38;5;66;03m# wavefunctions for each fragment\u001b[39;00m\n\u001b[1;32m    301\u001b[0m \u001b[38;5;28mprint\u001b[39m(dimers_pymat[\u001b[38;5;241m0\u001b[39m]\u001b[38;5;241m.\u001b[39mto_file(\u001b[38;5;124m'\u001b[39m\u001b[38;5;124mdimer.xyz\u001b[39m\u001b[38;5;124m'\u001b[39m))\n\u001b[0;32m--> 302\u001b[0m predictions \u001b[38;5;241m=\u001b[39m \u001b[43mpredict_from_list\u001b[49m\u001b[43m(\u001b[49m\u001b[43mdimers_pymat\u001b[49m\u001b[43m,\u001b[49m\u001b[43m \u001b[49m\u001b[43mocelotml_model\u001b[49m\u001b[43m)\u001b[49m\n\u001b[1;32m    303\u001b[0m \u001b[38;5;28mprint\u001b[39m(predictions)\n\u001b[1;32m    305\u001b[0m \u001b[38;5;28;01massert\u001b[39;00m \u001b[38;5;28;01mFalse\u001b[39;00m\n",
      "File \u001b[0;32m~/forked_kugupu/ocelotml_coupling/ocelotml/main.py:79\u001b[0m, in \u001b[0;36mpredict_from_list\u001b[0;34m(molecules, model)\u001b[0m\n\u001b[1;32m     77\u001b[0m input_batch \u001b[38;5;241m=\u001b[39m Batch\u001b[38;5;241m.\u001b[39mfrom_data_list(batch)\n\u001b[1;32m     78\u001b[0m \u001b[38;5;28mprint\u001b[39m(\u001b[38;5;124m\"\u001b[39m\u001b[38;5;124mrunning forward\u001b[39m\u001b[38;5;124m\"\u001b[39m)\n\u001b[0;32m---> 79\u001b[0m result \u001b[38;5;241m=\u001b[39m \u001b[43mmodel\u001b[49m\u001b[43m(\u001b[49m\u001b[43minput_batch\u001b[49m\u001b[43m)\u001b[49m\n\u001b[1;32m     80\u001b[0m \u001b[38;5;28mprint\u001b[39m(result)\n\u001b[1;32m     81\u001b[0m preds \u001b[38;5;241m=\u001b[39m result\u001b[38;5;241m.\u001b[39mdetach()\u001b[38;5;241m.\u001b[39mcpu()\u001b[38;5;241m.\u001b[39mnumpy()\n",
      "File \u001b[0;32m~/.local/share/mamba/envs/forked_kugupu/lib/python3.10/site-packages/torch/nn/modules/module.py:1739\u001b[0m, in \u001b[0;36mModule._wrapped_call_impl\u001b[0;34m(self, *args, **kwargs)\u001b[0m\n\u001b[1;32m   1737\u001b[0m     \u001b[38;5;28;01mreturn\u001b[39;00m \u001b[38;5;28mself\u001b[39m\u001b[38;5;241m.\u001b[39m_compiled_call_impl(\u001b[38;5;241m*\u001b[39margs, \u001b[38;5;241m*\u001b[39m\u001b[38;5;241m*\u001b[39mkwargs)  \u001b[38;5;66;03m# type: ignore[misc]\u001b[39;00m\n\u001b[1;32m   1738\u001b[0m \u001b[38;5;28;01melse\u001b[39;00m:\n\u001b[0;32m-> 1739\u001b[0m     \u001b[38;5;28;01mreturn\u001b[39;00m \u001b[38;5;28;43mself\u001b[39;49m\u001b[38;5;241;43m.\u001b[39;49m\u001b[43m_call_impl\u001b[49m\u001b[43m(\u001b[49m\u001b[38;5;241;43m*\u001b[39;49m\u001b[43margs\u001b[49m\u001b[43m,\u001b[49m\u001b[43m \u001b[49m\u001b[38;5;241;43m*\u001b[39;49m\u001b[38;5;241;43m*\u001b[39;49m\u001b[43mkwargs\u001b[49m\u001b[43m)\u001b[49m\n",
      "File \u001b[0;32m~/.local/share/mamba/envs/forked_kugupu/lib/python3.10/site-packages/torch/nn/modules/module.py:1750\u001b[0m, in \u001b[0;36mModule._call_impl\u001b[0;34m(self, *args, **kwargs)\u001b[0m\n\u001b[1;32m   1745\u001b[0m \u001b[38;5;66;03m# If we don't have any hooks, we want to skip the rest of the logic in\u001b[39;00m\n\u001b[1;32m   1746\u001b[0m \u001b[38;5;66;03m# this function, and just call forward.\u001b[39;00m\n\u001b[1;32m   1747\u001b[0m \u001b[38;5;28;01mif\u001b[39;00m \u001b[38;5;129;01mnot\u001b[39;00m (\u001b[38;5;28mself\u001b[39m\u001b[38;5;241m.\u001b[39m_backward_hooks \u001b[38;5;129;01mor\u001b[39;00m \u001b[38;5;28mself\u001b[39m\u001b[38;5;241m.\u001b[39m_backward_pre_hooks \u001b[38;5;129;01mor\u001b[39;00m \u001b[38;5;28mself\u001b[39m\u001b[38;5;241m.\u001b[39m_forward_hooks \u001b[38;5;129;01mor\u001b[39;00m \u001b[38;5;28mself\u001b[39m\u001b[38;5;241m.\u001b[39m_forward_pre_hooks\n\u001b[1;32m   1748\u001b[0m         \u001b[38;5;129;01mor\u001b[39;00m _global_backward_pre_hooks \u001b[38;5;129;01mor\u001b[39;00m _global_backward_hooks\n\u001b[1;32m   1749\u001b[0m         \u001b[38;5;129;01mor\u001b[39;00m _global_forward_hooks \u001b[38;5;129;01mor\u001b[39;00m _global_forward_pre_hooks):\n\u001b[0;32m-> 1750\u001b[0m     \u001b[38;5;28;01mreturn\u001b[39;00m \u001b[43mforward_call\u001b[49m\u001b[43m(\u001b[49m\u001b[38;5;241;43m*\u001b[39;49m\u001b[43margs\u001b[49m\u001b[43m,\u001b[49m\u001b[43m \u001b[49m\u001b[38;5;241;43m*\u001b[39;49m\u001b[38;5;241;43m*\u001b[39;49m\u001b[43mkwargs\u001b[49m\u001b[43m)\u001b[49m\n\u001b[1;32m   1752\u001b[0m result \u001b[38;5;241m=\u001b[39m \u001b[38;5;28;01mNone\u001b[39;00m\n\u001b[1;32m   1753\u001b[0m called_always_called_hooks \u001b[38;5;241m=\u001b[39m \u001b[38;5;28mset\u001b[39m()\n",
      "File \u001b[0;32m~/.local/share/mamba/envs/forked_kugupu/lib/python3.10/site-packages/dig/threedgraph/method/spherenet/spherenet.py:316\u001b[0m, in \u001b[0;36mSphereNet.forward\u001b[0;34m(self, batch_data)\u001b[0m\n\u001b[1;32m    313\u001b[0m u \u001b[38;5;241m=\u001b[39m \u001b[38;5;28mself\u001b[39m\u001b[38;5;241m.\u001b[39minit_u(torch\u001b[38;5;241m.\u001b[39mzeros_like(scatter(v, batch, dim\u001b[38;5;241m=\u001b[39m\u001b[38;5;241m0\u001b[39m)), v, batch) \u001b[38;5;66;03m#scatter(v, batch, dim=0)\u001b[39;00m\n\u001b[1;32m    315\u001b[0m \u001b[38;5;28;01mfor\u001b[39;00m update_e, update_v, update_u \u001b[38;5;129;01min\u001b[39;00m \u001b[38;5;28mzip\u001b[39m(\u001b[38;5;28mself\u001b[39m\u001b[38;5;241m.\u001b[39mupdate_es, \u001b[38;5;28mself\u001b[39m\u001b[38;5;241m.\u001b[39mupdate_vs, \u001b[38;5;28mself\u001b[39m\u001b[38;5;241m.\u001b[39mupdate_us):\n\u001b[0;32m--> 316\u001b[0m     e \u001b[38;5;241m=\u001b[39m \u001b[43mupdate_e\u001b[49m\u001b[43m(\u001b[49m\u001b[43me\u001b[49m\u001b[43m,\u001b[49m\u001b[43m \u001b[49m\u001b[43memb\u001b[49m\u001b[43m,\u001b[49m\u001b[43m \u001b[49m\u001b[43midx_kj\u001b[49m\u001b[43m,\u001b[49m\u001b[43m \u001b[49m\u001b[43midx_ji\u001b[49m\u001b[43m)\u001b[49m\n\u001b[1;32m    317\u001b[0m     v \u001b[38;5;241m=\u001b[39m update_v(e, i)\n\u001b[1;32m    318\u001b[0m     u \u001b[38;5;241m=\u001b[39m update_u(u, v, batch) \u001b[38;5;66;03m#u += scatter(v, batch, dim=0)\u001b[39;00m\n",
      "File \u001b[0;32m~/.local/share/mamba/envs/forked_kugupu/lib/python3.10/site-packages/torch/nn/modules/module.py:1739\u001b[0m, in \u001b[0;36mModule._wrapped_call_impl\u001b[0;34m(self, *args, **kwargs)\u001b[0m\n\u001b[1;32m   1737\u001b[0m     \u001b[38;5;28;01mreturn\u001b[39;00m \u001b[38;5;28mself\u001b[39m\u001b[38;5;241m.\u001b[39m_compiled_call_impl(\u001b[38;5;241m*\u001b[39margs, \u001b[38;5;241m*\u001b[39m\u001b[38;5;241m*\u001b[39mkwargs)  \u001b[38;5;66;03m# type: ignore[misc]\u001b[39;00m\n\u001b[1;32m   1738\u001b[0m \u001b[38;5;28;01melse\u001b[39;00m:\n\u001b[0;32m-> 1739\u001b[0m     \u001b[38;5;28;01mreturn\u001b[39;00m \u001b[38;5;28;43mself\u001b[39;49m\u001b[38;5;241;43m.\u001b[39;49m\u001b[43m_call_impl\u001b[49m\u001b[43m(\u001b[49m\u001b[38;5;241;43m*\u001b[39;49m\u001b[43margs\u001b[49m\u001b[43m,\u001b[49m\u001b[43m \u001b[49m\u001b[38;5;241;43m*\u001b[39;49m\u001b[38;5;241;43m*\u001b[39;49m\u001b[43mkwargs\u001b[49m\u001b[43m)\u001b[49m\n",
      "File \u001b[0;32m~/.local/share/mamba/envs/forked_kugupu/lib/python3.10/site-packages/torch/nn/modules/module.py:1750\u001b[0m, in \u001b[0;36mModule._call_impl\u001b[0;34m(self, *args, **kwargs)\u001b[0m\n\u001b[1;32m   1745\u001b[0m \u001b[38;5;66;03m# If we don't have any hooks, we want to skip the rest of the logic in\u001b[39;00m\n\u001b[1;32m   1746\u001b[0m \u001b[38;5;66;03m# this function, and just call forward.\u001b[39;00m\n\u001b[1;32m   1747\u001b[0m \u001b[38;5;28;01mif\u001b[39;00m \u001b[38;5;129;01mnot\u001b[39;00m (\u001b[38;5;28mself\u001b[39m\u001b[38;5;241m.\u001b[39m_backward_hooks \u001b[38;5;129;01mor\u001b[39;00m \u001b[38;5;28mself\u001b[39m\u001b[38;5;241m.\u001b[39m_backward_pre_hooks \u001b[38;5;129;01mor\u001b[39;00m \u001b[38;5;28mself\u001b[39m\u001b[38;5;241m.\u001b[39m_forward_hooks \u001b[38;5;129;01mor\u001b[39;00m \u001b[38;5;28mself\u001b[39m\u001b[38;5;241m.\u001b[39m_forward_pre_hooks\n\u001b[1;32m   1748\u001b[0m         \u001b[38;5;129;01mor\u001b[39;00m _global_backward_pre_hooks \u001b[38;5;129;01mor\u001b[39;00m _global_backward_hooks\n\u001b[1;32m   1749\u001b[0m         \u001b[38;5;129;01mor\u001b[39;00m _global_forward_hooks \u001b[38;5;129;01mor\u001b[39;00m _global_forward_pre_hooks):\n\u001b[0;32m-> 1750\u001b[0m     \u001b[38;5;28;01mreturn\u001b[39;00m \u001b[43mforward_call\u001b[49m\u001b[43m(\u001b[49m\u001b[38;5;241;43m*\u001b[39;49m\u001b[43margs\u001b[49m\u001b[43m,\u001b[49m\u001b[43m \u001b[49m\u001b[38;5;241;43m*\u001b[39;49m\u001b[38;5;241;43m*\u001b[39;49m\u001b[43mkwargs\u001b[49m\u001b[43m)\u001b[49m\n\u001b[1;32m   1752\u001b[0m result \u001b[38;5;241m=\u001b[39m \u001b[38;5;28;01mNone\u001b[39;00m\n\u001b[1;32m   1753\u001b[0m called_always_called_hooks \u001b[38;5;241m=\u001b[39m \u001b[38;5;28mset\u001b[39m()\n",
      "File \u001b[0;32m~/.local/share/mamba/envs/forked_kugupu/lib/python3.10/site-packages/dig/threedgraph/method/spherenet/spherenet.py:168\u001b[0m, in \u001b[0;36mupdate_e.forward\u001b[0;34m(self, x, emb, idx_kj, idx_ji)\u001b[0m\n\u001b[1;32m    165\u001b[0m x_kj \u001b[38;5;241m=\u001b[39m x_kj[idx_kj] \u001b[38;5;241m*\u001b[39m sbf\n\u001b[1;32m    167\u001b[0m t \u001b[38;5;241m=\u001b[39m \u001b[38;5;28mself\u001b[39m\u001b[38;5;241m.\u001b[39mlin_t1(t)\n\u001b[0;32m--> 168\u001b[0m t \u001b[38;5;241m=\u001b[39m \u001b[38;5;28;43mself\u001b[39;49m\u001b[38;5;241;43m.\u001b[39;49m\u001b[43mlin_t2\u001b[49m\u001b[43m(\u001b[49m\u001b[43mt\u001b[49m\u001b[43m)\u001b[49m\n\u001b[1;32m    169\u001b[0m x_kj \u001b[38;5;241m=\u001b[39m x_kj \u001b[38;5;241m*\u001b[39m t\n\u001b[1;32m    171\u001b[0m x_kj \u001b[38;5;241m=\u001b[39m scatter(x_kj, idx_ji, dim\u001b[38;5;241m=\u001b[39m\u001b[38;5;241m0\u001b[39m, dim_size\u001b[38;5;241m=\u001b[39mx1\u001b[38;5;241m.\u001b[39msize(\u001b[38;5;241m0\u001b[39m))\n",
      "File \u001b[0;32m~/.local/share/mamba/envs/forked_kugupu/lib/python3.10/site-packages/torch/nn/modules/module.py:1739\u001b[0m, in \u001b[0;36mModule._wrapped_call_impl\u001b[0;34m(self, *args, **kwargs)\u001b[0m\n\u001b[1;32m   1737\u001b[0m     \u001b[38;5;28;01mreturn\u001b[39;00m \u001b[38;5;28mself\u001b[39m\u001b[38;5;241m.\u001b[39m_compiled_call_impl(\u001b[38;5;241m*\u001b[39margs, \u001b[38;5;241m*\u001b[39m\u001b[38;5;241m*\u001b[39mkwargs)  \u001b[38;5;66;03m# type: ignore[misc]\u001b[39;00m\n\u001b[1;32m   1738\u001b[0m \u001b[38;5;28;01melse\u001b[39;00m:\n\u001b[0;32m-> 1739\u001b[0m     \u001b[38;5;28;01mreturn\u001b[39;00m \u001b[38;5;28;43mself\u001b[39;49m\u001b[38;5;241;43m.\u001b[39;49m\u001b[43m_call_impl\u001b[49m\u001b[43m(\u001b[49m\u001b[38;5;241;43m*\u001b[39;49m\u001b[43margs\u001b[49m\u001b[43m,\u001b[49m\u001b[43m \u001b[49m\u001b[38;5;241;43m*\u001b[39;49m\u001b[38;5;241;43m*\u001b[39;49m\u001b[43mkwargs\u001b[49m\u001b[43m)\u001b[49m\n",
      "File \u001b[0;32m~/.local/share/mamba/envs/forked_kugupu/lib/python3.10/site-packages/torch/nn/modules/module.py:1750\u001b[0m, in \u001b[0;36mModule._call_impl\u001b[0;34m(self, *args, **kwargs)\u001b[0m\n\u001b[1;32m   1745\u001b[0m \u001b[38;5;66;03m# If we don't have any hooks, we want to skip the rest of the logic in\u001b[39;00m\n\u001b[1;32m   1746\u001b[0m \u001b[38;5;66;03m# this function, and just call forward.\u001b[39;00m\n\u001b[1;32m   1747\u001b[0m \u001b[38;5;28;01mif\u001b[39;00m \u001b[38;5;129;01mnot\u001b[39;00m (\u001b[38;5;28mself\u001b[39m\u001b[38;5;241m.\u001b[39m_backward_hooks \u001b[38;5;129;01mor\u001b[39;00m \u001b[38;5;28mself\u001b[39m\u001b[38;5;241m.\u001b[39m_backward_pre_hooks \u001b[38;5;129;01mor\u001b[39;00m \u001b[38;5;28mself\u001b[39m\u001b[38;5;241m.\u001b[39m_forward_hooks \u001b[38;5;129;01mor\u001b[39;00m \u001b[38;5;28mself\u001b[39m\u001b[38;5;241m.\u001b[39m_forward_pre_hooks\n\u001b[1;32m   1748\u001b[0m         \u001b[38;5;129;01mor\u001b[39;00m _global_backward_pre_hooks \u001b[38;5;129;01mor\u001b[39;00m _global_backward_hooks\n\u001b[1;32m   1749\u001b[0m         \u001b[38;5;129;01mor\u001b[39;00m _global_forward_hooks \u001b[38;5;129;01mor\u001b[39;00m _global_forward_pre_hooks):\n\u001b[0;32m-> 1750\u001b[0m     \u001b[38;5;28;01mreturn\u001b[39;00m \u001b[43mforward_call\u001b[49m\u001b[43m(\u001b[49m\u001b[38;5;241;43m*\u001b[39;49m\u001b[43margs\u001b[49m\u001b[43m,\u001b[49m\u001b[43m \u001b[49m\u001b[38;5;241;43m*\u001b[39;49m\u001b[38;5;241;43m*\u001b[39;49m\u001b[43mkwargs\u001b[49m\u001b[43m)\u001b[49m\n\u001b[1;32m   1752\u001b[0m result \u001b[38;5;241m=\u001b[39m \u001b[38;5;28;01mNone\u001b[39;00m\n\u001b[1;32m   1753\u001b[0m called_always_called_hooks \u001b[38;5;241m=\u001b[39m \u001b[38;5;28mset\u001b[39m()\n",
      "File \u001b[0;32m~/.local/share/mamba/envs/forked_kugupu/lib/python3.10/site-packages/torch/nn/modules/linear.py:125\u001b[0m, in \u001b[0;36mLinear.forward\u001b[0;34m(self, input)\u001b[0m\n\u001b[1;32m    124\u001b[0m \u001b[38;5;28;01mdef\u001b[39;00m\u001b[38;5;250m \u001b[39m\u001b[38;5;21mforward\u001b[39m(\u001b[38;5;28mself\u001b[39m, \u001b[38;5;28minput\u001b[39m: Tensor) \u001b[38;5;241m-\u001b[39m\u001b[38;5;241m>\u001b[39m Tensor:\n\u001b[0;32m--> 125\u001b[0m     \u001b[38;5;28;01mreturn\u001b[39;00m \u001b[43mF\u001b[49m\u001b[38;5;241;43m.\u001b[39;49m\u001b[43mlinear\u001b[49m\u001b[43m(\u001b[49m\u001b[38;5;28;43minput\u001b[39;49m\u001b[43m,\u001b[49m\u001b[43m \u001b[49m\u001b[38;5;28;43mself\u001b[39;49m\u001b[38;5;241;43m.\u001b[39;49m\u001b[43mweight\u001b[49m\u001b[43m,\u001b[49m\u001b[43m \u001b[49m\u001b[38;5;28;43mself\u001b[39;49m\u001b[38;5;241;43m.\u001b[39;49m\u001b[43mbias\u001b[49m\u001b[43m)\u001b[49m\n",
      "\u001b[0;31mKeyboardInterrupt\u001b[0m: "
     ]
    }
   ],
   "source": [
    "res = kgp.coupling_matrix(u, nn_cutoff=5.0, state='lumo', degeneracy=1, stop=3, model='chadML')"
   ]
  },
  {
   "cell_type": "markdown",
   "metadata": {},
   "source": [
    "The `res` object is a namedtuple which contains all the data necessary to perform further analysis.\n",
    "This object has various attributes which will not be briefly explained.\n",
    "\n",
    "The `.frames` attribute records which frames from the trajectory were analysed.\n",
    "This is useful to later cross reference data with the original MD trajectory data."
   ]
  },
  {
   "cell_type": "code",
   "execution_count": null,
   "metadata": {},
   "outputs": [
    {
     "name": "stdout",
     "output_type": "stream",
     "text": [
      "[0 1 2]\n"
     ]
    }
   ],
   "source": [
    "print(res.frames)"
   ]
  },
  {
   "cell_type": "markdown",
   "metadata": {},
   "source": [
    "The `.degeneracy` attribute stores how many degenerate states were considered for each fragment.\n",
    "This value will not change over time, so this array has shape `nfragments`.\n",
    "\n",
    "In this example only a single state per fragment was considered. "
   ]
  },
  {
   "cell_type": "code",
   "execution_count": null,
   "metadata": {},
   "outputs": [
    {
     "name": "stdout",
     "output_type": "stream",
     "text": [
      "[1 1 1 1 1 1 1 1 1 1 1 1 1 1 1 1 1 1 1 1 1 1 1 1 1 1 1 1 1 1 1 1 1 1 1 1 1\n",
      " 1 1 1 1 1 1 1 1 1 1 1 1 1 1 1 1 1 1 1 1 1 1 1 1 1 1 1 1 1 1 1 1 1 1 1 1 1\n",
      " 1 1 1 1 1 1 1 1 1 1 1 1 1 1 1 1 1 1 1 1 1 1 1 1 1 1 1 1 1 1 1 1 1 1 1 1 1\n",
      " 1 1 1 1 1 1 1 1 1 1 1 1 1 1 1 1 1 1 1 1 1 1 1 1 1 1 1 1 1 1 1 1 1 1 1 1 1\n",
      " 1 1 1 1 1 1 1 1 1 1 1 1 1 1 1 1 1 1 1 1 1 1 1 1 1 1 1 1 1 1 1 1 1 1 1 1 1\n",
      " 1 1 1 1 1 1 1 1 1 1 1 1 1 1 1 1 1 1 1 1 1 1 1 1 1 1 1 1 1 1 1 1 1 1 1 1 1\n",
      " 1 1 1 1 1 1 1 1 1 1 1 1 1 1 1 1 1 1 1 1 1 1 1 1 1 1 1 1]\n"
     ]
    }
   ],
   "source": [
    "print(res.degeneracy)"
   ]
  },
  {
   "cell_type": "markdown",
   "metadata": {},
   "source": [
    "The `.H_frag` attribute contains the molecular coupling values, stored inside a 3d numpy array.\n",
    "The first dimension is along the number of frames (quasi time axis),\n",
    "while the other two move along fragments in the system.\n",
    "\n",
    "For example `res.H_frag[0, 1, 71]` gives the coupling (in eV) between the 2nd and 13th fragments in the first frame."
   ]
  },
  {
   "cell_type": "code",
   "execution_count": null,
   "metadata": {},
   "outputs": [
    {
     "name": "stdout",
     "output_type": "stream",
     "text": [
      "(3, 250, 250)\n",
      "0.0002765886942250739\n"
     ]
    }
   ],
   "source": [
    "print(res.H_frag.shape)\n",
    "\n",
    "print(res.H_frag[2, 1, 71])"
   ]
  },
  {
   "cell_type": "markdown",
   "metadata": {},
   "source": [
    "Producing these results is often a time consuming part of the analysis,\n",
    "therefore it is wise to save them to a file so you can come back to them later!\n",
    "\n",
    "This can be done using the `kugupu.save_results` function, which will save the results to a hdf5 (compressed) format."
   ]
  },
  {
   "cell_type": "code",
   "execution_count": null,
   "metadata": {},
   "outputs": [],
   "source": [
    "kgp.save_results('myresults.hdf5', res)"
   ]
  },
  {
   "cell_type": "markdown",
   "metadata": {},
   "source": [
    "These results can then be retrieved again using the `kugupu.load_results` function:"
   ]
  },
  {
   "cell_type": "code",
   "execution_count": null,
   "metadata": {},
   "outputs": [
    {
     "data": {
      "text/plain": [
       "KugupuResults(frames=array([0, 1, 2]), H_frag=array([[[-10.27936597,   0.        ,   0.        , ...,   0.        ,\n",
       "           0.        ,   0.        ],\n",
       "        [  0.        , -10.32038834,   0.        , ...,   0.        ,\n",
       "           0.        ,   0.        ],\n",
       "        [  0.        ,   0.        , -10.35344287, ...,   0.        ,\n",
       "           0.        ,   0.        ],\n",
       "        ...,\n",
       "        [  0.        ,   0.        ,   0.        , ..., -10.43146138,\n",
       "           0.        ,   0.        ],\n",
       "        [  0.        ,   0.        ,   0.        , ...,   0.        ,\n",
       "         -10.50477574,   0.        ],\n",
       "        [  0.        ,   0.        ,   0.        , ...,   0.        ,\n",
       "           0.        , -10.37584228]],\n",
       "\n",
       "       [[-10.38898008,   0.        ,   0.        , ...,   0.        ,\n",
       "           0.        ,   0.        ],\n",
       "        [  0.        , -10.43337746,   0.        , ...,   0.        ,\n",
       "           0.        ,   0.        ],\n",
       "        [  0.        ,   0.        , -10.44523772, ...,   0.        ,\n",
       "           0.        ,   0.        ],\n",
       "        ...,\n",
       "        [  0.        ,   0.        ,   0.        , ..., -10.34584384,\n",
       "           0.        ,   0.        ],\n",
       "        [  0.        ,   0.        ,   0.        , ...,   0.        ,\n",
       "         -10.30430813,   0.        ],\n",
       "        [  0.        ,   0.        ,   0.        , ...,   0.        ,\n",
       "           0.        , -10.42368578]],\n",
       "\n",
       "       [[-10.34067138,   0.        ,   0.        , ...,   0.        ,\n",
       "           0.        ,   0.        ],\n",
       "        [  0.        , -10.34907937,   0.        , ...,   0.        ,\n",
       "           0.        ,   0.        ],\n",
       "        [  0.        ,   0.        , -10.41644247, ...,   0.        ,\n",
       "           0.        ,   0.        ],\n",
       "        ...,\n",
       "        [  0.        ,   0.        ,   0.        , ..., -10.23528128,\n",
       "           0.        ,   0.        ],\n",
       "        [  0.        ,   0.        ,   0.        , ...,   0.        ,\n",
       "         -10.46742314,   0.        ],\n",
       "        [  0.        ,   0.        ,   0.        , ...,   0.        ,\n",
       "           0.        , -10.41446069]]], shape=(3, 250, 250)), degeneracy=array([1, 1, 1, 1, 1, 1, 1, 1, 1, 1, 1, 1, 1, 1, 1, 1, 1, 1, 1, 1, 1, 1,\n",
       "       1, 1, 1, 1, 1, 1, 1, 1, 1, 1, 1, 1, 1, 1, 1, 1, 1, 1, 1, 1, 1, 1,\n",
       "       1, 1, 1, 1, 1, 1, 1, 1, 1, 1, 1, 1, 1, 1, 1, 1, 1, 1, 1, 1, 1, 1,\n",
       "       1, 1, 1, 1, 1, 1, 1, 1, 1, 1, 1, 1, 1, 1, 1, 1, 1, 1, 1, 1, 1, 1,\n",
       "       1, 1, 1, 1, 1, 1, 1, 1, 1, 1, 1, 1, 1, 1, 1, 1, 1, 1, 1, 1, 1, 1,\n",
       "       1, 1, 1, 1, 1, 1, 1, 1, 1, 1, 1, 1, 1, 1, 1, 1, 1, 1, 1, 1, 1, 1,\n",
       "       1, 1, 1, 1, 1, 1, 1, 1, 1, 1, 1, 1, 1, 1, 1, 1, 1, 1, 1, 1, 1, 1,\n",
       "       1, 1, 1, 1, 1, 1, 1, 1, 1, 1, 1, 1, 1, 1, 1, 1, 1, 1, 1, 1, 1, 1,\n",
       "       1, 1, 1, 1, 1, 1, 1, 1, 1, 1, 1, 1, 1, 1, 1, 1, 1, 1, 1, 1, 1, 1,\n",
       "       1, 1, 1, 1, 1, 1, 1, 1, 1, 1, 1, 1, 1, 1, 1, 1, 1, 1, 1, 1, 1, 1,\n",
       "       1, 1, 1, 1, 1, 1, 1, 1, 1, 1, 1, 1, 1, 1, 1, 1, 1, 1, 1, 1, 1, 1,\n",
       "       1, 1, 1, 1, 1, 1, 1, 1]))"
      ]
     },
     "execution_count": 12,
     "metadata": {},
     "output_type": "execute_result"
    }
   ],
   "source": [
    "kgp.load_results('./myresults.hdf5')"
   ]
  },
  {
   "cell_type": "code",
   "execution_count": null,
   "metadata": {},
   "outputs": [],
   "source": []
  }
 ],
 "metadata": {
  "kernelspec": {
   "display_name": "Python 3",
   "language": "python",
   "name": "python3"
  },
  "language_info": {
   "codemirror_mode": {
    "name": "ipython",
    "version": 3
   },
   "file_extension": ".py",
   "mimetype": "text/x-python",
   "name": "python",
   "nbconvert_exporter": "python",
   "pygments_lexer": "ipython3",
   "version": "3.10.17"
  }
 },
 "nbformat": 4,
 "nbformat_minor": 2
}
